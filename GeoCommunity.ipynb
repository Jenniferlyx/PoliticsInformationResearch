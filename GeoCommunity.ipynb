{
 "cells": [
  {
   "cell_type": "code",
   "execution_count": 1,
   "id": "dacce30a",
   "metadata": {},
   "outputs": [],
   "source": [
    "import TwitterFactCheck\n",
    "import TwitterAPI\n",
    "import importlib\n",
    "import pandas as pd\n",
    "import re\n",
    "import os\n",
    "import numpy as np\n",
    "import json\n",
    "import spacy\n",
    "import logging\n",
    "from collections import Counter\n",
    "import networkx as nx\n",
    "from networkx.algorithms import community\n",
    "import altair as alt\n",
    "from vega_datasets import data\n",
    "import matplotlib.pyplot as plt\n",
    "importlib.reload(TwitterAPI)\n",
    "importlib.reload(TwitterFactCheck)\n",
    "logging.basicConfig(level=logging.INFO)"
   ]
  },
  {
   "cell_type": "markdown",
   "id": "120e8a62",
   "metadata": {},
   "source": [
    "# 1. Load the data and filtering"
   ]
  },
  {
   "cell_type": "code",
   "execution_count": 2,
   "id": "d0ee8ce0",
   "metadata": {},
   "outputs": [],
   "source": [
    "def find_loc(location):\n",
    "    for city in geo[\"Cities\"]:\n",
    "        if city.lower() in location.lower():\n",
    "            return geo[\"Cities\"][city]\n",
    "    for county in geo[\"Counties\"]:\n",
    "        if county.lower() in location.lower():\n",
    "            return geo[\"Counties\"][county]\n",
    "    for key, val in geo[\"States\"].items():\n",
    "        if key in location or val.lower() in location.lower():\n",
    "            return val\n",
    "    return np.NaN"
   ]
  },
  {
   "cell_type": "code",
   "execution_count": 4,
   "id": "9d2b5fad",
   "metadata": {},
   "outputs": [],
   "source": [
    "df_users = pd.read_csv(\"Data/Network/NetworkUsers.csv\", sep=\"\\t\", index_col=\"User_id\")"
   ]
  },
  {
   "cell_type": "code",
   "execution_count": 13,
   "id": "8aa67e5f",
   "metadata": {},
   "outputs": [],
   "source": [
    "df_users = pd.read_csv(\"Data/Network/NetworkUsers.csv\", sep=\"\\t\", index_col=\"User_id\")\n",
    "with open(\"Data/GeoInfo.json\", \"r\") as f:\n",
    "    geo = json.loads(f.read())\n",
    "df_users[\"state\"] = df_users[\"Location\"].astype(str).apply(find_loc)\n",
    "df_loc = df_users.dropna(subset=\"state\").groupby([\"state\"]).count().reset_index()\n",
    "df_loc[\"id\"] = df_loc[\"state\"].apply(geo[\"FIPS\"].get).astype(int)"
   ]
  },
  {
   "cell_type": "code",
   "execution_count": 14,
   "id": "e749c948",
   "metadata": {},
   "outputs": [
    {
     "data": {
      "text/html": [
       "\n",
       "<div id=\"altair-viz-5ae14e63d05246a7a3332ef7f091876f\"></div>\n",
       "<script type=\"text/javascript\">\n",
       "  (function(spec, embedOpt){\n",
       "    let outputDiv = document.currentScript.previousElementSibling;\n",
       "    if (outputDiv.id !== \"altair-viz-5ae14e63d05246a7a3332ef7f091876f\") {\n",
       "      outputDiv = document.getElementById(\"altair-viz-5ae14e63d05246a7a3332ef7f091876f\");\n",
       "    }\n",
       "    const paths = {\n",
       "      \"vega\": \"https://cdn.jsdelivr.net/npm//vega@5?noext\",\n",
       "      \"vega-lib\": \"https://cdn.jsdelivr.net/npm//vega-lib?noext\",\n",
       "      \"vega-lite\": \"https://cdn.jsdelivr.net/npm//vega-lite@4.8.1?noext\",\n",
       "      \"vega-embed\": \"https://cdn.jsdelivr.net/npm//vega-embed@6?noext\",\n",
       "    };\n",
       "\n",
       "    function loadScript(lib) {\n",
       "      return new Promise(function(resolve, reject) {\n",
       "        var s = document.createElement('script');\n",
       "        s.src = paths[lib];\n",
       "        s.async = true;\n",
       "        s.onload = () => resolve(paths[lib]);\n",
       "        s.onerror = () => reject(`Error loading script: ${paths[lib]}`);\n",
       "        document.getElementsByTagName(\"head\")[0].appendChild(s);\n",
       "      });\n",
       "    }\n",
       "\n",
       "    function showError(err) {\n",
       "      outputDiv.innerHTML = `<div class=\"error\" style=\"color:red;\">${err}</div>`;\n",
       "      throw err;\n",
       "    }\n",
       "\n",
       "    function displayChart(vegaEmbed) {\n",
       "      vegaEmbed(outputDiv, spec, embedOpt)\n",
       "        .catch(err => showError(`Javascript Error: ${err.message}<br>This usually means there's a typo in your chart specification. See the javascript console for the full traceback.`));\n",
       "    }\n",
       "\n",
       "    if(typeof define === \"function\" && define.amd) {\n",
       "      requirejs.config({paths});\n",
       "      require([\"vega-embed\"], displayChart, err => showError(`Error loading script: ${err.message}`));\n",
       "    } else if (typeof vegaEmbed === \"function\") {\n",
       "      displayChart(vegaEmbed);\n",
       "    } else {\n",
       "      loadScript(\"vega\")\n",
       "        .then(() => loadScript(\"vega-lite\"))\n",
       "        .then(() => loadScript(\"vega-embed\"))\n",
       "        .catch(showError)\n",
       "        .then(() => displayChart(vegaEmbed));\n",
       "    }\n",
       "  })({\"config\": {\"view\": {\"continuousWidth\": 400, \"continuousHeight\": 300}}, \"data\": {\"url\": \"https://vega.github.io/vega-datasets/data/us-10m.json\", \"format\": {\"feature\": \"states\", \"type\": \"topojson\"}}, \"mark\": \"geoshape\", \"encoding\": {\"color\": {\"type\": \"quantitative\", \"field\": \"Username\"}}, \"projection\": {\"type\": \"albersUsa\"}, \"transform\": [{\"lookup\": \"id\", \"from\": {\"data\": {\"name\": \"data-b5bb96570dee13995542bb869224e1d2\"}, \"key\": \"id\", \"fields\": [\"Username\", \"id\"]}}], \"$schema\": \"https://vega.github.io/schema/vega-lite/v4.8.1.json\", \"datasets\": {\"data-b5bb96570dee13995542bb869224e1d2\": [{\"state\": \"Alabama\", \"Followers_count\": 4, \"Tweet_count\": 4, \"Username\": 4, \"Verified\": 4, \"Created_at\": 4, \"Location\": 4, \"Method\": 4, \"Iteration\": 4, \"id\": 1}, {\"state\": \"Arizona\", \"Followers_count\": 8, \"Tweet_count\": 8, \"Username\": 8, \"Verified\": 8, \"Created_at\": 8, \"Location\": 8, \"Method\": 8, \"Iteration\": 8, \"id\": 4}, {\"state\": \"Arkansas\", \"Followers_count\": 3, \"Tweet_count\": 3, \"Username\": 3, \"Verified\": 3, \"Created_at\": 3, \"Location\": 3, \"Method\": 3, \"Iteration\": 3, \"id\": 5}, {\"state\": \"California\", \"Followers_count\": 32, \"Tweet_count\": 32, \"Username\": 32, \"Verified\": 32, \"Created_at\": 32, \"Location\": 32, \"Method\": 32, \"Iteration\": 32, \"id\": 6}, {\"state\": \"Colorado\", \"Followers_count\": 6, \"Tweet_count\": 6, \"Username\": 6, \"Verified\": 6, \"Created_at\": 6, \"Location\": 6, \"Method\": 6, \"Iteration\": 6, \"id\": 8}, {\"state\": \"Delaware\", \"Followers_count\": 3, \"Tweet_count\": 3, \"Username\": 3, \"Verified\": 3, \"Created_at\": 3, \"Location\": 3, \"Method\": 3, \"Iteration\": 3, \"id\": 10}, {\"state\": \"District of Columbia\", \"Followers_count\": 12, \"Tweet_count\": 12, \"Username\": 12, \"Verified\": 12, \"Created_at\": 12, \"Location\": 12, \"Method\": 12, \"Iteration\": 12, \"id\": 11}, {\"state\": \"Florida\", \"Followers_count\": 13, \"Tweet_count\": 13, \"Username\": 13, \"Verified\": 13, \"Created_at\": 13, \"Location\": 13, \"Method\": 13, \"Iteration\": 13, \"id\": 12}, {\"state\": \"Georgia\", \"Followers_count\": 7, \"Tweet_count\": 7, \"Username\": 7, \"Verified\": 7, \"Created_at\": 7, \"Location\": 7, \"Method\": 7, \"Iteration\": 7, \"id\": 13}, {\"state\": \"Illinois\", \"Followers_count\": 5, \"Tweet_count\": 5, \"Username\": 5, \"Verified\": 5, \"Created_at\": 5, \"Location\": 5, \"Method\": 5, \"Iteration\": 5, \"id\": 17}, {\"state\": \"Indiana\", \"Followers_count\": 2, \"Tweet_count\": 2, \"Username\": 2, \"Verified\": 2, \"Created_at\": 2, \"Location\": 2, \"Method\": 2, \"Iteration\": 2, \"id\": 18}, {\"state\": \"Iowa\", \"Followers_count\": 1, \"Tweet_count\": 1, \"Username\": 1, \"Verified\": 1, \"Created_at\": 1, \"Location\": 1, \"Method\": 1, \"Iteration\": 1, \"id\": 19}, {\"state\": \"Kansas\", \"Followers_count\": 2, \"Tweet_count\": 2, \"Username\": 2, \"Verified\": 2, \"Created_at\": 2, \"Location\": 2, \"Method\": 2, \"Iteration\": 2, \"id\": 20}, {\"state\": \"Louisiana\", \"Followers_count\": 2, \"Tweet_count\": 2, \"Username\": 2, \"Verified\": 2, \"Created_at\": 2, \"Location\": 2, \"Method\": 2, \"Iteration\": 2, \"id\": 22}, {\"state\": \"Maryland\", \"Followers_count\": 2, \"Tweet_count\": 2, \"Username\": 2, \"Verified\": 2, \"Created_at\": 2, \"Location\": 2, \"Method\": 2, \"Iteration\": 2, \"id\": 24}, {\"state\": \"Massachusetts\", \"Followers_count\": 3, \"Tweet_count\": 3, \"Username\": 3, \"Verified\": 3, \"Created_at\": 3, \"Location\": 3, \"Method\": 3, \"Iteration\": 3, \"id\": 25}, {\"state\": \"Michigan\", \"Followers_count\": 5, \"Tweet_count\": 5, \"Username\": 5, \"Verified\": 5, \"Created_at\": 5, \"Location\": 5, \"Method\": 5, \"Iteration\": 5, \"id\": 26}, {\"state\": \"Minnesota\", \"Followers_count\": 3, \"Tweet_count\": 3, \"Username\": 3, \"Verified\": 3, \"Created_at\": 3, \"Location\": 3, \"Method\": 3, \"Iteration\": 3, \"id\": 27}, {\"state\": \"Missouri\", \"Followers_count\": 4, \"Tweet_count\": 4, \"Username\": 4, \"Verified\": 4, \"Created_at\": 4, \"Location\": 4, \"Method\": 4, \"Iteration\": 4, \"id\": 29}, {\"state\": \"Nebraska\", \"Followers_count\": 1, \"Tweet_count\": 1, \"Username\": 1, \"Verified\": 1, \"Created_at\": 1, \"Location\": 1, \"Method\": 1, \"Iteration\": 1, \"id\": 31}, {\"state\": \"Nevada\", \"Followers_count\": 2, \"Tweet_count\": 2, \"Username\": 2, \"Verified\": 2, \"Created_at\": 2, \"Location\": 2, \"Method\": 2, \"Iteration\": 2, \"id\": 32}, {\"state\": \"New Jersey\", \"Followers_count\": 6, \"Tweet_count\": 6, \"Username\": 6, \"Verified\": 6, \"Created_at\": 6, \"Location\": 6, \"Method\": 6, \"Iteration\": 6, \"id\": 34}, {\"state\": \"New Mexico\", \"Followers_count\": 1, \"Tweet_count\": 1, \"Username\": 1, \"Verified\": 1, \"Created_at\": 1, \"Location\": 1, \"Method\": 1, \"Iteration\": 1, \"id\": 35}, {\"state\": \"New York\", \"Followers_count\": 15, \"Tweet_count\": 15, \"Username\": 15, \"Verified\": 15, \"Created_at\": 15, \"Location\": 15, \"Method\": 15, \"Iteration\": 15, \"id\": 36}, {\"state\": \"North Carolina\", \"Followers_count\": 8, \"Tweet_count\": 8, \"Username\": 8, \"Verified\": 8, \"Created_at\": 8, \"Location\": 8, \"Method\": 8, \"Iteration\": 8, \"id\": 37}, {\"state\": \"Ohio\", \"Followers_count\": 8, \"Tweet_count\": 8, \"Username\": 8, \"Verified\": 8, \"Created_at\": 8, \"Location\": 8, \"Method\": 8, \"Iteration\": 8, \"id\": 39}, {\"state\": \"Oklahoma\", \"Followers_count\": 2, \"Tweet_count\": 2, \"Username\": 2, \"Verified\": 2, \"Created_at\": 2, \"Location\": 2, \"Method\": 2, \"Iteration\": 2, \"id\": 40}, {\"state\": \"Oregon\", \"Followers_count\": 6, \"Tweet_count\": 6, \"Username\": 6, \"Verified\": 6, \"Created_at\": 6, \"Location\": 6, \"Method\": 6, \"Iteration\": 6, \"id\": 41}, {\"state\": \"Pennsylvania\", \"Followers_count\": 6, \"Tweet_count\": 6, \"Username\": 6, \"Verified\": 6, \"Created_at\": 6, \"Location\": 6, \"Method\": 6, \"Iteration\": 6, \"id\": 42}, {\"state\": \"Puerto Rico\", \"Followers_count\": 1, \"Tweet_count\": 1, \"Username\": 1, \"Verified\": 1, \"Created_at\": 1, \"Location\": 1, \"Method\": 1, \"Iteration\": 1, \"id\": 72}, {\"state\": \"South Carolina\", \"Followers_count\": 3, \"Tweet_count\": 3, \"Username\": 3, \"Verified\": 3, \"Created_at\": 3, \"Location\": 3, \"Method\": 3, \"Iteration\": 3, \"id\": 45}, {\"state\": \"Tennessee\", \"Followers_count\": 3, \"Tweet_count\": 3, \"Username\": 3, \"Verified\": 3, \"Created_at\": 3, \"Location\": 3, \"Method\": 3, \"Iteration\": 3, \"id\": 47}, {\"state\": \"Texas\", \"Followers_count\": 25, \"Tweet_count\": 25, \"Username\": 25, \"Verified\": 25, \"Created_at\": 25, \"Location\": 25, \"Method\": 25, \"Iteration\": 25, \"id\": 48}, {\"state\": \"Utah\", \"Followers_count\": 2, \"Tweet_count\": 2, \"Username\": 2, \"Verified\": 2, \"Created_at\": 2, \"Location\": 2, \"Method\": 2, \"Iteration\": 2, \"id\": 49}, {\"state\": \"Virginia\", \"Followers_count\": 4, \"Tweet_count\": 4, \"Username\": 4, \"Verified\": 4, \"Created_at\": 4, \"Location\": 4, \"Method\": 4, \"Iteration\": 4, \"id\": 51}, {\"state\": \"Washington\", \"Followers_count\": 1, \"Tweet_count\": 1, \"Username\": 1, \"Verified\": 1, \"Created_at\": 1, \"Location\": 1, \"Method\": 1, \"Iteration\": 1, \"id\": 53}, {\"state\": \"Wisconsin\", \"Followers_count\": 7, \"Tweet_count\": 7, \"Username\": 7, \"Verified\": 7, \"Created_at\": 7, \"Location\": 7, \"Method\": 7, \"Iteration\": 7, \"id\": 55}]}}, {\"mode\": \"vega-lite\"});\n",
       "</script>"
      ],
      "text/plain": [
       "alt.Chart(...)"
      ]
     },
     "execution_count": 14,
     "metadata": {},
     "output_type": "execute_result"
    }
   ],
   "source": [
    "states = alt.topo_feature(data.us_10m.url, 'states')\n",
    "alt.Chart(states).mark_geoshape().transform_lookup(\n",
    "    lookup='id',\n",
    "    from_=alt.LookupData(df_loc, 'id', [\"Username\", \"id\"])\n",
    ").encode(\n",
    "    color=\"Username:Q\",\n",
    ").project(type='albersUsa') "
   ]
  },
  {
   "cell_type": "markdown",
   "id": "2f32455a",
   "metadata": {},
   "source": [
    "# 3. Build the network and detect the communities"
   ]
  },
  {
   "cell_type": "code",
   "execution_count": 27,
   "id": "025f9b15",
   "metadata": {},
   "outputs": [
    {
     "name": "stderr",
     "output_type": "stream",
     "text": [
      "<timed exec>:3: DtypeWarning: Columns (3,4) have mixed types. Specify dtype option on import or set low_memory=False.\n"
     ]
    },
    {
     "ename": "KeyError",
     "evalue": "7.660577483164221e+17",
     "output_type": "error",
     "traceback": [
      "\u001b[0;31m---------------------------------------------------------------------------\u001b[0m",
      "\u001b[0;31mKeyError\u001b[0m                                  Traceback (most recent call last)",
      "File \u001b[0;32m~/anaconda3/envs/check-worth/lib/python3.9/site-packages/pandas/core/indexes/base.py:3621\u001b[0m, in \u001b[0;36mIndex.get_loc\u001b[0;34m(self, key, method, tolerance)\u001b[0m\n\u001b[1;32m   3620\u001b[0m \u001b[39mtry\u001b[39;00m:\n\u001b[0;32m-> 3621\u001b[0m     \u001b[39mreturn\u001b[39;00m \u001b[39mself\u001b[39;49m\u001b[39m.\u001b[39;49m_engine\u001b[39m.\u001b[39;49mget_loc(casted_key)\n\u001b[1;32m   3622\u001b[0m \u001b[39mexcept\u001b[39;00m \u001b[39mKeyError\u001b[39;00m \u001b[39mas\u001b[39;00m err:\n",
      "File \u001b[0;32m~/anaconda3/envs/check-worth/lib/python3.9/site-packages/pandas/_libs/index.pyx:136\u001b[0m, in \u001b[0;36mpandas._libs.index.IndexEngine.get_loc\u001b[0;34m()\u001b[0m\n",
      "File \u001b[0;32m~/anaconda3/envs/check-worth/lib/python3.9/site-packages/pandas/_libs/index.pyx:160\u001b[0m, in \u001b[0;36mpandas._libs.index.IndexEngine.get_loc\u001b[0;34m()\u001b[0m\n",
      "File \u001b[0;32m~/anaconda3/envs/check-worth/lib/python3.9/site-packages/pandas/_libs/index.pyx:201\u001b[0m, in \u001b[0;36mpandas._libs.index.IndexEngine._get_loc_duplicates\u001b[0;34m()\u001b[0m\n",
      "File \u001b[0;32m~/anaconda3/envs/check-worth/lib/python3.9/site-packages/pandas/_libs/index.pyx:209\u001b[0m, in \u001b[0;36mpandas._libs.index.IndexEngine._maybe_get_bool_indexer\u001b[0;34m()\u001b[0m\n",
      "File \u001b[0;32m~/anaconda3/envs/check-worth/lib/python3.9/site-packages/pandas/_libs/index.pyx:107\u001b[0m, in \u001b[0;36mpandas._libs.index._unpack_bool_indexer\u001b[0;34m()\u001b[0m\n",
      "\u001b[0;31mKeyError\u001b[0m: 766057748316422144",
      "\nThe above exception was the direct cause of the following exception:\n",
      "\u001b[0;31mKeyError\u001b[0m                                  Traceback (most recent call last)",
      "File \u001b[0;32m<timed exec>:4\u001b[0m, in \u001b[0;36m<module>\u001b[0;34m\u001b[0m\n",
      "File \u001b[0;32m~/anaconda3/envs/check-worth/lib/python3.9/site-packages/pandas/core/series.py:4433\u001b[0m, in \u001b[0;36mSeries.apply\u001b[0;34m(self, func, convert_dtype, args, **kwargs)\u001b[0m\n\u001b[1;32m   4323\u001b[0m \u001b[39mdef\u001b[39;00m \u001b[39mapply\u001b[39m(\n\u001b[1;32m   4324\u001b[0m     \u001b[39mself\u001b[39m,\n\u001b[1;32m   4325\u001b[0m     func: AggFuncType,\n\u001b[0;32m   (...)\u001b[0m\n\u001b[1;32m   4328\u001b[0m     \u001b[39m*\u001b[39m\u001b[39m*\u001b[39mkwargs,\n\u001b[1;32m   4329\u001b[0m ) \u001b[39m-\u001b[39m\u001b[39m>\u001b[39m DataFrame \u001b[39m|\u001b[39m Series:\n\u001b[1;32m   4330\u001b[0m     \u001b[39m\"\"\"\u001b[39;00m\n\u001b[1;32m   4331\u001b[0m \u001b[39m    Invoke function on values of Series.\u001b[39;00m\n\u001b[1;32m   4332\u001b[0m \n\u001b[0;32m   (...)\u001b[0m\n\u001b[1;32m   4431\u001b[0m \u001b[39m    dtype: float64\u001b[39;00m\n\u001b[1;32m   4432\u001b[0m \u001b[39m    \"\"\"\u001b[39;00m\n\u001b[0;32m-> 4433\u001b[0m     \u001b[39mreturn\u001b[39;00m SeriesApply(\u001b[39mself\u001b[39;49m, func, convert_dtype, args, kwargs)\u001b[39m.\u001b[39;49mapply()\n",
      "File \u001b[0;32m~/anaconda3/envs/check-worth/lib/python3.9/site-packages/pandas/core/apply.py:1082\u001b[0m, in \u001b[0;36mSeriesApply.apply\u001b[0;34m(self)\u001b[0m\n\u001b[1;32m   1078\u001b[0m \u001b[39mif\u001b[39;00m \u001b[39misinstance\u001b[39m(\u001b[39mself\u001b[39m\u001b[39m.\u001b[39mf, \u001b[39mstr\u001b[39m):\n\u001b[1;32m   1079\u001b[0m     \u001b[39m# if we are a string, try to dispatch\u001b[39;00m\n\u001b[1;32m   1080\u001b[0m     \u001b[39mreturn\u001b[39;00m \u001b[39mself\u001b[39m\u001b[39m.\u001b[39mapply_str()\n\u001b[0;32m-> 1082\u001b[0m \u001b[39mreturn\u001b[39;00m \u001b[39mself\u001b[39;49m\u001b[39m.\u001b[39;49mapply_standard()\n",
      "File \u001b[0;32m~/anaconda3/envs/check-worth/lib/python3.9/site-packages/pandas/core/apply.py:1137\u001b[0m, in \u001b[0;36mSeriesApply.apply_standard\u001b[0;34m(self)\u001b[0m\n\u001b[1;32m   1131\u001b[0m         values \u001b[39m=\u001b[39m obj\u001b[39m.\u001b[39mastype(\u001b[39mobject\u001b[39m)\u001b[39m.\u001b[39m_values\n\u001b[1;32m   1132\u001b[0m         \u001b[39m# error: Argument 2 to \"map_infer\" has incompatible type\u001b[39;00m\n\u001b[1;32m   1133\u001b[0m         \u001b[39m# \"Union[Callable[..., Any], str, List[Union[Callable[..., Any], str]],\u001b[39;00m\n\u001b[1;32m   1134\u001b[0m         \u001b[39m# Dict[Hashable, Union[Union[Callable[..., Any], str],\u001b[39;00m\n\u001b[1;32m   1135\u001b[0m         \u001b[39m# List[Union[Callable[..., Any], str]]]]]\"; expected\u001b[39;00m\n\u001b[1;32m   1136\u001b[0m         \u001b[39m# \"Callable[[Any], Any]\"\u001b[39;00m\n\u001b[0;32m-> 1137\u001b[0m         mapped \u001b[39m=\u001b[39m lib\u001b[39m.\u001b[39;49mmap_infer(\n\u001b[1;32m   1138\u001b[0m             values,\n\u001b[1;32m   1139\u001b[0m             f,  \u001b[39m# type: ignore[arg-type]\u001b[39;49;00m\n\u001b[1;32m   1140\u001b[0m             convert\u001b[39m=\u001b[39;49m\u001b[39mself\u001b[39;49m\u001b[39m.\u001b[39;49mconvert_dtype,\n\u001b[1;32m   1141\u001b[0m         )\n\u001b[1;32m   1143\u001b[0m \u001b[39mif\u001b[39;00m \u001b[39mlen\u001b[39m(mapped) \u001b[39mand\u001b[39;00m \u001b[39misinstance\u001b[39m(mapped[\u001b[39m0\u001b[39m], ABCSeries):\n\u001b[1;32m   1144\u001b[0m     \u001b[39m# GH#43986 Need to do list(mapped) in order to get treated as nested\u001b[39;00m\n\u001b[1;32m   1145\u001b[0m     \u001b[39m#  See also GH#25959 regarding EA support\u001b[39;00m\n\u001b[1;32m   1146\u001b[0m     \u001b[39mreturn\u001b[39;00m obj\u001b[39m.\u001b[39m_constructor_expanddim(\u001b[39mlist\u001b[39m(mapped), index\u001b[39m=\u001b[39mobj\u001b[39m.\u001b[39mindex)\n",
      "File \u001b[0;32m~/anaconda3/envs/check-worth/lib/python3.9/site-packages/pandas/_libs/lib.pyx:2870\u001b[0m, in \u001b[0;36mpandas._libs.lib.map_infer\u001b[0;34m()\u001b[0m\n",
      "File \u001b[0;32m<timed exec>:4\u001b[0m, in \u001b[0;36m<lambda>\u001b[0;34m(x)\u001b[0m\n",
      "File \u001b[0;32m~/anaconda3/envs/check-worth/lib/python3.9/site-packages/pandas/core/indexing.py:967\u001b[0m, in \u001b[0;36m_LocationIndexer.__getitem__\u001b[0;34m(self, key)\u001b[0m\n\u001b[1;32m    964\u001b[0m axis \u001b[39m=\u001b[39m \u001b[39mself\u001b[39m\u001b[39m.\u001b[39maxis \u001b[39mor\u001b[39;00m \u001b[39m0\u001b[39m\n\u001b[1;32m    966\u001b[0m maybe_callable \u001b[39m=\u001b[39m com\u001b[39m.\u001b[39mapply_if_callable(key, \u001b[39mself\u001b[39m\u001b[39m.\u001b[39mobj)\n\u001b[0;32m--> 967\u001b[0m \u001b[39mreturn\u001b[39;00m \u001b[39mself\u001b[39;49m\u001b[39m.\u001b[39;49m_getitem_axis(maybe_callable, axis\u001b[39m=\u001b[39;49maxis)\n",
      "File \u001b[0;32m~/anaconda3/envs/check-worth/lib/python3.9/site-packages/pandas/core/indexing.py:1202\u001b[0m, in \u001b[0;36m_LocIndexer._getitem_axis\u001b[0;34m(self, key, axis)\u001b[0m\n\u001b[1;32m   1200\u001b[0m \u001b[39m# fall thru to straight lookup\u001b[39;00m\n\u001b[1;32m   1201\u001b[0m \u001b[39mself\u001b[39m\u001b[39m.\u001b[39m_validate_key(key, axis)\n\u001b[0;32m-> 1202\u001b[0m \u001b[39mreturn\u001b[39;00m \u001b[39mself\u001b[39;49m\u001b[39m.\u001b[39;49m_get_label(key, axis\u001b[39m=\u001b[39;49maxis)\n",
      "File \u001b[0;32m~/anaconda3/envs/check-worth/lib/python3.9/site-packages/pandas/core/indexing.py:1153\u001b[0m, in \u001b[0;36m_LocIndexer._get_label\u001b[0;34m(self, label, axis)\u001b[0m\n\u001b[1;32m   1151\u001b[0m \u001b[39mdef\u001b[39;00m \u001b[39m_get_label\u001b[39m(\u001b[39mself\u001b[39m, label, axis: \u001b[39mint\u001b[39m):\n\u001b[1;32m   1152\u001b[0m     \u001b[39m# GH#5667 this will fail if the label is not present in the axis.\u001b[39;00m\n\u001b[0;32m-> 1153\u001b[0m     \u001b[39mreturn\u001b[39;00m \u001b[39mself\u001b[39;49m\u001b[39m.\u001b[39;49mobj\u001b[39m.\u001b[39;49mxs(label, axis\u001b[39m=\u001b[39;49maxis)\n",
      "File \u001b[0;32m~/anaconda3/envs/check-worth/lib/python3.9/site-packages/pandas/core/generic.py:3876\u001b[0m, in \u001b[0;36mNDFrame.xs\u001b[0;34m(self, key, axis, level, drop_level)\u001b[0m\n\u001b[1;32m   3874\u001b[0m             new_index \u001b[39m=\u001b[39m index[loc]\n\u001b[1;32m   3875\u001b[0m \u001b[39melse\u001b[39;00m:\n\u001b[0;32m-> 3876\u001b[0m     loc \u001b[39m=\u001b[39m index\u001b[39m.\u001b[39;49mget_loc(key)\n\u001b[1;32m   3878\u001b[0m     \u001b[39mif\u001b[39;00m \u001b[39misinstance\u001b[39m(loc, np\u001b[39m.\u001b[39mndarray):\n\u001b[1;32m   3879\u001b[0m         \u001b[39mif\u001b[39;00m loc\u001b[39m.\u001b[39mdtype \u001b[39m==\u001b[39m np\u001b[39m.\u001b[39mbool_:\n",
      "File \u001b[0;32m~/anaconda3/envs/check-worth/lib/python3.9/site-packages/pandas/core/indexes/base.py:3623\u001b[0m, in \u001b[0;36mIndex.get_loc\u001b[0;34m(self, key, method, tolerance)\u001b[0m\n\u001b[1;32m   3621\u001b[0m     \u001b[39mreturn\u001b[39;00m \u001b[39mself\u001b[39m\u001b[39m.\u001b[39m_engine\u001b[39m.\u001b[39mget_loc(casted_key)\n\u001b[1;32m   3622\u001b[0m \u001b[39mexcept\u001b[39;00m \u001b[39mKeyError\u001b[39;00m \u001b[39mas\u001b[39;00m err:\n\u001b[0;32m-> 3623\u001b[0m     \u001b[39mraise\u001b[39;00m \u001b[39mKeyError\u001b[39;00m(key) \u001b[39mfrom\u001b[39;00m \u001b[39merr\u001b[39;00m\n\u001b[1;32m   3624\u001b[0m \u001b[39mexcept\u001b[39;00m \u001b[39mTypeError\u001b[39;00m:\n\u001b[1;32m   3625\u001b[0m     \u001b[39m# If we have a listlike key, _check_indexing_error will raise\u001b[39;00m\n\u001b[1;32m   3626\u001b[0m     \u001b[39m#  InvalidIndexError. Otherwise we fall through and re-raise\u001b[39;00m\n\u001b[1;32m   3627\u001b[0m     \u001b[39m#  the TypeError.\u001b[39;00m\n\u001b[1;32m   3628\u001b[0m     \u001b[39mself\u001b[39m\u001b[39m.\u001b[39m_check_indexing_error(key)\n",
      "\u001b[0;31mKeyError\u001b[0m: 7.660577483164221e+17"
     ]
    }
   ],
   "source": [
    "%%time\n",
    "authors = set()\n",
    "edges = list()\n",
    "df_conn = pd.read_csv(\"Data/Network/NetworkTweets.csv\", sep=\"\\t\", index_col=\"id\").dropna(subset={\"u1\", \"u2\"})\n",
    "df_conn[\"author1\"] = df_conn[\"u1\"].apply(lambda x: df_users.loc[x][\"Username\"])\n",
    "df_conn[\"author2\"] = df_conn[\"u2\"].apply(lambda x: df_users.loc[x][\"Username\"])\n",
    "df_conn = df_conn.dropna(subset={\"author1\", \"author2\"})\n",
    "# for i, row in df_conn.iterrows():\n",
    "#     a1, a2 = row.author1, row.author2\n",
    "#     authors = authors | {a1, a2}\n",
    "#     edges.append([a1, a2])\n",
    "# author_dict = {author: i for i, author in enumerate(sorted(authors))}\n",
    "# edges = [(author_dict[a1], author_dict[a2]) for a1, a2 in edges]\n",
    "# edges = dict(Counter(edges))"
   ]
  },
  {
   "cell_type": "code",
   "execution_count": null,
   "id": "992e798a",
   "metadata": {},
   "outputs": [],
   "source": [
    "#  Build the community in unweighted graph\n",
    "G = nx.Graph()\n",
    "G.add_edges_from(edges.keys())\n",
    "comm_uw = community.greedy_modularity_communities(G)\n",
    "plt.figure(figsize=(12,12))\n",
    "nx.draw(G, with_labels=True, node_size=500)\n",
    "# nx.write_gexf(G, \"Graph/unweighted.gexf\")"
   ]
  },
  {
   "cell_type": "code",
   "execution_count": null,
   "id": "0dba472e",
   "metadata": {},
   "outputs": [],
   "source": [
    "#  Build the community in weighted graph\n",
    "G = nx.Graph()\n",
    "for edge, weight in edges.items():\n",
    "    G.add_edge(*edge, weight=weight)\n",
    "comm = community.greedy_modularity_communities(G, \"weights\")\n",
    "plt.figure(figsize=(15,15))\n",
    "nx.draw(G, with_labels=True, node_size=500)\n",
    "# nx.write_gexf(G, \"Graph/weighted.gexf\")"
   ]
  },
  {
   "cell_type": "markdown",
   "id": "aa33cf51",
   "metadata": {},
   "source": [
    "# 4. Find someone popular"
   ]
  },
  {
   "cell_type": "code",
   "execution_count": 45,
   "id": "fcc27511",
   "metadata": {},
   "outputs": [],
   "source": [
    "ct = Counter(df_conn.u1)\n",
    "ct.update(df_conn.u2)\n",
    "df_hot = pd.DataFrame(pd.Series(ct).sort_values(ascending=False), columns=[\"count\"])\n",
    "df_hot[\"username\"] = df_users[\"username\"]"
   ]
  },
  {
   "cell_type": "code",
   "execution_count": 48,
   "id": "377eb241",
   "metadata": {},
   "outputs": [
    {
     "data": {
      "text/html": [
       "<div>\n",
       "<style scoped>\n",
       "    .dataframe tbody tr th:only-of-type {\n",
       "        vertical-align: middle;\n",
       "    }\n",
       "\n",
       "    .dataframe tbody tr th {\n",
       "        vertical-align: top;\n",
       "    }\n",
       "\n",
       "    .dataframe thead th {\n",
       "        text-align: right;\n",
       "    }\n",
       "</style>\n",
       "<table border=\"1\" class=\"dataframe\">\n",
       "  <thead>\n",
       "    <tr style=\"text-align: right;\">\n",
       "      <th></th>\n",
       "      <th>count</th>\n",
       "      <th>username</th>\n",
       "    </tr>\n",
       "  </thead>\n",
       "  <tbody>\n",
       "    <tr>\n",
       "      <th>20545835</th>\n",
       "      <td>42430</td>\n",
       "      <td>newsmax</td>\n",
       "    </tr>\n",
       "    <tr>\n",
       "      <th>2836421</th>\n",
       "      <td>38556</td>\n",
       "      <td>MSNBC</td>\n",
       "    </tr>\n",
       "    <tr>\n",
       "      <th>8953122</th>\n",
       "      <td>11376</td>\n",
       "      <td>PolitiFact</td>\n",
       "    </tr>\n",
       "    <tr>\n",
       "      <th>21925564</th>\n",
       "      <td>9022</td>\n",
       "      <td>PogueMoran</td>\n",
       "    </tr>\n",
       "    <tr>\n",
       "      <th>980526530</th>\n",
       "      <td>7666</td>\n",
       "      <td>hvnacuba76</td>\n",
       "    </tr>\n",
       "    <tr>\n",
       "      <th>1691491086</th>\n",
       "      <td>7552</td>\n",
       "      <td>Craig1454</td>\n",
       "    </tr>\n",
       "    <tr>\n",
       "      <th>520817923</th>\n",
       "      <td>6769</td>\n",
       "      <td>DimensioT</td>\n",
       "    </tr>\n",
       "    <tr>\n",
       "      <th>70394965</th>\n",
       "      <td>6749</td>\n",
       "      <td>citizentvkenya</td>\n",
       "    </tr>\n",
       "    <tr>\n",
       "      <th>632859279</th>\n",
       "      <td>6604</td>\n",
       "      <td>RadioCitizenFM</td>\n",
       "    </tr>\n",
       "    <tr>\n",
       "      <th>312149882</th>\n",
       "      <td>6028</td>\n",
       "      <td>Chris_1791</td>\n",
       "    </tr>\n",
       "  </tbody>\n",
       "</table>\n",
       "</div>"
      ],
      "text/plain": [
       "            count        username\n",
       "20545835    42430         newsmax\n",
       "2836421     38556           MSNBC\n",
       "8953122     11376      PolitiFact\n",
       "21925564     9022      PogueMoran\n",
       "980526530    7666      hvnacuba76\n",
       "1691491086   7552       Craig1454\n",
       "520817923    6769       DimensioT\n",
       "70394965     6749  citizentvkenya\n",
       "632859279    6604  RadioCitizenFM\n",
       "312149882    6028      Chris_1791"
      ]
     },
     "execution_count": 48,
     "metadata": {},
     "output_type": "execute_result"
    }
   ],
   "source": [
    "df_hot.iloc[:10]"
   ]
  }
 ],
 "metadata": {
  "kernelspec": {
   "display_name": "Python 3.9.0 ('check-worth')",
   "language": "python",
   "name": "python3"
  },
  "language_info": {
   "codemirror_mode": {
    "name": "ipython",
    "version": 3
   },
   "file_extension": ".py",
   "mimetype": "text/x-python",
   "name": "python",
   "nbconvert_exporter": "python",
   "pygments_lexer": "ipython3",
   "version": "3.9.0"
  },
  "vscode": {
   "interpreter": {
    "hash": "96a8dfc6bc44c14ddadbc62dbffb66ac336c1ae4d2e5263417ff330e93ba100e"
   }
  }
 },
 "nbformat": 4,
 "nbformat_minor": 5
}
