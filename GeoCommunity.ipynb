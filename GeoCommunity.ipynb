{
 "cells": [
  {
   "cell_type": "code",
   "execution_count": 49,
   "id": "dacce30a",
   "metadata": {},
   "outputs": [],
   "source": [
    "import TwitterFactCheck\n",
    "import TwitterAPI\n",
    "import importlib\n",
    "import pandas as pd\n",
    "import re\n",
    "import os\n",
    "import numpy as np\n",
    "import json\n",
    "import spacy\n",
    "import logging\n",
    "from collections import Counter\n",
    "import networkx as nx\n",
    "from networkx.algorithms import community\n",
    "import altair as alt\n",
    "from vega_datasets import data\n",
    "import matplotlib.pyplot as plt\n",
    "importlib.reload(TwitterAPI)\n",
    "importlib.reload(TwitterFactCheck)\n",
    "logging.basicConfig(level=logging.INFO)"
   ]
  },
  {
   "cell_type": "markdown",
   "id": "120e8a62",
   "metadata": {},
   "source": [
    "# 1. Load the data and filtering"
   ]
  },
  {
   "cell_type": "code",
   "execution_count": 50,
   "id": "d0ee8ce0",
   "metadata": {},
   "outputs": [],
   "source": [
    "def find_loc(location):\n",
    "    for city in geo[\"Cities\"]:\n",
    "        if city.lower() in location.lower():\n",
    "            return geo[\"Cities\"][city]\n",
    "    for county in geo[\"Counties\"]:\n",
    "        if county.lower() in location.lower():\n",
    "            return geo[\"Counties\"][county]\n",
    "    for key, val in geo[\"States\"].items():\n",
    "        if key in location or val.lower() in location.lower():\n",
    "            return val\n",
    "    return np.NaN"
   ]
  },
  {
   "cell_type": "code",
   "execution_count": 51,
   "id": "8aa67e5f",
   "metadata": {},
   "outputs": [],
   "source": [
    "df_users = pd.read_csv(\"Data/SusUsers.csv\", sep=\"\\t\", index_col=\"user_id\")\n",
    "with open(\"Data/GeoInfo.json\", \"r\") as f:\n",
    "    geo = json.loads(f.read())\n",
    "df_users[\"state\"] = df_users.location.astype(str).apply(find_loc)\n",
    "df_loc = df_users.dropna(subset=\"state\").groupby([\"state\"]).count().reset_index()\n",
    "df_loc[\"id\"] = df_loc.state.apply(geo[\"FIPS\"].get).astype(int)"
   ]
  },
  {
   "cell_type": "code",
   "execution_count": 52,
   "id": "e749c948",
   "metadata": {},
   "outputs": [
    {
     "data": {
      "text/html": [
       "\n",
       "<div id=\"altair-viz-c77a8f353fce45018859507394d3664c\"></div>\n",
       "<script type=\"text/javascript\">\n",
       "  (function(spec, embedOpt){\n",
       "    let outputDiv = document.currentScript.previousElementSibling;\n",
       "    if (outputDiv.id !== \"altair-viz-c77a8f353fce45018859507394d3664c\") {\n",
       "      outputDiv = document.getElementById(\"altair-viz-c77a8f353fce45018859507394d3664c\");\n",
       "    }\n",
       "    const paths = {\n",
       "      \"vega\": \"https://cdn.jsdelivr.net/npm//vega@5?noext\",\n",
       "      \"vega-lib\": \"https://cdn.jsdelivr.net/npm//vega-lib?noext\",\n",
       "      \"vega-lite\": \"https://cdn.jsdelivr.net/npm//vega-lite@4.8.1?noext\",\n",
       "      \"vega-embed\": \"https://cdn.jsdelivr.net/npm//vega-embed@6?noext\",\n",
       "    };\n",
       "\n",
       "    function loadScript(lib) {\n",
       "      return new Promise(function(resolve, reject) {\n",
       "        var s = document.createElement('script');\n",
       "        s.src = paths[lib];\n",
       "        s.async = true;\n",
       "        s.onload = () => resolve(paths[lib]);\n",
       "        s.onerror = () => reject(`Error loading script: ${paths[lib]}`);\n",
       "        document.getElementsByTagName(\"head\")[0].appendChild(s);\n",
       "      });\n",
       "    }\n",
       "\n",
       "    function showError(err) {\n",
       "      outputDiv.innerHTML = `<div class=\"error\" style=\"color:red;\">${err}</div>`;\n",
       "      throw err;\n",
       "    }\n",
       "\n",
       "    function displayChart(vegaEmbed) {\n",
       "      vegaEmbed(outputDiv, spec, embedOpt)\n",
       "        .catch(err => showError(`Javascript Error: ${err.message}<br>This usually means there's a typo in your chart specification. See the javascript console for the full traceback.`));\n",
       "    }\n",
       "\n",
       "    if(typeof define === \"function\" && define.amd) {\n",
       "      requirejs.config({paths});\n",
       "      require([\"vega-embed\"], displayChart, err => showError(`Error loading script: ${err.message}`));\n",
       "    } else if (typeof vegaEmbed === \"function\") {\n",
       "      displayChart(vegaEmbed);\n",
       "    } else {\n",
       "      loadScript(\"vega\")\n",
       "        .then(() => loadScript(\"vega-lite\"))\n",
       "        .then(() => loadScript(\"vega-embed\"))\n",
       "        .catch(showError)\n",
       "        .then(() => displayChart(vegaEmbed));\n",
       "    }\n",
       "  })({\"config\": {\"view\": {\"continuousWidth\": 400, \"continuousHeight\": 300}}, \"data\": {\"url\": \"https://vega.github.io/vega-datasets/data/us-10m.json\", \"format\": {\"feature\": \"states\", \"type\": \"topojson\"}}, \"mark\": \"geoshape\", \"encoding\": {\"color\": {\"type\": \"quantitative\", \"field\": \"username\"}}, \"projection\": {\"type\": \"albersUsa\"}, \"transform\": [{\"lookup\": \"id\", \"from\": {\"data\": {\"name\": \"data-9f333c03dd42936d80ee447297afc712\"}, \"key\": \"id\", \"fields\": [\"username\", \"id\"]}}], \"$schema\": \"https://vega.github.io/schema/vega-lite/v4.8.1.json\", \"datasets\": {\"data-9f333c03dd42936d80ee447297afc712\": [{\"state\": \"Alabama\", \"username\": 7, \"verified\": 7, \"followers_count\": 7, \"tweet_count\": 7, \"created_at\": 7, \"location\": 7, \"id\": 1}, {\"state\": \"Alaska\", \"username\": 2, \"verified\": 2, \"followers_count\": 2, \"tweet_count\": 2, \"created_at\": 2, \"location\": 2, \"id\": 2}, {\"state\": \"Arizona\", \"username\": 12, \"verified\": 12, \"followers_count\": 12, \"tweet_count\": 12, \"created_at\": 12, \"location\": 12, \"id\": 4}, {\"state\": \"Arkansas\", \"username\": 2, \"verified\": 2, \"followers_count\": 2, \"tweet_count\": 2, \"created_at\": 2, \"location\": 2, \"id\": 5}, {\"state\": \"California\", \"username\": 28, \"verified\": 28, \"followers_count\": 28, \"tweet_count\": 28, \"created_at\": 28, \"location\": 28, \"id\": 6}, {\"state\": \"Colorado\", \"username\": 6, \"verified\": 6, \"followers_count\": 6, \"tweet_count\": 6, \"created_at\": 6, \"location\": 6, \"id\": 8}, {\"state\": \"Connecticut\", \"username\": 3, \"verified\": 3, \"followers_count\": 3, \"tweet_count\": 3, \"created_at\": 3, \"location\": 3, \"id\": 9}, {\"state\": \"District of Columbia\", \"username\": 10, \"verified\": 10, \"followers_count\": 10, \"tweet_count\": 10, \"created_at\": 10, \"location\": 10, \"id\": 11}, {\"state\": \"Florida\", \"username\": 24, \"verified\": 24, \"followers_count\": 24, \"tweet_count\": 24, \"created_at\": 24, \"location\": 24, \"id\": 12}, {\"state\": \"Georgia\", \"username\": 6, \"verified\": 6, \"followers_count\": 6, \"tweet_count\": 6, \"created_at\": 6, \"location\": 6, \"id\": 13}, {\"state\": \"Idaho\", \"username\": 1, \"verified\": 1, \"followers_count\": 1, \"tweet_count\": 1, \"created_at\": 1, \"location\": 1, \"id\": 16}, {\"state\": \"Illinois\", \"username\": 8, \"verified\": 8, \"followers_count\": 8, \"tweet_count\": 8, \"created_at\": 8, \"location\": 8, \"id\": 17}, {\"state\": \"Indiana\", \"username\": 5, \"verified\": 5, \"followers_count\": 5, \"tweet_count\": 5, \"created_at\": 5, \"location\": 5, \"id\": 18}, {\"state\": \"Iowa\", \"username\": 2, \"verified\": 2, \"followers_count\": 2, \"tweet_count\": 2, \"created_at\": 2, \"location\": 2, \"id\": 19}, {\"state\": \"Kansas\", \"username\": 3, \"verified\": 3, \"followers_count\": 3, \"tweet_count\": 3, \"created_at\": 3, \"location\": 3, \"id\": 20}, {\"state\": \"Kentucky\", \"username\": 3, \"verified\": 3, \"followers_count\": 3, \"tweet_count\": 3, \"created_at\": 3, \"location\": 3, \"id\": 21}, {\"state\": \"Louisiana\", \"username\": 1, \"verified\": 1, \"followers_count\": 1, \"tweet_count\": 1, \"created_at\": 1, \"location\": 1, \"id\": 22}, {\"state\": \"Maine\", \"username\": 4, \"verified\": 4, \"followers_count\": 4, \"tweet_count\": 4, \"created_at\": 4, \"location\": 4, \"id\": 23}, {\"state\": \"Maryland\", \"username\": 2, \"verified\": 2, \"followers_count\": 2, \"tweet_count\": 2, \"created_at\": 2, \"location\": 2, \"id\": 24}, {\"state\": \"Massachusetts\", \"username\": 5, \"verified\": 5, \"followers_count\": 5, \"tweet_count\": 5, \"created_at\": 5, \"location\": 5, \"id\": 25}, {\"state\": \"Michigan\", \"username\": 4, \"verified\": 4, \"followers_count\": 4, \"tweet_count\": 4, \"created_at\": 4, \"location\": 4, \"id\": 26}, {\"state\": \"Minnesota\", \"username\": 3, \"verified\": 3, \"followers_count\": 3, \"tweet_count\": 3, \"created_at\": 3, \"location\": 3, \"id\": 27}, {\"state\": \"Missouri\", \"username\": 4, \"verified\": 4, \"followers_count\": 4, \"tweet_count\": 4, \"created_at\": 4, \"location\": 4, \"id\": 29}, {\"state\": \"Montana\", \"username\": 1, \"verified\": 1, \"followers_count\": 1, \"tweet_count\": 1, \"created_at\": 1, \"location\": 1, \"id\": 30}, {\"state\": \"Nevada\", \"username\": 2, \"verified\": 2, \"followers_count\": 2, \"tweet_count\": 2, \"created_at\": 2, \"location\": 2, \"id\": 32}, {\"state\": \"New Hampshire\", \"username\": 2, \"verified\": 2, \"followers_count\": 2, \"tweet_count\": 2, \"created_at\": 2, \"location\": 2, \"id\": 33}, {\"state\": \"New Jersey\", \"username\": 4, \"verified\": 4, \"followers_count\": 4, \"tweet_count\": 4, \"created_at\": 4, \"location\": 4, \"id\": 34}, {\"state\": \"New Mexico\", \"username\": 1, \"verified\": 1, \"followers_count\": 1, \"tweet_count\": 1, \"created_at\": 1, \"location\": 1, \"id\": 35}, {\"state\": \"New York\", \"username\": 11, \"verified\": 11, \"followers_count\": 11, \"tweet_count\": 11, \"created_at\": 11, \"location\": 11, \"id\": 36}, {\"state\": \"North Carolina\", \"username\": 7, \"verified\": 7, \"followers_count\": 7, \"tweet_count\": 7, \"created_at\": 7, \"location\": 7, \"id\": 37}, {\"state\": \"Ohio\", \"username\": 9, \"verified\": 9, \"followers_count\": 9, \"tweet_count\": 9, \"created_at\": 9, \"location\": 9, \"id\": 39}, {\"state\": \"Oklahoma\", \"username\": 1, \"verified\": 1, \"followers_count\": 1, \"tweet_count\": 1, \"created_at\": 1, \"location\": 1, \"id\": 40}, {\"state\": \"Oregon\", \"username\": 6, \"verified\": 6, \"followers_count\": 6, \"tweet_count\": 6, \"created_at\": 6, \"location\": 6, \"id\": 41}, {\"state\": \"Pennsylvania\", \"username\": 4, \"verified\": 4, \"followers_count\": 4, \"tweet_count\": 4, \"created_at\": 4, \"location\": 4, \"id\": 42}, {\"state\": \"Puerto Rico\", \"username\": 1, \"verified\": 1, \"followers_count\": 1, \"tweet_count\": 1, \"created_at\": 1, \"location\": 1, \"id\": 72}, {\"state\": \"South Carolina\", \"username\": 1, \"verified\": 1, \"followers_count\": 1, \"tweet_count\": 1, \"created_at\": 1, \"location\": 1, \"id\": 45}, {\"state\": \"Tennessee\", \"username\": 5, \"verified\": 5, \"followers_count\": 5, \"tweet_count\": 5, \"created_at\": 5, \"location\": 5, \"id\": 47}, {\"state\": \"Texas\", \"username\": 26, \"verified\": 26, \"followers_count\": 26, \"tweet_count\": 26, \"created_at\": 26, \"location\": 26, \"id\": 48}, {\"state\": \"Utah\", \"username\": 2, \"verified\": 2, \"followers_count\": 2, \"tweet_count\": 2, \"created_at\": 2, \"location\": 2, \"id\": 49}, {\"state\": \"Virginia\", \"username\": 6, \"verified\": 6, \"followers_count\": 6, \"tweet_count\": 6, \"created_at\": 6, \"location\": 6, \"id\": 51}, {\"state\": \"Washington\", \"username\": 4, \"verified\": 4, \"followers_count\": 4, \"tweet_count\": 4, \"created_at\": 4, \"location\": 4, \"id\": 53}, {\"state\": \"Wisconsin\", \"username\": 9, \"verified\": 9, \"followers_count\": 9, \"tweet_count\": 9, \"created_at\": 9, \"location\": 9, \"id\": 55}]}}, {\"mode\": \"vega-lite\"});\n",
       "</script>"
      ],
      "text/plain": [
       "alt.Chart(...)"
      ]
     },
     "execution_count": 52,
     "metadata": {},
     "output_type": "execute_result"
    }
   ],
   "source": [
    "states = alt.topo_feature(data.us_10m.url, 'states')\n",
    "alt.Chart(states).mark_geoshape().transform_lookup(\n",
    "    lookup='id',\n",
    "    from_=alt.LookupData(df_loc, 'id', [\"username\", \"id\"])\n",
    ").encode(\n",
    "    color=\"username:Q\",\n",
    ").project(type='albersUsa') "
   ]
  },
  {
   "cell_type": "markdown",
   "id": "2f32455a",
   "metadata": {},
   "source": [
    "# 3. Build the network and detect the communities"
   ]
  },
  {
   "cell_type": "code",
   "execution_count": 14,
   "id": "025f9b15",
   "metadata": {},
   "outputs": [
    {
     "name": "stdout",
     "output_type": "stream",
     "text": [
      "CPU times: user 13.4 s, sys: 250 ms, total: 13.7 s\n",
      "Wall time: 13.8 s\n"
     ]
    }
   ],
   "source": [
    "%%time\n",
    "authors = set()\n",
    "edges = list()\n",
    "df_conn = pd.read_csv(\"Data/Network/NetworkTweets.csv\", sep=\"\\t\", index_col=\"id\")\n",
    "df_conn[\"author1\"] = df_conn[\"u1\"].apply(lambda x: df_users.loc[x].username)\n",
    "df_conn[\"author2\"] = df_conn[\"u2\"].apply(lambda x: df_users.loc[x].username)\n",
    "for i, row in df_conn.iterrows():\n",
    "    a1, a2 = row.author1, row.author2\n",
    "    authors = authors | {a1, a2}\n",
    "    edges.append([a1, a2])\n",
    "author_dict = {author: i for i, author in enumerate(sorted(authors))}\n",
    "edges = [(author_dict[a1], author_dict[a2]) for a1, a2 in edges]\n",
    "edges = dict(Counter(edges))"
   ]
  },
  {
   "cell_type": "code",
   "execution_count": 24,
   "id": "992e798a",
   "metadata": {},
   "outputs": [],
   "source": [
    "#  Build the community in unweighted graph\n",
    "G = nx.Graph()\n",
    "G.add_edges_from(edges.keys())\n",
    "comm_uw = community.greedy_modularity_communities(G)\n",
    "# plt.figure(figsize=(12,12))\n",
    "# nx.draw(G, with_labels=True, node_size=500)\n",
    "nx.write_gexf(G, \"Graph/unweighted.gexf\")"
   ]
  },
  {
   "cell_type": "code",
   "execution_count": 25,
   "id": "0dba472e",
   "metadata": {},
   "outputs": [],
   "source": [
    "#  Build the community in weighted graph\n",
    "G = nx.Graph()\n",
    "for edge, weight in edges.items():\n",
    "    G.add_edge(*edge, weight=weight)\n",
    "comm = community.greedy_modularity_communities(G, \"weights\")\n",
    "# plt.figure(figsize=(15,15))\n",
    "# nx.draw(G, with_labels=True, node_size=500)\n",
    "nx.write_gexf(G, \"Graph/weighted.gexf\")"
   ]
  },
  {
   "cell_type": "markdown",
   "id": "aa33cf51",
   "metadata": {},
   "source": [
    "# 4. Find someone popular"
   ]
  },
  {
   "cell_type": "code",
   "execution_count": 45,
   "id": "fcc27511",
   "metadata": {},
   "outputs": [],
   "source": [
    "ct = Counter(df_conn.u1)\n",
    "ct.update(df_conn.u2)\n",
    "df_hot = pd.DataFrame(pd.Series(ct).sort_values(ascending=False), columns=[\"count\"])\n",
    "df_hot[\"username\"] = df_users[\"username\"]"
   ]
  },
  {
   "cell_type": "code",
   "execution_count": 48,
   "id": "377eb241",
   "metadata": {},
   "outputs": [
    {
     "data": {
      "text/html": [
       "<div>\n",
       "<style scoped>\n",
       "    .dataframe tbody tr th:only-of-type {\n",
       "        vertical-align: middle;\n",
       "    }\n",
       "\n",
       "    .dataframe tbody tr th {\n",
       "        vertical-align: top;\n",
       "    }\n",
       "\n",
       "    .dataframe thead th {\n",
       "        text-align: right;\n",
       "    }\n",
       "</style>\n",
       "<table border=\"1\" class=\"dataframe\">\n",
       "  <thead>\n",
       "    <tr style=\"text-align: right;\">\n",
       "      <th></th>\n",
       "      <th>count</th>\n",
       "      <th>username</th>\n",
       "    </tr>\n",
       "  </thead>\n",
       "  <tbody>\n",
       "    <tr>\n",
       "      <th>20545835</th>\n",
       "      <td>42430</td>\n",
       "      <td>newsmax</td>\n",
       "    </tr>\n",
       "    <tr>\n",
       "      <th>2836421</th>\n",
       "      <td>38556</td>\n",
       "      <td>MSNBC</td>\n",
       "    </tr>\n",
       "    <tr>\n",
       "      <th>8953122</th>\n",
       "      <td>11376</td>\n",
       "      <td>PolitiFact</td>\n",
       "    </tr>\n",
       "    <tr>\n",
       "      <th>21925564</th>\n",
       "      <td>9022</td>\n",
       "      <td>PogueMoran</td>\n",
       "    </tr>\n",
       "    <tr>\n",
       "      <th>980526530</th>\n",
       "      <td>7666</td>\n",
       "      <td>hvnacuba76</td>\n",
       "    </tr>\n",
       "    <tr>\n",
       "      <th>1691491086</th>\n",
       "      <td>7552</td>\n",
       "      <td>Craig1454</td>\n",
       "    </tr>\n",
       "    <tr>\n",
       "      <th>520817923</th>\n",
       "      <td>6769</td>\n",
       "      <td>DimensioT</td>\n",
       "    </tr>\n",
       "    <tr>\n",
       "      <th>70394965</th>\n",
       "      <td>6749</td>\n",
       "      <td>citizentvkenya</td>\n",
       "    </tr>\n",
       "    <tr>\n",
       "      <th>632859279</th>\n",
       "      <td>6604</td>\n",
       "      <td>RadioCitizenFM</td>\n",
       "    </tr>\n",
       "    <tr>\n",
       "      <th>312149882</th>\n",
       "      <td>6028</td>\n",
       "      <td>Chris_1791</td>\n",
       "    </tr>\n",
       "  </tbody>\n",
       "</table>\n",
       "</div>"
      ],
      "text/plain": [
       "            count        username\n",
       "20545835    42430         newsmax\n",
       "2836421     38556           MSNBC\n",
       "8953122     11376      PolitiFact\n",
       "21925564     9022      PogueMoran\n",
       "980526530    7666      hvnacuba76\n",
       "1691491086   7552       Craig1454\n",
       "520817923    6769       DimensioT\n",
       "70394965     6749  citizentvkenya\n",
       "632859279    6604  RadioCitizenFM\n",
       "312149882    6028      Chris_1791"
      ]
     },
     "execution_count": 48,
     "metadata": {},
     "output_type": "execute_result"
    }
   ],
   "source": [
    "df_hot.iloc[:10]"
   ]
  }
 ],
 "metadata": {
  "kernelspec": {
   "display_name": "Python 3 (ipykernel)",
   "language": "python",
   "name": "python3"
  },
  "language_info": {
   "codemirror_mode": {
    "name": "ipython",
    "version": 3
   },
   "file_extension": ".py",
   "mimetype": "text/x-python",
   "name": "python",
   "nbconvert_exporter": "python",
   "pygments_lexer": "ipython3",
   "version": "3.9.0"
  }
 },
 "nbformat": 4,
 "nbformat_minor": 5
}
