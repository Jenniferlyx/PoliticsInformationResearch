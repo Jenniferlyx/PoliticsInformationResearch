{
 "cells": [
  {
   "cell_type": "code",
   "execution_count": 1,
   "id": "fc1b3a6b",
   "metadata": {},
   "outputs": [],
   "source": [
    "import logging\n",
    "import importlib\n",
    "import TwitterFactCheck\n",
    "import TwitterAPI\n",
    "import pandas as pd\n",
    "import altair as alt\n",
    "import re\n",
    "import logging\n",
    "import numpy as np\n",
    "from typing import *\n",
    "from datetime import *\n",
    "import json\n",
    "import requests\n",
    "from bs4 import BeautifulSoup\n",
    "from multiprocessing.dummy import Process\n",
    "import traceback\n",
    "from collections import Counter\n",
    "importlib.reload(TwitterFactCheck)\n",
    "importlib.reload(TwitterAPI)\n",
    "logging.basicConfig(level=logging.INFO)"
   ]
  },
  {
   "cell_type": "code",
   "execution_count": 2,
   "id": "892ea025",
   "metadata": {},
   "outputs": [
    {
     "name": "stdout",
     "output_type": "stream",
     "text": [
      "CPU times: user 1.47 ms, sys: 151 µs, total: 1.62 ms\n",
      "Wall time: 4.18 ms\n"
     ]
    }
   ],
   "source": [
    "%%time\n",
    "api = TwitterFactCheck.TwitterFactCheck(\"Backbackup.json\")\n",
    "start_time, end_time = \"20220101\", \"20220401\"\n",
    "status = dict()"
   ]
  },
  {
   "cell_type": "code",
   "execution_count": 3,
   "id": "8f3012c9",
   "metadata": {},
   "outputs": [],
   "source": [
    "def fetch_interaction(u1, u2, start_time, end_time):\n",
    "    data = list()\n",
    "    if u1.name > u2.name: # compare based on user id\n",
    "        u1, u2 = u2, u1\n",
    "    query = \" OR \".join([\"(@{u1} @{u2})\", \"(from:{u1} @{u2})\", \"(from:{u2} @{u1})\", \"(from:{u2} to:{u1})\", \"(from:{u1} to:{u2})\"])\n",
    "    query = query.format(u1=u1.username, u2=u2.username)\n",
    "    tweets = api.search_tweets(query, start_time=start_time, end_time=end_time)\n",
    "    tweets[\"u1\"], tweets[\"u2\"] = u1.name, u2.name\n",
    "    tweets[\"author1\"], tweets[\"author2\"] = u1.username, u2.username\n",
    "    data.append(tweets)\n",
    "    return pd.concat(data) if data else pd.DataFrame()"
   ]
  },
  {
   "cell_type": "code",
   "execution_count": 29,
   "id": "85f8e463",
   "metadata": {},
   "outputs": [],
   "source": [
    "df_method_tweets.to_csv(\"Data/Network/NetworkTweets.csv\", sep=\"\\t\", index_label=\"id\")"
   ]
  },
  {
   "cell_type": "code",
   "execution_count": 4,
   "id": "cb6f8f71",
   "metadata": {},
   "outputs": [],
   "source": [
    "def fetch_sus_content(status: dict, start_time, end_time, method: str):\n",
    "    df_method_tweets = pd.read_csv(\"Data/Network/NetworkTweets.csv\", sep=\"\\t\", index_col=\"id\")\n",
    "    df_method_users = pd.read_csv(\"Data/Network/NetworkUsers.csv\", index_col=\"user_id\", sep=\"\\t\")\n",
    "    df_method_tweets = df_method_tweets[df_method_tweets.method==method]\n",
    "    df_method_users = df_method_users[df_method_users.method==method]\n",
    "    iteration = status[\"iteration\"] = df_method_users.iteration.max() + 1\n",
    "    status[\"df_method_users\"], status[\"df_method_tweets\"] = df_method_users, df_method_tweets\n",
    "    status[\"status\"] = \"prepare\"\n",
    "    df_sus_users = pd.Series(Counter(df_method_tweets.author_id))\n",
    "    df_sus_users = df_sus_users[df_sus_users>5]\n",
    "    df_sus_users = df_sus_users[df_sus_users>df_sus_users.quantile(0.8)]\n",
    "    status[\"df_new_users\"] = df_sus_users\n",
    "    df_new_users = dict()\n",
    "    status[\"status\"] = \"fetching {} new users\".format(len(df_sus_users))\n",
    "    for author_id in df_sus_users.index.astype(int):\n",
    "        if author_id not in df_method_users.index:\n",
    "            info = api.search_user(author_id)\n",
    "            if info:\n",
    "                df_new_users[author_id] = info\n",
    "    status[\"df_new_users\"] = df_new_users = pd.DataFrame(df_new_users).T.dropna(how=\"all\").sort_index()\n",
    "    status[\"df_new_tweets\"] = df_new_tweets = list()\n",
    "    status[\"status\"] = \"fetching tweets\"\n",
    "    for i in range(len(df_new_users)):\n",
    "        status[\"i\"] = i\n",
    "        for t in range(0, len(df_method_users)):\n",
    "            status[\"t\"] = t\n",
    "            df_new_tweets.append(fetch_interaction(df_new_users.iloc[i], df_method_users.iloc[t], start_time, end_time))\n",
    "\n",
    "        for j in range(i+1, len(df_new_users)):\n",
    "            df_new_tweets.append(fetch_interaction(df_new_users.iloc[i], df_new_users.iloc[j], start_time, end_time))\n",
    "            status[\"j\"] = j\n",
    "\n",
    "    df_new_tweets = pd.concat(df_new_tweets).set_index([\"id\"])\n",
    "    df_new_tweets.text = df_new_tweets.text.replace(\"\\s+\", \" \")\n",
    "    df_new_tweets[\"content\"] = df_new_tweets.text.str.replace(\"(@[\\w|\\d]+|\\#[\\w|\\d]+|https\\S+)\", \" \")\n",
    "    for s in [\"\\s{2,}\", \"RT:\\s?\", \"^\\s+\\$\"]:\n",
    "        df_new_tweets[\"content\"] = df_new_tweets[\"content\"].str.replace(s, \"\")\n",
    "    status[\"status\"] = \"fetching complete\"\n",
    "    for col in [\"author_id\"]:\n",
    "        df_new_tweets[col] = df_new_tweets[col].astype(int)\n",
    "    status[\"df_method_tweets\"] = df_new_tweets\n",
    "    df_new_tweets[\"method\"], df_new_users[\"method\"] = method, method\n",
    "    df_new_tweets[\"iteration\"] = df_new_users[\"iteration\"] = iteration\n",
    "    df_new_users.to_csv(\"Data/tmp/{}_{}_{}_NetworkUsers.csv\".format(i, t, j), sep=\"\\t\", index_label=\"user_id\")\n",
    "    df_new_tweets.to_csv(\"Data/tmp/{}_{}_{}_NetworkTweets.csv\".format(i, t, j), sep=\"\\t\", index_label=\"id\")"
   ]
  },
  {
   "cell_type": "code",
   "execution_count": 5,
   "id": "42e491e4",
   "metadata": {},
   "outputs": [],
   "source": [
    "status = dict()\n",
    "thread = Process(target=fetch_sus_content, kwargs={\"status\": status, \"start_time\": start_time, \"end_time\": end_time, \"method\": \"URL\"})\n",
    "thread.start()"
   ]
  },
  {
   "cell_type": "code",
   "execution_count": 6,
   "id": "4e501ef8",
   "metadata": {},
   "outputs": [
    {
     "data": {
      "text/plain": [
       "True"
      ]
     },
     "execution_count": 6,
     "metadata": {},
     "output_type": "execute_result"
    }
   ],
   "source": [
    "thread.is_alive()"
   ]
  }
 ],
 "metadata": {
  "kernelspec": {
   "display_name": "Python 3.9.0 ('UM')",
   "language": "python",
   "name": "python3"
  },
  "language_info": {
   "codemirror_mode": {
    "name": "ipython",
    "version": 3
   },
   "file_extension": ".py",
   "mimetype": "text/x-python",
   "name": "python",
   "nbconvert_exporter": "python",
   "pygments_lexer": "ipython3",
   "version": "3.9.0"
  },
  "vscode": {
   "interpreter": {
    "hash": "ce7713a6935bb5ea1b6a29dabac5ab63c23b884373a45453c2887b0c093952d9"
   }
  }
 },
 "nbformat": 4,
 "nbformat_minor": 5
}
