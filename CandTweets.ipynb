{
 "cells": [
  {
   "cell_type": "code",
   "execution_count": 1,
   "id": "cc8dce3f",
   "metadata": {},
   "outputs": [],
   "source": [
    "import json\n",
    "import time\n",
    "import pandas as pd\n",
    "from TwitterFactCheck import TwitterFactCheck, DomainChecker\n",
    "from PeakDetect import PeakDetector\n",
    "from multiprocessing.dummy import Pool, Process"
   ]
  },
  {
   "cell_type": "markdown",
   "id": "c959d561",
   "metadata": {},
   "source": [
    "# 1. Initialization"
   ]
  },
  {
   "cell_type": "code",
   "execution_count": 2,
   "id": "e3a330b6",
   "metadata": {},
   "outputs": [],
   "source": [
    "with open(\"TwitterAPI.json\", \"r\") as f:\n",
    "    api_config = json.loads(f.read())[\"backup\"]\n",
    "    api = TwitterFactCheck(api_config)\n",
    "df_cand = pd.read_csv(\"Data/Candidates/Candidates.csv\", sep=\"\\t\").dropna(subset=[\"Position\"])\n",
    "df_sus_users = pd.read_csv(\"Data/Network/NetworkUsers.csv\", sep=\"\\t\")\n",
    "df_count = pd.read_csv(\"Data/Candidates/CandTweetsCount.csv\", sep=\"\\t\").drop_duplicates([\"Name\", \"Date\"]).reset_index(drop=True)\n",
    "checker = DomainChecker(\"Data/WebsiteCredibility.csv\", \"Data/UnrelatedWebsites.json\")"
   ]
  },
  {
   "cell_type": "markdown",
   "id": "5908abcf",
   "metadata": {},
   "source": [
    "# 2. Fetch new tweets"
   ]
  },
  {
   "cell_type": "code",
   "execution_count": 11,
   "id": "7fbd5b96",
   "metadata": {},
   "outputs": [],
   "source": [
    "# time.sleep(6000)\n",
    "fetch_status = dict()\n",
    "start_time, end_time = \"20220722\", \"20220727\"\n",
    "thread_fetch = Process(target=api.search_cand_tweets, kwargs={\"status\": fetch_status, \"start_time\": start_time, \"end_time\": end_time, \"df_cand\": df_cand})\n",
    "thread_fetch.start()"
   ]
  },
  {
   "cell_type": "code",
   "execution_count": 10,
   "id": "6b47823e",
   "metadata": {},
   "outputs": [
    {
     "data": {
      "text/plain": [
       "{}"
      ]
     },
     "execution_count": 10,
     "metadata": {},
     "output_type": "execute_result"
    }
   ],
   "source": [
    "fetch_status"
   ]
  },
  {
   "cell_type": "code",
   "execution_count": 22,
   "id": "1c52eda9",
   "metadata": {},
   "outputs": [],
   "source": [
    "df_tweets = pd.concat(fetch_status[\"res\"])\n",
    "df_tweets.set_index([\"id\"]).drop([\"withheld\"], axis=1).to_csv(\"Data/Candidates/NewTweets.csv\", sep=\"\\t\", index_label=\"id\")"
   ]
  },
  {
   "cell_type": "code",
   "execution_count": 21,
   "id": "399db2b8",
   "metadata": {},
   "outputs": [
    {
     "data": {
      "text/plain": [
       "False"
      ]
     },
     "execution_count": 21,
     "metadata": {},
     "output_type": "execute_result"
    }
   ],
   "source": [
    "thread_fetch.is_alive()"
   ]
  },
  {
   "cell_type": "code",
   "execution_count": 20,
   "id": "74e392c4",
   "metadata": {},
   "outputs": [
    {
     "data": {
      "text/plain": [
       "710"
      ]
     },
     "execution_count": 20,
     "metadata": {},
     "output_type": "execute_result"
    }
   ],
   "source": [
    "fetch_status[\"i\"]"
   ]
  },
  {
   "cell_type": "markdown",
   "id": "2dfd3254",
   "metadata": {},
   "source": [
    "# 3. Clean and save the tweets "
   ]
  },
  {
   "cell_type": "code",
   "execution_count": 25,
   "id": "8b93acf5",
   "metadata": {},
   "outputs": [
    {
     "name": "stderr",
     "output_type": "stream",
     "text": [
      "<timed exec>:1: DtypeWarning: Columns (8) have mixed types. Specify dtype option on import or set low_memory=False.\n",
      "/mnt/e/UMSI/Research/TwitterAPI.py:260: FutureWarning: The default value of regex will change from True to False in a future version.\n",
      "  series = series.str.replace(r\"(@[\\w|\\d]+|\\#[\\w|\\d]+|https\\S+)\", \" \")\n",
      "/mnt/e/UMSI/Research/TwitterAPI.py:262: FutureWarning: The default value of regex will change from True to False in a future version.\n",
      "  series = series.str.replace(s, \"\")\n",
      "/mnt/e/UMSI/Research/TwitterAPI.py:263: FutureWarning: The default value of regex will change from True to False in a future version.\n",
      "  return series.str.replace(r\"\\s+\", \" \")\n"
     ]
    },
    {
     "name": "stdout",
     "output_type": "stream",
     "text": [
      "CPU times: user 52min 28s, sys: 2.54 s, total: 52min 30s\n",
      "Wall time: 52min 32s\n"
     ]
    }
   ],
   "source": [
    "%%time\n",
    "df_tweets = pd.read_csv(\"Data/Candidates/NewTweets.csv\", sep=\"\\t\")\n",
    "df_tweets = api.clean_tweets(df_tweets, df_cand, checker)\n",
    "if \"Id\" in df_tweets.columns:\n",
    "    df_tweets = df_tweets.set_index([\"Id\"])"
   ]
  },
  {
   "cell_type": "code",
   "execution_count": 60,
   "id": "520a870b",
   "metadata": {},
   "outputs": [],
   "source": [
    "%%time\n",
    "# Save the cleaned tweets\n",
    "df_tweets = df_tweets[df_tweets[\"Content\"]!=\"\"]\n",
    "df_tweets.sort_values([\"Date\", \"Name\", \"Id\"]).to_csv(\"Data/Candidates/NewTweets.csv\", sep=\"\\t\", index_label=\"Id\")"
   ]
  },
  {
   "cell_type": "code",
   "execution_count": 27,
   "id": "710a80e3",
   "metadata": {},
   "outputs": [],
   "source": [
    "# Update the collected tweets from suspicious users\n",
    "df_sus_user_tweets = pd.read_csv(\"Data/Candidates/SusUserTweets.csv\", sep=\"\\t\")\n",
    "df_sus_user_tweets = pd.concat([df_sus_user_tweets, df_tweets[df_tweets[\"Author_id\"].isin(df_sus_users[\"User_id\"])]])\n",
    "df_sus_user_tweets = df_sus_user_tweets.drop_duplicates([\"Id\"]).sort_values([\"Date\", \"Name\", \"Id\"]).drop([\"Credibility\"], axis=1)\n",
    "df_sus_user_tweets.set_index([\"Id\"]).to_csv(\"Data/Candidates/SusUserTweets.csv\", sep=\"\\t\", index_label=\"Id\")"
   ]
  },
  {
   "cell_type": "code",
   "execution_count": 88,
   "id": "849821f2",
   "metadata": {},
   "outputs": [],
   "source": [
    "# Update the collected tweets from suspicious domain\n",
    "df_sus_domain_tweets = pd.read_csv(\"Data/Candidates/SusDomainTweets.csv\", sep=\"\\t\")\n",
    "df_sus_domain_tweets = pd.concat([df_sus_domain_tweets, df_tweets[df_tweets[\"Credibility\"]==0]])\n",
    "df_sus_domain_tweets = df_sus_domain_tweets.drop_duplicates([\"Id\"]).sort_values([\"Date\", \"Name\", \"Id\"]).drop([\"Credibility\"], axis=1)\n",
    "df_sus_domain_tweets.set_index([\"Id\"]).to_csv(\"Data/Candidates/SusDomainTweets.csv\", sep=\"\\t\", index_label=\"Id\")"
   ]
  },
  {
   "cell_type": "markdown",
   "id": "9a3bb2c2",
   "metadata": {},
   "source": [
    "# 4. Find the peaks with the newest data"
   ]
  },
  {
   "cell_type": "code",
   "execution_count": 91,
   "id": "aa8d2fee",
   "metadata": {},
   "outputs": [
    {
     "name": "stdout",
     "output_type": "stream",
     "text": [
      "CPU times: user 6.66 s, sys: 631 ms, total: 7.29 s\n",
      "Wall time: 9.56 s\n"
     ]
    }
   ],
   "source": [
    "%%time\n",
    "df_tweets = pd.read_csv(\"Data/Candidates/NewTweets.csv\", sep=\"\\t\")"
   ]
  },
  {
   "cell_type": "code",
   "execution_count": 92,
   "id": "bb97756f",
   "metadata": {},
   "outputs": [
    {
     "name": "stdout",
     "output_type": "stream",
     "text": [
      "CPU times: user 59.8 s, sys: 291 ms, total: 1min\n",
      "Wall time: 60 s\n"
     ]
    }
   ],
   "source": [
    "%%time\n",
    "detector = PeakDetector(df_cand, df_sus_users, df_tweets, df_count)\n",
    "df_count = detector()"
   ]
  },
  {
   "cell_type": "code",
   "execution_count": 95,
   "id": "d5890c5b",
   "metadata": {},
   "outputs": [
    {
     "data": {
      "text/html": [
       "<div>\n",
       "<style scoped>\n",
       "    .dataframe tbody tr th:only-of-type {\n",
       "        vertical-align: middle;\n",
       "    }\n",
       "\n",
       "    .dataframe tbody tr th {\n",
       "        vertical-align: top;\n",
       "    }\n",
       "\n",
       "    .dataframe thead th {\n",
       "        text-align: right;\n",
       "    }\n",
       "</style>\n",
       "<table border=\"1\" class=\"dataframe\">\n",
       "  <thead>\n",
       "    <tr style=\"text-align: right;\">\n",
       "      <th></th>\n",
       "      <th>Name</th>\n",
       "      <th>Month</th>\n",
       "      <th>Date</th>\n",
       "      <th>TweetCount</th>\n",
       "      <th>SusUserCount</th>\n",
       "      <th>SusDomainCount</th>\n",
       "      <th>MonthTweetCount</th>\n",
       "      <th>TweetPeakIQR</th>\n",
       "      <th>SusUserPeakIQR</th>\n",
       "      <th>SusDomainPeakIQR</th>\n",
       "    </tr>\n",
       "  </thead>\n",
       "  <tbody>\n",
       "    <tr>\n",
       "      <th>206</th>\n",
       "      <td>Aaron Del Mar</td>\n",
       "      <td>202207</td>\n",
       "      <td>20220726</td>\n",
       "      <td>0</td>\n",
       "      <td>0</td>\n",
       "      <td>0</td>\n",
       "      <td>0</td>\n",
       "      <td>0.0</td>\n",
       "      <td>0.0</td>\n",
       "      <td>0.0</td>\n",
       "    </tr>\n",
       "    <tr>\n",
       "      <th>413</th>\n",
       "      <td>Aaron Lieberman</td>\n",
       "      <td>202207</td>\n",
       "      <td>20220726</td>\n",
       "      <td>2</td>\n",
       "      <td>0</td>\n",
       "      <td>0</td>\n",
       "      <td>4</td>\n",
       "      <td>0.0</td>\n",
       "      <td>0.0</td>\n",
       "      <td>0.0</td>\n",
       "    </tr>\n",
       "    <tr>\n",
       "      <th>620</th>\n",
       "      <td>Aaron Sims</td>\n",
       "      <td>202207</td>\n",
       "      <td>20220726</td>\n",
       "      <td>5</td>\n",
       "      <td>0</td>\n",
       "      <td>0</td>\n",
       "      <td>17</td>\n",
       "      <td>0.0</td>\n",
       "      <td>0.0</td>\n",
       "      <td>0.0</td>\n",
       "    </tr>\n",
       "    <tr>\n",
       "      <th>827</th>\n",
       "      <td>Abigail Spanberger</td>\n",
       "      <td>202207</td>\n",
       "      <td>20220726</td>\n",
       "      <td>109</td>\n",
       "      <td>0</td>\n",
       "      <td>0</td>\n",
       "      <td>966</td>\n",
       "      <td>0.0</td>\n",
       "      <td>0.0</td>\n",
       "      <td>0.0</td>\n",
       "    </tr>\n",
       "    <tr>\n",
       "      <th>1034</th>\n",
       "      <td>Abraham Hamadeh</td>\n",
       "      <td>202207</td>\n",
       "      <td>20220726</td>\n",
       "      <td>782</td>\n",
       "      <td>0</td>\n",
       "      <td>1</td>\n",
       "      <td>7505</td>\n",
       "      <td>0.0</td>\n",
       "      <td>0.0</td>\n",
       "      <td>0.0</td>\n",
       "    </tr>\n",
       "    <tr>\n",
       "      <th>...</th>\n",
       "      <td>...</td>\n",
       "      <td>...</td>\n",
       "      <td>...</td>\n",
       "      <td>...</td>\n",
       "      <td>...</td>\n",
       "      <td>...</td>\n",
       "      <td>...</td>\n",
       "      <td>...</td>\n",
       "      <td>...</td>\n",
       "      <td>...</td>\n",
       "    </tr>\n",
       "    <tr>\n",
       "      <th>146348</th>\n",
       "      <td>Yuh-Line Niou</td>\n",
       "      <td>202207</td>\n",
       "      <td>20220726</td>\n",
       "      <td>981</td>\n",
       "      <td>0</td>\n",
       "      <td>1</td>\n",
       "      <td>5310</td>\n",
       "      <td>0.0</td>\n",
       "      <td>0.0</td>\n",
       "      <td>0.0</td>\n",
       "    </tr>\n",
       "    <tr>\n",
       "      <th>146555</th>\n",
       "      <td>Zach Conine</td>\n",
       "      <td>202207</td>\n",
       "      <td>20220726</td>\n",
       "      <td>3</td>\n",
       "      <td>0</td>\n",
       "      <td>0</td>\n",
       "      <td>19</td>\n",
       "      <td>0.0</td>\n",
       "      <td>0.0</td>\n",
       "      <td>0.0</td>\n",
       "    </tr>\n",
       "    <tr>\n",
       "      <th>146762</th>\n",
       "      <td>Zachary Varon</td>\n",
       "      <td>202207</td>\n",
       "      <td>20220726</td>\n",
       "      <td>0</td>\n",
       "      <td>0</td>\n",
       "      <td>0</td>\n",
       "      <td>1</td>\n",
       "      <td>0.0</td>\n",
       "      <td>0.0</td>\n",
       "      <td>0.0</td>\n",
       "    </tr>\n",
       "    <tr>\n",
       "      <th>146969</th>\n",
       "      <td>Zellnor Myrie</td>\n",
       "      <td>202207</td>\n",
       "      <td>20220726</td>\n",
       "      <td>0</td>\n",
       "      <td>0</td>\n",
       "      <td>0</td>\n",
       "      <td>0</td>\n",
       "      <td>0.0</td>\n",
       "      <td>0.0</td>\n",
       "      <td>0.0</td>\n",
       "    </tr>\n",
       "    <tr>\n",
       "      <th>147176</th>\n",
       "      <td>Zephyr Teachout</td>\n",
       "      <td>202207</td>\n",
       "      <td>20220726</td>\n",
       "      <td>4</td>\n",
       "      <td>0</td>\n",
       "      <td>0</td>\n",
       "      <td>11</td>\n",
       "      <td>0.0</td>\n",
       "      <td>0.0</td>\n",
       "      <td>0.0</td>\n",
       "    </tr>\n",
       "  </tbody>\n",
       "</table>\n",
       "<p>711 rows × 10 columns</p>\n",
       "</div>"
      ],
      "text/plain": [
       "                      Name   Month      Date  TweetCount  SusUserCount  \\\n",
       "206          Aaron Del Mar  202207  20220726           0             0   \n",
       "413        Aaron Lieberman  202207  20220726           2             0   \n",
       "620             Aaron Sims  202207  20220726           5             0   \n",
       "827     Abigail Spanberger  202207  20220726         109             0   \n",
       "1034       Abraham Hamadeh  202207  20220726         782             0   \n",
       "...                    ...     ...       ...         ...           ...   \n",
       "146348       Yuh-Line Niou  202207  20220726         981             0   \n",
       "146555         Zach Conine  202207  20220726           3             0   \n",
       "146762       Zachary Varon  202207  20220726           0             0   \n",
       "146969       Zellnor Myrie  202207  20220726           0             0   \n",
       "147176     Zephyr Teachout  202207  20220726           4             0   \n",
       "\n",
       "        SusDomainCount  MonthTweetCount  TweetPeakIQR  SusUserPeakIQR  \\\n",
       "206                  0                0           0.0             0.0   \n",
       "413                  0                4           0.0             0.0   \n",
       "620                  0               17           0.0             0.0   \n",
       "827                  0              966           0.0             0.0   \n",
       "1034                 1             7505           0.0             0.0   \n",
       "...                ...              ...           ...             ...   \n",
       "146348               1             5310           0.0             0.0   \n",
       "146555               0               19           0.0             0.0   \n",
       "146762               0                1           0.0             0.0   \n",
       "146969               0                0           0.0             0.0   \n",
       "147176               0               11           0.0             0.0   \n",
       "\n",
       "        SusDomainPeakIQR  \n",
       "206                  0.0  \n",
       "413                  0.0  \n",
       "620                  0.0  \n",
       "827                  0.0  \n",
       "1034                 0.0  \n",
       "...                  ...  \n",
       "146348               0.0  \n",
       "146555               0.0  \n",
       "146762               0.0  \n",
       "146969               0.0  \n",
       "147176               0.0  \n",
       "\n",
       "[711 rows x 10 columns]"
      ]
     },
     "execution_count": 95,
     "metadata": {},
     "output_type": "execute_result"
    }
   ],
   "source": [
    "df_count[df_count[\"Date\"]==20220726]"
   ]
  },
  {
   "cell_type": "code",
   "execution_count": 9,
   "id": "995f9d37",
   "metadata": {},
   "outputs": [],
   "source": [
    "df_count.set_index([\"Name\"]).to_csv(\"Data/Candidates/CandTweetsCount.csv\", sep=\"\\t\",index_label=\"Name\")"
   ]
  },
  {
   "cell_type": "markdown",
   "id": "70e88fcf",
   "metadata": {},
   "source": [
    "# 5. Analyze the relation with peaks and politicfacts"
   ]
  },
  {
   "cell_type": "code",
   "execution_count": 11,
   "id": "27ddb2dc",
   "metadata": {},
   "outputs": [],
   "source": [
    "df_count = pd.read_csv(\"Data/Candidates/CandTweetsCount.csv\", sep=\"\\t\")\n",
    "df_pf = pd.read_csv(\"Data/PoliticFact.csv\", sep=\"\\t\")"
   ]
  },
  {
   "cell_type": "code",
   "execution_count": 57,
   "id": "ce1b4040",
   "metadata": {},
   "outputs": [
    {
     "name": "stderr",
     "output_type": "stream",
     "text": [
      "/tmp/ipykernel_6619/3715498882.py:2: SettingWithCopyWarning: \n",
      "A value is trying to be set on a copy of a slice from a DataFrame.\n",
      "Try using .loc[row_indexer,col_indexer] = value instead\n",
      "\n",
      "See the caveats in the documentation: https://pandas.pydata.org/pandas-docs/stable/user_guide/indexing.html#returning-a-view-versus-a-copy\n",
      "  df_counts[\"Counts\"] = df_counts[field] / df_counts[field].max()\n",
      "/tmp/ipykernel_6619/3715498882.py:4: SettingWithCopyWarning: \n",
      "A value is trying to be set on a copy of a slice from a DataFrame.\n",
      "Try using .loc[row_indexer,col_indexer] = value instead\n",
      "\n",
      "See the caveats in the documentation: https://pandas.pydata.org/pandas-docs/stable/user_guide/indexing.html#returning-a-view-versus-a-copy\n",
      "  df_counts[\"Date\"] = pd.to_datetime(df_counts[\"Date\"].astype(str))\n"
     ]
    },
    {
     "data": {
      "text/html": [
       "\n",
       "<div id=\"altair-viz-b10d663c944d4e38a94cdb0dd9165dd7\"></div>\n",
       "<script type=\"text/javascript\">\n",
       "  (function(spec, embedOpt){\n",
       "    let outputDiv = document.currentScript.previousElementSibling;\n",
       "    if (outputDiv.id !== \"altair-viz-b10d663c944d4e38a94cdb0dd9165dd7\") {\n",
       "      outputDiv = document.getElementById(\"altair-viz-b10d663c944d4e38a94cdb0dd9165dd7\");\n",
       "    }\n",
       "    const paths = {\n",
       "      \"vega\": \"https://cdn.jsdelivr.net/npm//vega@5?noext\",\n",
       "      \"vega-lib\": \"https://cdn.jsdelivr.net/npm//vega-lib?noext\",\n",
       "      \"vega-lite\": \"https://cdn.jsdelivr.net/npm//vega-lite@4.8.1?noext\",\n",
       "      \"vega-embed\": \"https://cdn.jsdelivr.net/npm//vega-embed@6?noext\",\n",
       "    };\n",
       "\n",
       "    function loadScript(lib) {\n",
       "      return new Promise(function(resolve, reject) {\n",
       "        var s = document.createElement('script');\n",
       "        s.src = paths[lib];\n",
       "        s.async = true;\n",
       "        s.onload = () => resolve(paths[lib]);\n",
       "        s.onerror = () => reject(`Error loading script: ${paths[lib]}`);\n",
       "        document.getElementsByTagName(\"head\")[0].appendChild(s);\n",
       "      });\n",
       "    }\n",
       "\n",
       "    function showError(err) {\n",
       "      outputDiv.innerHTML = `<div class=\"error\" style=\"color:red;\">${err}</div>`;\n",
       "      throw err;\n",
       "    }\n",
       "\n",
       "    function displayChart(vegaEmbed) {\n",
       "      vegaEmbed(outputDiv, spec, embedOpt)\n",
       "        .catch(err => showError(`Javascript Error: ${err.message}<br>This usually means there's a typo in your chart specification. See the javascript console for the full traceback.`));\n",
       "    }\n",
       "\n",
       "    if(typeof define === \"function\" && define.amd) {\n",
       "      requirejs.config({paths});\n",
       "      require([\"vega-embed\"], displayChart, err => showError(`Error loading script: ${err.message}`));\n",
       "    } else if (typeof vegaEmbed === \"function\") {\n",
       "      displayChart(vegaEmbed);\n",
       "    } else {\n",
       "      loadScript(\"vega\")\n",
       "        .then(() => loadScript(\"vega-lite\"))\n",
       "        .then(() => loadScript(\"vega-embed\"))\n",
       "        .catch(showError)\n",
       "        .then(() => displayChart(vegaEmbed));\n",
       "    }\n",
       "  })({\"config\": {\"view\": {\"continuousWidth\": 400, \"continuousHeight\": 300}}, \"data\": {\"name\": \"data-152bdc1b1ca4b2619c867610c579002a\"}, \"mark\": \"line\", \"encoding\": {\"tooltip\": [{\"type\": \"quantitative\", \"field\": \"Counts\"}, {\"type\": \"temporal\", \"field\": \"Date\"}], \"x\": {\"type\": \"temporal\", \"field\": \"Date\"}, \"y\": {\"type\": \"quantitative\", \"field\": \"Counts\"}}, \"$schema\": \"https://vega.github.io/schema/vega-lite/v4.8.1.json\", \"datasets\": {\"data-152bdc1b1ca4b2619c867610c579002a\": [{\"Counts\": 0.323943661971831, \"Date\": \"2022-01-01T00:00:00\"}, {\"Counts\": 0.096579476861167, \"Date\": \"2022-01-02T00:00:00\"}, {\"Counts\": 0.09859154929577464, \"Date\": \"2022-01-03T00:00:00\"}, {\"Counts\": 0.08651911468812877, \"Date\": \"2022-01-04T00:00:00\"}, {\"Counts\": 0.06841046277665996, \"Date\": \"2022-01-05T00:00:00\"}, {\"Counts\": 0.0482897384305835, \"Date\": \"2022-01-06T00:00:00\"}, {\"Counts\": 0.09054325955734406, \"Date\": \"2022-01-07T00:00:00\"}, {\"Counts\": 0.07645875251509054, \"Date\": \"2022-01-08T00:00:00\"}, {\"Counts\": 0.16498993963782696, \"Date\": \"2022-01-09T00:00:00\"}, {\"Counts\": 0.12474849094567404, \"Date\": \"2022-01-10T00:00:00\"}, {\"Counts\": 0.0744466800804829, \"Date\": \"2022-01-11T00:00:00\"}, {\"Counts\": 0.060362173038229376, \"Date\": \"2022-01-12T00:00:00\"}, {\"Counts\": 0.07645875251509054, \"Date\": \"2022-01-13T00:00:00\"}, {\"Counts\": 0.08450704225352113, \"Date\": \"2022-01-14T00:00:00\"}, {\"Counts\": 0.04225352112676056, \"Date\": \"2022-01-15T00:00:00\"}, {\"Counts\": 0.16096579476861167, \"Date\": \"2022-01-16T00:00:00\"}, {\"Counts\": 0.12474849094567404, \"Date\": \"2022-01-17T00:00:00\"}, {\"Counts\": 0.08450704225352113, \"Date\": \"2022-01-18T00:00:00\"}, {\"Counts\": 0.05432595573440644, \"Date\": \"2022-01-19T00:00:00\"}, {\"Counts\": 0.07645875251509054, \"Date\": \"2022-01-20T00:00:00\"}, {\"Counts\": 0.08249496981891348, \"Date\": \"2022-01-21T00:00:00\"}, {\"Counts\": 0.04225352112676056, \"Date\": \"2022-01-22T00:00:00\"}, {\"Counts\": 0.04225352112676056, \"Date\": \"2022-01-23T00:00:00\"}, {\"Counts\": 0.04627766599597585, \"Date\": \"2022-01-24T00:00:00\"}, {\"Counts\": 0.07847082494969819, \"Date\": \"2022-01-25T00:00:00\"}, {\"Counts\": 0.10865191146881288, \"Date\": \"2022-01-26T00:00:00\"}, {\"Counts\": 0.09456740442655935, \"Date\": \"2022-01-27T00:00:00\"}, {\"Counts\": 0.096579476861167, \"Date\": \"2022-01-28T00:00:00\"}, {\"Counts\": 0.06438631790744467, \"Date\": \"2022-01-29T00:00:00\"}, {\"Counts\": 0.12474849094567404, \"Date\": \"2022-01-30T00:00:00\"}, {\"Counts\": 0.07645875251509054, \"Date\": \"2022-01-31T00:00:00\"}, {\"Counts\": 0.096579476861167, \"Date\": \"2022-02-01T00:00:00\"}, {\"Counts\": 0.2052313883299799, \"Date\": \"2022-02-02T00:00:00\"}, {\"Counts\": 0.2112676056338028, \"Date\": \"2022-02-03T00:00:00\"}, {\"Counts\": 0.07645875251509054, \"Date\": \"2022-02-04T00:00:00\"}, {\"Counts\": 0.07042253521126761, \"Date\": \"2022-02-05T00:00:00\"}, {\"Counts\": 0.1006036217303823, \"Date\": \"2022-02-06T00:00:00\"}, {\"Counts\": 0.09859154929577464, \"Date\": \"2022-02-07T00:00:00\"}, {\"Counts\": 0.0744466800804829, \"Date\": \"2022-02-08T00:00:00\"}, {\"Counts\": 0.07243460764587525, \"Date\": \"2022-02-09T00:00:00\"}, {\"Counts\": 0.13682092555331993, \"Date\": \"2022-02-10T00:00:00\"}, {\"Counts\": 0.06639839034205232, \"Date\": \"2022-02-11T00:00:00\"}, {\"Counts\": 0.03420523138832998, \"Date\": \"2022-02-12T00:00:00\"}, {\"Counts\": 0.07847082494969819, \"Date\": \"2022-02-13T00:00:00\"}, {\"Counts\": 0.03822937625754527, \"Date\": \"2022-02-14T00:00:00\"}, {\"Counts\": 0.04426559356136821, \"Date\": \"2022-02-15T00:00:00\"}, {\"Counts\": 0.08048289738430583, \"Date\": \"2022-02-16T00:00:00\"}, {\"Counts\": 0.060362173038229376, \"Date\": \"2022-02-17T00:00:00\"}, {\"Counts\": 0.0925553319919517, \"Date\": \"2022-02-18T00:00:00\"}, {\"Counts\": 0.04426559356136821, \"Date\": \"2022-02-19T00:00:00\"}, {\"Counts\": 0.028169014084507043, \"Date\": \"2022-02-20T00:00:00\"}, {\"Counts\": 0.03420523138832998, \"Date\": \"2022-02-21T00:00:00\"}, {\"Counts\": 0.052313883299798795, \"Date\": \"2022-02-22T00:00:00\"}, {\"Counts\": 0.2776659959758551, \"Date\": \"2022-02-23T00:00:00\"}, {\"Counts\": 0.2716297786720322, \"Date\": \"2022-02-24T00:00:00\"}, {\"Counts\": 0.08249496981891348, \"Date\": \"2022-02-25T00:00:00\"}, {\"Counts\": 0.07243460764587525, \"Date\": \"2022-02-26T00:00:00\"}, {\"Counts\": 0.08450704225352113, \"Date\": \"2022-02-27T00:00:00\"}, {\"Counts\": 0.14285714285714285, \"Date\": \"2022-02-28T00:00:00\"}, {\"Counts\": 0.23742454728370221, \"Date\": \"2022-03-01T00:00:00\"}, {\"Counts\": 0.12072434607645875, \"Date\": \"2022-03-02T00:00:00\"}, {\"Counts\": 0.07243460764587525, \"Date\": \"2022-03-03T00:00:00\"}, {\"Counts\": 0.02414486921529175, \"Date\": \"2022-03-04T00:00:00\"}, {\"Counts\": 0.02012072434607646, \"Date\": \"2022-03-05T00:00:00\"}, {\"Counts\": 0.026156941649899398, \"Date\": \"2022-03-06T00:00:00\"}, {\"Counts\": 0.05835010060362173, \"Date\": \"2022-03-07T00:00:00\"}, {\"Counts\": 0.09456740442655935, \"Date\": \"2022-03-08T00:00:00\"}, {\"Counts\": 0.05835010060362173, \"Date\": \"2022-03-09T00:00:00\"}, {\"Counts\": 0.11267605633802817, \"Date\": \"2022-03-10T00:00:00\"}, {\"Counts\": 0.193158953722334, \"Date\": \"2022-03-11T00:00:00\"}, {\"Counts\": 0.1529175050301811, \"Date\": \"2022-03-12T00:00:00\"}, {\"Counts\": 0.04627766599597585, \"Date\": \"2022-03-13T00:00:00\"}, {\"Counts\": 0.14084507042253522, \"Date\": \"2022-03-14T00:00:00\"}, {\"Counts\": 0.08249496981891348, \"Date\": \"2022-03-15T00:00:00\"}, {\"Counts\": 0.07042253521126761, \"Date\": \"2022-03-16T00:00:00\"}, {\"Counts\": 0.07243460764587525, \"Date\": \"2022-03-17T00:00:00\"}, {\"Counts\": 0.04426559356136821, \"Date\": \"2022-03-18T00:00:00\"}, {\"Counts\": 0.02012072434607646, \"Date\": \"2022-03-19T00:00:00\"}, {\"Counts\": 0.030181086519114688, \"Date\": \"2022-03-20T00:00:00\"}, {\"Counts\": 0.05030181086519115, \"Date\": \"2022-03-21T00:00:00\"}, {\"Counts\": 0.06639839034205232, \"Date\": \"2022-03-22T00:00:00\"}, {\"Counts\": 0.04225352112676056, \"Date\": \"2022-03-23T00:00:00\"}, {\"Counts\": 0.16700201207243462, \"Date\": \"2022-03-24T00:00:00\"}, {\"Counts\": 0.026156941649899398, \"Date\": \"2022-03-25T00:00:00\"}, {\"Counts\": 0.03420523138832998, \"Date\": \"2022-03-26T00:00:00\"}, {\"Counts\": 0.012072434607645875, \"Date\": \"2022-03-27T00:00:00\"}, {\"Counts\": 0.060362173038229376, \"Date\": \"2022-03-28T00:00:00\"}, {\"Counts\": 0.0482897384305835, \"Date\": \"2022-03-29T00:00:00\"}, {\"Counts\": 0.12877263581488935, \"Date\": \"2022-03-30T00:00:00\"}, {\"Counts\": 0.17706237424547283, \"Date\": \"2022-03-31T00:00:00\"}, {\"Counts\": 0.11871227364185111, \"Date\": \"2022-04-01T00:00:00\"}, {\"Counts\": 0.05030181086519115, \"Date\": \"2022-04-02T00:00:00\"}, {\"Counts\": 0.03420523138832998, \"Date\": \"2022-04-03T00:00:00\"}, {\"Counts\": 0.096579476861167, \"Date\": \"2022-04-04T00:00:00\"}, {\"Counts\": 0.08450704225352113, \"Date\": \"2022-04-05T00:00:00\"}, {\"Counts\": 0.10663983903420524, \"Date\": \"2022-04-06T00:00:00\"}, {\"Counts\": 0.3460764587525151, \"Date\": \"2022-04-07T00:00:00\"}, {\"Counts\": 0.10865191146881288, \"Date\": \"2022-04-08T00:00:00\"}, {\"Counts\": 0.13078470824949698, \"Date\": \"2022-04-09T00:00:00\"}, {\"Counts\": 0.03822937625754527, \"Date\": \"2022-04-10T00:00:00\"}, {\"Counts\": 0.0744466800804829, \"Date\": \"2022-04-11T00:00:00\"}, {\"Counts\": 0.1851106639839034, \"Date\": \"2022-04-12T00:00:00\"}, {\"Counts\": 0.9336016096579477, \"Date\": \"2022-04-13T00:00:00\"}, {\"Counts\": 0.5814889336016097, \"Date\": \"2022-04-14T00:00:00\"}, {\"Counts\": 0.2595573440643863, \"Date\": \"2022-04-15T00:00:00\"}, {\"Counts\": 0.3843058350100604, \"Date\": \"2022-04-16T00:00:00\"}, {\"Counts\": 0.26156941649899396, \"Date\": \"2022-04-17T00:00:00\"}, {\"Counts\": 0.13883299798792756, \"Date\": \"2022-04-18T00:00:00\"}, {\"Counts\": 0.14688128772635814, \"Date\": \"2022-04-19T00:00:00\"}, {\"Counts\": 0.1006036217303823, \"Date\": \"2022-04-20T00:00:00\"}, {\"Counts\": 0.12474849094567404, \"Date\": \"2022-04-21T00:00:00\"}, {\"Counts\": 0.08853118712273642, \"Date\": \"2022-04-22T00:00:00\"}, {\"Counts\": 0.13883299798792756, \"Date\": \"2022-04-23T00:00:00\"}, {\"Counts\": 0.07042253521126761, \"Date\": \"2022-04-24T00:00:00\"}, {\"Counts\": 0.13480885311871227, \"Date\": \"2022-04-25T00:00:00\"}, {\"Counts\": 0.11267605633802817, \"Date\": \"2022-04-26T00:00:00\"}, {\"Counts\": 0.12474849094567404, \"Date\": \"2022-04-27T00:00:00\"}, {\"Counts\": 0.09456740442655935, \"Date\": \"2022-04-28T00:00:00\"}, {\"Counts\": 0.12072434607645875, \"Date\": \"2022-04-29T00:00:00\"}, {\"Counts\": 0.052313883299798795, \"Date\": \"2022-04-30T00:00:00\"}, {\"Counts\": 0.01609657947686117, \"Date\": \"2022-05-01T00:00:00\"}, {\"Counts\": 0.08450704225352113, \"Date\": \"2022-05-02T00:00:00\"}, {\"Counts\": 0.04426559356136821, \"Date\": \"2022-05-03T00:00:00\"}, {\"Counts\": 0.022132796780684104, \"Date\": \"2022-05-04T00:00:00\"}, {\"Counts\": 0.056338028169014086, \"Date\": \"2022-05-05T00:00:00\"}, {\"Counts\": 0.06841046277665996, \"Date\": \"2022-05-06T00:00:00\"}, {\"Counts\": 0.060362173038229376, \"Date\": \"2022-05-07T00:00:00\"}, {\"Counts\": 0.056338028169014086, \"Date\": \"2022-05-08T00:00:00\"}, {\"Counts\": 0.10865191146881288, \"Date\": \"2022-05-09T00:00:00\"}, {\"Counts\": 0.08048289738430583, \"Date\": \"2022-05-10T00:00:00\"}, {\"Counts\": 0.08450704225352113, \"Date\": \"2022-05-11T00:00:00\"}, {\"Counts\": 0.0925553319919517, \"Date\": \"2022-05-12T00:00:00\"}, {\"Counts\": 0.06639839034205232, \"Date\": \"2022-05-13T00:00:00\"}, {\"Counts\": 0.13682092555331993, \"Date\": \"2022-05-14T00:00:00\"}, {\"Counts\": 0.06438631790744467, \"Date\": \"2022-05-15T00:00:00\"}, {\"Counts\": 0.05835010060362173, \"Date\": \"2022-05-16T00:00:00\"}, {\"Counts\": 0.052313883299798795, \"Date\": \"2022-05-17T00:00:00\"}, {\"Counts\": 0.028169014084507043, \"Date\": \"2022-05-18T00:00:00\"}, {\"Counts\": 0.03621730382293763, \"Date\": \"2022-05-19T00:00:00\"}, {\"Counts\": 0.06639839034205232, \"Date\": \"2022-05-20T00:00:00\"}, {\"Counts\": 0.05432595573440644, \"Date\": \"2022-05-21T00:00:00\"}, {\"Counts\": 0.004024144869215292, \"Date\": \"2022-05-22T00:00:00\"}, {\"Counts\": 0.030181086519114688, \"Date\": \"2022-05-23T00:00:00\"}, {\"Counts\": 0.38028169014084506, \"Date\": \"2022-05-24T00:00:00\"}, {\"Counts\": 1.0, \"Date\": \"2022-05-25T00:00:00\"}, {\"Counts\": 0.6680080482897385, \"Date\": \"2022-05-26T00:00:00\"}, {\"Counts\": 0.93158953722334, \"Date\": \"2022-05-27T00:00:00\"}, {\"Counts\": 0.49295774647887325, \"Date\": \"2022-05-28T00:00:00\"}, {\"Counts\": 0.2857142857142857, \"Date\": \"2022-05-29T00:00:00\"}, {\"Counts\": 0.17303822937625754, \"Date\": \"2022-05-30T00:00:00\"}, {\"Counts\": 0.05030181086519115, \"Date\": \"2022-05-31T00:00:00\"}, {\"Counts\": 0.08048289738430583, \"Date\": \"2022-06-01T00:00:00\"}, {\"Counts\": 0.10663983903420524, \"Date\": \"2022-06-02T00:00:00\"}, {\"Counts\": 0.08853118712273642, \"Date\": \"2022-06-03T00:00:00\"}, {\"Counts\": 0.12072434607645875, \"Date\": \"2022-06-04T00:00:00\"}, {\"Counts\": 0.096579476861167, \"Date\": \"2022-06-05T00:00:00\"}, {\"Counts\": 0.10663983903420524, \"Date\": \"2022-06-06T00:00:00\"}, {\"Counts\": 0.056338028169014086, \"Date\": \"2022-06-07T00:00:00\"}, {\"Counts\": 0.08048289738430583, \"Date\": \"2022-06-08T00:00:00\"}, {\"Counts\": 0.060362173038229376, \"Date\": \"2022-06-09T00:00:00\"}, {\"Counts\": 0.018108651911468814, \"Date\": \"2022-06-10T00:00:00\"}, {\"Counts\": 0.05030181086519115, \"Date\": \"2022-06-11T00:00:00\"}, {\"Counts\": 0.13883299798792756, \"Date\": \"2022-06-12T00:00:00\"}, {\"Counts\": 0.1710261569416499, \"Date\": \"2022-06-13T00:00:00\"}, {\"Counts\": 0.1710261569416499, \"Date\": \"2022-06-14T00:00:00\"}, {\"Counts\": 0.10462776659959759, \"Date\": \"2022-06-15T00:00:00\"}, {\"Counts\": 0.0482897384305835, \"Date\": \"2022-06-16T00:00:00\"}, {\"Counts\": 0.11267605633802817, \"Date\": \"2022-06-17T00:00:00\"}, {\"Counts\": 0.06438631790744467, \"Date\": \"2022-06-18T00:00:00\"}, {\"Counts\": 0.09054325955734406, \"Date\": \"2022-06-19T00:00:00\"}, {\"Counts\": 0.06841046277665996, \"Date\": \"2022-06-20T00:00:00\"}, {\"Counts\": 0.09054325955734406, \"Date\": \"2022-06-21T00:00:00\"}, {\"Counts\": 0.052313883299798795, \"Date\": \"2022-06-22T00:00:00\"}, {\"Counts\": 0.05835010060362173, \"Date\": \"2022-06-23T00:00:00\"}, {\"Counts\": 0.05835010060362173, \"Date\": \"2022-06-24T00:00:00\"}, {\"Counts\": 0.0, \"Date\": \"2022-06-25T00:00:00\"}, {\"Counts\": 0.0, \"Date\": \"2022-06-26T00:00:00\"}, {\"Counts\": 0.0, \"Date\": \"2022-06-27T00:00:00\"}, {\"Counts\": 0.0, \"Date\": \"2022-06-28T00:00:00\"}, {\"Counts\": 0.0, \"Date\": \"2022-06-29T00:00:00\"}, {\"Counts\": 0.0, \"Date\": \"2022-06-30T00:00:00\"}, {\"Counts\": 0.323943661971831, \"Date\": \"2022-01-01T00:00:00\"}, {\"Counts\": 0.096579476861167, \"Date\": \"2022-01-02T00:00:00\"}, {\"Counts\": 0.09859154929577464, \"Date\": \"2022-01-03T00:00:00\"}, {\"Counts\": 0.08651911468812877, \"Date\": \"2022-01-04T00:00:00\"}, {\"Counts\": 0.06841046277665996, \"Date\": \"2022-01-05T00:00:00\"}, {\"Counts\": 0.0482897384305835, \"Date\": \"2022-01-06T00:00:00\"}, {\"Counts\": 0.09054325955734406, \"Date\": \"2022-01-07T00:00:00\"}, {\"Counts\": 0.07645875251509054, \"Date\": \"2022-01-08T00:00:00\"}, {\"Counts\": 0.16498993963782696, \"Date\": \"2022-01-09T00:00:00\"}, {\"Counts\": 0.12474849094567404, \"Date\": \"2022-01-10T00:00:00\"}, {\"Counts\": 0.0744466800804829, \"Date\": \"2022-01-11T00:00:00\"}, {\"Counts\": 0.060362173038229376, \"Date\": \"2022-01-12T00:00:00\"}, {\"Counts\": 0.07645875251509054, \"Date\": \"2022-01-13T00:00:00\"}, {\"Counts\": 0.08450704225352113, \"Date\": \"2022-01-14T00:00:00\"}, {\"Counts\": 0.04225352112676056, \"Date\": \"2022-01-15T00:00:00\"}, {\"Counts\": 0.16096579476861167, \"Date\": \"2022-01-16T00:00:00\"}, {\"Counts\": 0.12474849094567404, \"Date\": \"2022-01-17T00:00:00\"}, {\"Counts\": 0.08450704225352113, \"Date\": \"2022-01-18T00:00:00\"}, {\"Counts\": 0.05432595573440644, \"Date\": \"2022-01-19T00:00:00\"}, {\"Counts\": 0.07645875251509054, \"Date\": \"2022-01-20T00:00:00\"}, {\"Counts\": 0.08249496981891348, \"Date\": \"2022-01-21T00:00:00\"}, {\"Counts\": 0.04225352112676056, \"Date\": \"2022-01-22T00:00:00\"}, {\"Counts\": 0.04225352112676056, \"Date\": \"2022-01-23T00:00:00\"}, {\"Counts\": 0.04627766599597585, \"Date\": \"2022-01-24T00:00:00\"}, {\"Counts\": 0.07847082494969819, \"Date\": \"2022-01-25T00:00:00\"}, {\"Counts\": 0.10865191146881288, \"Date\": \"2022-01-26T00:00:00\"}, {\"Counts\": 0.09456740442655935, \"Date\": \"2022-01-27T00:00:00\"}, {\"Counts\": 0.096579476861167, \"Date\": \"2022-01-28T00:00:00\"}, {\"Counts\": 0.06438631790744467, \"Date\": \"2022-01-29T00:00:00\"}, {\"Counts\": 0.12474849094567404, \"Date\": \"2022-01-30T00:00:00\"}, {\"Counts\": 0.07645875251509054, \"Date\": \"2022-01-31T00:00:00\"}, {\"Counts\": 0.096579476861167, \"Date\": \"2022-02-01T00:00:00\"}, {\"Counts\": 0.2052313883299799, \"Date\": \"2022-02-02T00:00:00\"}, {\"Counts\": 0.2112676056338028, \"Date\": \"2022-02-03T00:00:00\"}, {\"Counts\": 0.07645875251509054, \"Date\": \"2022-02-04T00:00:00\"}, {\"Counts\": 0.07042253521126761, \"Date\": \"2022-02-05T00:00:00\"}, {\"Counts\": 0.1006036217303823, \"Date\": \"2022-02-06T00:00:00\"}, {\"Counts\": 0.09859154929577464, \"Date\": \"2022-02-07T00:00:00\"}, {\"Counts\": 0.0744466800804829, \"Date\": \"2022-02-08T00:00:00\"}, {\"Counts\": 0.07243460764587525, \"Date\": \"2022-02-09T00:00:00\"}, {\"Counts\": 0.13682092555331993, \"Date\": \"2022-02-10T00:00:00\"}, {\"Counts\": 0.06639839034205232, \"Date\": \"2022-02-11T00:00:00\"}, {\"Counts\": 0.03420523138832998, \"Date\": \"2022-02-12T00:00:00\"}, {\"Counts\": 0.07847082494969819, \"Date\": \"2022-02-13T00:00:00\"}, {\"Counts\": 0.03822937625754527, \"Date\": \"2022-02-14T00:00:00\"}, {\"Counts\": 0.04426559356136821, \"Date\": \"2022-02-15T00:00:00\"}, {\"Counts\": 0.08048289738430583, \"Date\": \"2022-02-16T00:00:00\"}, {\"Counts\": 0.060362173038229376, \"Date\": \"2022-02-17T00:00:00\"}, {\"Counts\": 0.0925553319919517, \"Date\": \"2022-02-18T00:00:00\"}, {\"Counts\": 0.04426559356136821, \"Date\": \"2022-02-19T00:00:00\"}, {\"Counts\": 0.028169014084507043, \"Date\": \"2022-02-20T00:00:00\"}, {\"Counts\": 0.03420523138832998, \"Date\": \"2022-02-21T00:00:00\"}, {\"Counts\": 0.052313883299798795, \"Date\": \"2022-02-22T00:00:00\"}, {\"Counts\": 0.2776659959758551, \"Date\": \"2022-02-23T00:00:00\"}, {\"Counts\": 0.2716297786720322, \"Date\": \"2022-02-24T00:00:00\"}, {\"Counts\": 0.08249496981891348, \"Date\": \"2022-02-25T00:00:00\"}, {\"Counts\": 0.07243460764587525, \"Date\": \"2022-02-26T00:00:00\"}, {\"Counts\": 0.08450704225352113, \"Date\": \"2022-02-27T00:00:00\"}, {\"Counts\": 0.14285714285714285, \"Date\": \"2022-02-28T00:00:00\"}, {\"Counts\": 0.23742454728370221, \"Date\": \"2022-03-01T00:00:00\"}, {\"Counts\": 0.12072434607645875, \"Date\": \"2022-03-02T00:00:00\"}, {\"Counts\": 0.07243460764587525, \"Date\": \"2022-03-03T00:00:00\"}, {\"Counts\": 0.02414486921529175, \"Date\": \"2022-03-04T00:00:00\"}, {\"Counts\": 0.02012072434607646, \"Date\": \"2022-03-05T00:00:00\"}, {\"Counts\": 0.026156941649899398, \"Date\": \"2022-03-06T00:00:00\"}, {\"Counts\": 0.05835010060362173, \"Date\": \"2022-03-07T00:00:00\"}, {\"Counts\": 0.09456740442655935, \"Date\": \"2022-03-08T00:00:00\"}, {\"Counts\": 0.05835010060362173, \"Date\": \"2022-03-09T00:00:00\"}, {\"Counts\": 0.11267605633802817, \"Date\": \"2022-03-10T00:00:00\"}, {\"Counts\": 0.193158953722334, \"Date\": \"2022-03-11T00:00:00\"}, {\"Counts\": 0.1529175050301811, \"Date\": \"2022-03-12T00:00:00\"}, {\"Counts\": 0.04627766599597585, \"Date\": \"2022-03-13T00:00:00\"}, {\"Counts\": 0.14084507042253522, \"Date\": \"2022-03-14T00:00:00\"}, {\"Counts\": 0.08249496981891348, \"Date\": \"2022-03-15T00:00:00\"}, {\"Counts\": 0.07042253521126761, \"Date\": \"2022-03-16T00:00:00\"}, {\"Counts\": 0.07243460764587525, \"Date\": \"2022-03-17T00:00:00\"}, {\"Counts\": 0.04426559356136821, \"Date\": \"2022-03-18T00:00:00\"}, {\"Counts\": 0.02012072434607646, \"Date\": \"2022-03-19T00:00:00\"}, {\"Counts\": 0.030181086519114688, \"Date\": \"2022-03-20T00:00:00\"}, {\"Counts\": 0.05030181086519115, \"Date\": \"2022-03-21T00:00:00\"}, {\"Counts\": 0.06639839034205232, \"Date\": \"2022-03-22T00:00:00\"}, {\"Counts\": 0.04225352112676056, \"Date\": \"2022-03-23T00:00:00\"}, {\"Counts\": 0.16700201207243462, \"Date\": \"2022-03-24T00:00:00\"}, {\"Counts\": 0.026156941649899398, \"Date\": \"2022-03-25T00:00:00\"}, {\"Counts\": 0.03420523138832998, \"Date\": \"2022-03-26T00:00:00\"}, {\"Counts\": 0.012072434607645875, \"Date\": \"2022-03-27T00:00:00\"}, {\"Counts\": 0.060362173038229376, \"Date\": \"2022-03-28T00:00:00\"}, {\"Counts\": 0.0482897384305835, \"Date\": \"2022-03-29T00:00:00\"}, {\"Counts\": 0.12877263581488935, \"Date\": \"2022-03-30T00:00:00\"}, {\"Counts\": 0.17706237424547283, \"Date\": \"2022-03-31T00:00:00\"}, {\"Counts\": 0.11871227364185111, \"Date\": \"2022-04-01T00:00:00\"}, {\"Counts\": 0.05030181086519115, \"Date\": \"2022-04-02T00:00:00\"}, {\"Counts\": 0.03420523138832998, \"Date\": \"2022-04-03T00:00:00\"}, {\"Counts\": 0.096579476861167, \"Date\": \"2022-04-04T00:00:00\"}, {\"Counts\": 0.08450704225352113, \"Date\": \"2022-04-05T00:00:00\"}, {\"Counts\": 0.10663983903420524, \"Date\": \"2022-04-06T00:00:00\"}, {\"Counts\": 0.3460764587525151, \"Date\": \"2022-04-07T00:00:00\"}, {\"Counts\": 0.10865191146881288, \"Date\": \"2022-04-08T00:00:00\"}, {\"Counts\": 0.13078470824949698, \"Date\": \"2022-04-09T00:00:00\"}, {\"Counts\": 0.03822937625754527, \"Date\": \"2022-04-10T00:00:00\"}, {\"Counts\": 0.0744466800804829, \"Date\": \"2022-04-11T00:00:00\"}, {\"Counts\": 0.1851106639839034, \"Date\": \"2022-04-12T00:00:00\"}, {\"Counts\": 0.9336016096579477, \"Date\": \"2022-04-13T00:00:00\"}, {\"Counts\": 0.5814889336016097, \"Date\": \"2022-04-14T00:00:00\"}, {\"Counts\": 0.2595573440643863, \"Date\": \"2022-04-15T00:00:00\"}, {\"Counts\": 0.3843058350100604, \"Date\": \"2022-04-16T00:00:00\"}, {\"Counts\": 0.26156941649899396, \"Date\": \"2022-04-17T00:00:00\"}, {\"Counts\": 0.13883299798792756, \"Date\": \"2022-04-18T00:00:00\"}, {\"Counts\": 0.14688128772635814, \"Date\": \"2022-04-19T00:00:00\"}, {\"Counts\": 0.1006036217303823, \"Date\": \"2022-04-20T00:00:00\"}, {\"Counts\": 0.12474849094567404, \"Date\": \"2022-04-21T00:00:00\"}, {\"Counts\": 0.08853118712273642, \"Date\": \"2022-04-22T00:00:00\"}, {\"Counts\": 0.13883299798792756, \"Date\": \"2022-04-23T00:00:00\"}, {\"Counts\": 0.07042253521126761, \"Date\": \"2022-04-24T00:00:00\"}, {\"Counts\": 0.13480885311871227, \"Date\": \"2022-04-25T00:00:00\"}, {\"Counts\": 0.11267605633802817, \"Date\": \"2022-04-26T00:00:00\"}, {\"Counts\": 0.12474849094567404, \"Date\": \"2022-04-27T00:00:00\"}, {\"Counts\": 0.09456740442655935, \"Date\": \"2022-04-28T00:00:00\"}, {\"Counts\": 0.12072434607645875, \"Date\": \"2022-04-29T00:00:00\"}, {\"Counts\": 0.052313883299798795, \"Date\": \"2022-04-30T00:00:00\"}, {\"Counts\": 0.01609657947686117, \"Date\": \"2022-05-01T00:00:00\"}, {\"Counts\": 0.08450704225352113, \"Date\": \"2022-05-02T00:00:00\"}, {\"Counts\": 0.04426559356136821, \"Date\": \"2022-05-03T00:00:00\"}, {\"Counts\": 0.022132796780684104, \"Date\": \"2022-05-04T00:00:00\"}, {\"Counts\": 0.056338028169014086, \"Date\": \"2022-05-05T00:00:00\"}, {\"Counts\": 0.06841046277665996, \"Date\": \"2022-05-06T00:00:00\"}, {\"Counts\": 0.060362173038229376, \"Date\": \"2022-05-07T00:00:00\"}, {\"Counts\": 0.056338028169014086, \"Date\": \"2022-05-08T00:00:00\"}, {\"Counts\": 0.10865191146881288, \"Date\": \"2022-05-09T00:00:00\"}, {\"Counts\": 0.08048289738430583, \"Date\": \"2022-05-10T00:00:00\"}, {\"Counts\": 0.08450704225352113, \"Date\": \"2022-05-11T00:00:00\"}, {\"Counts\": 0.0925553319919517, \"Date\": \"2022-05-12T00:00:00\"}, {\"Counts\": 0.06639839034205232, \"Date\": \"2022-05-13T00:00:00\"}, {\"Counts\": 0.13682092555331993, \"Date\": \"2022-05-14T00:00:00\"}, {\"Counts\": 0.06438631790744467, \"Date\": \"2022-05-15T00:00:00\"}, {\"Counts\": 0.05835010060362173, \"Date\": \"2022-05-16T00:00:00\"}, {\"Counts\": 0.052313883299798795, \"Date\": \"2022-05-17T00:00:00\"}, {\"Counts\": 0.028169014084507043, \"Date\": \"2022-05-18T00:00:00\"}, {\"Counts\": 0.03621730382293763, \"Date\": \"2022-05-19T00:00:00\"}, {\"Counts\": 0.06639839034205232, \"Date\": \"2022-05-20T00:00:00\"}, {\"Counts\": 0.05432595573440644, \"Date\": \"2022-05-21T00:00:00\"}, {\"Counts\": 0.004024144869215292, \"Date\": \"2022-05-22T00:00:00\"}, {\"Counts\": 0.030181086519114688, \"Date\": \"2022-05-23T00:00:00\"}, {\"Counts\": 0.38028169014084506, \"Date\": \"2022-05-24T00:00:00\"}, {\"Counts\": 1.0, \"Date\": \"2022-05-25T00:00:00\"}, {\"Counts\": 0.6680080482897385, \"Date\": \"2022-05-26T00:00:00\"}, {\"Counts\": 0.93158953722334, \"Date\": \"2022-05-27T00:00:00\"}, {\"Counts\": 0.49295774647887325, \"Date\": \"2022-05-28T00:00:00\"}, {\"Counts\": 0.2857142857142857, \"Date\": \"2022-05-29T00:00:00\"}, {\"Counts\": 0.17303822937625754, \"Date\": \"2022-05-30T00:00:00\"}, {\"Counts\": 0.05030181086519115, \"Date\": \"2022-05-31T00:00:00\"}, {\"Counts\": 0.08048289738430583, \"Date\": \"2022-06-01T00:00:00\"}, {\"Counts\": 0.10663983903420524, \"Date\": \"2022-06-02T00:00:00\"}, {\"Counts\": 0.08853118712273642, \"Date\": \"2022-06-03T00:00:00\"}, {\"Counts\": 0.12072434607645875, \"Date\": \"2022-06-04T00:00:00\"}, {\"Counts\": 0.096579476861167, \"Date\": \"2022-06-05T00:00:00\"}, {\"Counts\": 0.10663983903420524, \"Date\": \"2022-06-06T00:00:00\"}, {\"Counts\": 0.056338028169014086, \"Date\": \"2022-06-07T00:00:00\"}, {\"Counts\": 0.08048289738430583, \"Date\": \"2022-06-08T00:00:00\"}, {\"Counts\": 0.060362173038229376, \"Date\": \"2022-06-09T00:00:00\"}, {\"Counts\": 0.018108651911468814, \"Date\": \"2022-06-10T00:00:00\"}, {\"Counts\": 0.05030181086519115, \"Date\": \"2022-06-11T00:00:00\"}, {\"Counts\": 0.13883299798792756, \"Date\": \"2022-06-12T00:00:00\"}, {\"Counts\": 0.1710261569416499, \"Date\": \"2022-06-13T00:00:00\"}, {\"Counts\": 0.1710261569416499, \"Date\": \"2022-06-14T00:00:00\"}, {\"Counts\": 0.10462776659959759, \"Date\": \"2022-06-15T00:00:00\"}, {\"Counts\": 0.0482897384305835, \"Date\": \"2022-06-16T00:00:00\"}, {\"Counts\": 0.11267605633802817, \"Date\": \"2022-06-17T00:00:00\"}, {\"Counts\": 0.06438631790744467, \"Date\": \"2022-06-18T00:00:00\"}, {\"Counts\": 0.09054325955734406, \"Date\": \"2022-06-19T00:00:00\"}, {\"Counts\": 0.06841046277665996, \"Date\": \"2022-06-20T00:00:00\"}, {\"Counts\": 0.09054325955734406, \"Date\": \"2022-06-21T00:00:00\"}, {\"Counts\": 0.052313883299798795, \"Date\": \"2022-06-22T00:00:00\"}, {\"Counts\": 0.05835010060362173, \"Date\": \"2022-06-23T00:00:00\"}, {\"Counts\": 0.05835010060362173, \"Date\": \"2022-06-24T00:00:00\"}, {\"Counts\": 0.0, \"Date\": \"2022-06-25T00:00:00\"}, {\"Counts\": 0.0, \"Date\": \"2022-06-26T00:00:00\"}, {\"Counts\": 0.0, \"Date\": \"2022-06-27T00:00:00\"}, {\"Counts\": 0.0, \"Date\": \"2022-06-28T00:00:00\"}, {\"Counts\": 0.0, \"Date\": \"2022-06-29T00:00:00\"}, {\"Counts\": 0.0, \"Date\": \"2022-06-30T00:00:00\"}, {\"Counts\": 0.323943661971831, \"Date\": \"2022-01-01T00:00:00\"}, {\"Counts\": 0.096579476861167, \"Date\": \"2022-01-02T00:00:00\"}, {\"Counts\": 0.09859154929577464, \"Date\": \"2022-01-03T00:00:00\"}, {\"Counts\": 0.08651911468812877, \"Date\": \"2022-01-04T00:00:00\"}, {\"Counts\": 0.06841046277665996, \"Date\": \"2022-01-05T00:00:00\"}, {\"Counts\": 0.0482897384305835, \"Date\": \"2022-01-06T00:00:00\"}, {\"Counts\": 0.09054325955734406, \"Date\": \"2022-01-07T00:00:00\"}, {\"Counts\": 0.07645875251509054, \"Date\": \"2022-01-08T00:00:00\"}, {\"Counts\": 0.16498993963782696, \"Date\": \"2022-01-09T00:00:00\"}, {\"Counts\": 0.12474849094567404, \"Date\": \"2022-01-10T00:00:00\"}, {\"Counts\": 0.0744466800804829, \"Date\": \"2022-01-11T00:00:00\"}, {\"Counts\": 0.060362173038229376, \"Date\": \"2022-01-12T00:00:00\"}, {\"Counts\": 0.07645875251509054, \"Date\": \"2022-01-13T00:00:00\"}, {\"Counts\": 0.08450704225352113, \"Date\": \"2022-01-14T00:00:00\"}, {\"Counts\": 0.04225352112676056, \"Date\": \"2022-01-15T00:00:00\"}, {\"Counts\": 0.16096579476861167, \"Date\": \"2022-01-16T00:00:00\"}, {\"Counts\": 0.12474849094567404, \"Date\": \"2022-01-17T00:00:00\"}, {\"Counts\": 0.08450704225352113, \"Date\": \"2022-01-18T00:00:00\"}, {\"Counts\": 0.05432595573440644, \"Date\": \"2022-01-19T00:00:00\"}, {\"Counts\": 0.07645875251509054, \"Date\": \"2022-01-20T00:00:00\"}, {\"Counts\": 0.08249496981891348, \"Date\": \"2022-01-21T00:00:00\"}, {\"Counts\": 0.04225352112676056, \"Date\": \"2022-01-22T00:00:00\"}, {\"Counts\": 0.04225352112676056, \"Date\": \"2022-01-23T00:00:00\"}, {\"Counts\": 0.04627766599597585, \"Date\": \"2022-01-24T00:00:00\"}, {\"Counts\": 0.07847082494969819, \"Date\": \"2022-01-25T00:00:00\"}, {\"Counts\": 0.10865191146881288, \"Date\": \"2022-01-26T00:00:00\"}, {\"Counts\": 0.09456740442655935, \"Date\": \"2022-01-27T00:00:00\"}, {\"Counts\": 0.096579476861167, \"Date\": \"2022-01-28T00:00:00\"}, {\"Counts\": 0.06438631790744467, \"Date\": \"2022-01-29T00:00:00\"}, {\"Counts\": 0.12474849094567404, \"Date\": \"2022-01-30T00:00:00\"}, {\"Counts\": 0.07645875251509054, \"Date\": \"2022-01-31T00:00:00\"}, {\"Counts\": 0.096579476861167, \"Date\": \"2022-02-01T00:00:00\"}, {\"Counts\": 0.2052313883299799, \"Date\": \"2022-02-02T00:00:00\"}, {\"Counts\": 0.2112676056338028, \"Date\": \"2022-02-03T00:00:00\"}, {\"Counts\": 0.07645875251509054, \"Date\": \"2022-02-04T00:00:00\"}, {\"Counts\": 0.07042253521126761, \"Date\": \"2022-02-05T00:00:00\"}, {\"Counts\": 0.1006036217303823, \"Date\": \"2022-02-06T00:00:00\"}, {\"Counts\": 0.09859154929577464, \"Date\": \"2022-02-07T00:00:00\"}, {\"Counts\": 0.0744466800804829, \"Date\": \"2022-02-08T00:00:00\"}, {\"Counts\": 0.07243460764587525, \"Date\": \"2022-02-09T00:00:00\"}, {\"Counts\": 0.13682092555331993, \"Date\": \"2022-02-10T00:00:00\"}, {\"Counts\": 0.06639839034205232, \"Date\": \"2022-02-11T00:00:00\"}, {\"Counts\": 0.03420523138832998, \"Date\": \"2022-02-12T00:00:00\"}, {\"Counts\": 0.07847082494969819, \"Date\": \"2022-02-13T00:00:00\"}, {\"Counts\": 0.03822937625754527, \"Date\": \"2022-02-14T00:00:00\"}, {\"Counts\": 0.04426559356136821, \"Date\": \"2022-02-15T00:00:00\"}, {\"Counts\": 0.08048289738430583, \"Date\": \"2022-02-16T00:00:00\"}, {\"Counts\": 0.060362173038229376, \"Date\": \"2022-02-17T00:00:00\"}, {\"Counts\": 0.0925553319919517, \"Date\": \"2022-02-18T00:00:00\"}, {\"Counts\": 0.04426559356136821, \"Date\": \"2022-02-19T00:00:00\"}, {\"Counts\": 0.028169014084507043, \"Date\": \"2022-02-20T00:00:00\"}, {\"Counts\": 0.03420523138832998, \"Date\": \"2022-02-21T00:00:00\"}, {\"Counts\": 0.052313883299798795, \"Date\": \"2022-02-22T00:00:00\"}, {\"Counts\": 0.2776659959758551, \"Date\": \"2022-02-23T00:00:00\"}, {\"Counts\": 0.2716297786720322, \"Date\": \"2022-02-24T00:00:00\"}, {\"Counts\": 0.08249496981891348, \"Date\": \"2022-02-25T00:00:00\"}, {\"Counts\": 0.07243460764587525, \"Date\": \"2022-02-26T00:00:00\"}, {\"Counts\": 0.08450704225352113, \"Date\": \"2022-02-27T00:00:00\"}, {\"Counts\": 0.14285714285714285, \"Date\": \"2022-02-28T00:00:00\"}, {\"Counts\": 0.23742454728370221, \"Date\": \"2022-03-01T00:00:00\"}, {\"Counts\": 0.12072434607645875, \"Date\": \"2022-03-02T00:00:00\"}, {\"Counts\": 0.07243460764587525, \"Date\": \"2022-03-03T00:00:00\"}, {\"Counts\": 0.02414486921529175, \"Date\": \"2022-03-04T00:00:00\"}, {\"Counts\": 0.02012072434607646, \"Date\": \"2022-03-05T00:00:00\"}, {\"Counts\": 0.026156941649899398, \"Date\": \"2022-03-06T00:00:00\"}, {\"Counts\": 0.05835010060362173, \"Date\": \"2022-03-07T00:00:00\"}, {\"Counts\": 0.09456740442655935, \"Date\": \"2022-03-08T00:00:00\"}, {\"Counts\": 0.05835010060362173, \"Date\": \"2022-03-09T00:00:00\"}, {\"Counts\": 0.11267605633802817, \"Date\": \"2022-03-10T00:00:00\"}, {\"Counts\": 0.193158953722334, \"Date\": \"2022-03-11T00:00:00\"}, {\"Counts\": 0.1529175050301811, \"Date\": \"2022-03-12T00:00:00\"}, {\"Counts\": 0.04627766599597585, \"Date\": \"2022-03-13T00:00:00\"}, {\"Counts\": 0.14084507042253522, \"Date\": \"2022-03-14T00:00:00\"}, {\"Counts\": 0.08249496981891348, \"Date\": \"2022-03-15T00:00:00\"}, {\"Counts\": 0.07042253521126761, \"Date\": \"2022-03-16T00:00:00\"}, {\"Counts\": 0.07243460764587525, \"Date\": \"2022-03-17T00:00:00\"}, {\"Counts\": 0.04426559356136821, \"Date\": \"2022-03-18T00:00:00\"}, {\"Counts\": 0.02012072434607646, \"Date\": \"2022-03-19T00:00:00\"}, {\"Counts\": 0.030181086519114688, \"Date\": \"2022-03-20T00:00:00\"}, {\"Counts\": 0.05030181086519115, \"Date\": \"2022-03-21T00:00:00\"}, {\"Counts\": 0.06639839034205232, \"Date\": \"2022-03-22T00:00:00\"}, {\"Counts\": 0.04225352112676056, \"Date\": \"2022-03-23T00:00:00\"}, {\"Counts\": 0.16700201207243462, \"Date\": \"2022-03-24T00:00:00\"}, {\"Counts\": 0.026156941649899398, \"Date\": \"2022-03-25T00:00:00\"}, {\"Counts\": 0.03420523138832998, \"Date\": \"2022-03-26T00:00:00\"}, {\"Counts\": 0.012072434607645875, \"Date\": \"2022-03-27T00:00:00\"}, {\"Counts\": 0.060362173038229376, \"Date\": \"2022-03-28T00:00:00\"}, {\"Counts\": 0.0482897384305835, \"Date\": \"2022-03-29T00:00:00\"}, {\"Counts\": 0.12877263581488935, \"Date\": \"2022-03-30T00:00:00\"}, {\"Counts\": 0.17706237424547283, \"Date\": \"2022-03-31T00:00:00\"}, {\"Counts\": 0.11871227364185111, \"Date\": \"2022-04-01T00:00:00\"}, {\"Counts\": 0.05030181086519115, \"Date\": \"2022-04-02T00:00:00\"}, {\"Counts\": 0.03420523138832998, \"Date\": \"2022-04-03T00:00:00\"}, {\"Counts\": 0.096579476861167, \"Date\": \"2022-04-04T00:00:00\"}, {\"Counts\": 0.08450704225352113, \"Date\": \"2022-04-05T00:00:00\"}, {\"Counts\": 0.10663983903420524, \"Date\": \"2022-04-06T00:00:00\"}, {\"Counts\": 0.3460764587525151, \"Date\": \"2022-04-07T00:00:00\"}, {\"Counts\": 0.10865191146881288, \"Date\": \"2022-04-08T00:00:00\"}, {\"Counts\": 0.13078470824949698, \"Date\": \"2022-04-09T00:00:00\"}, {\"Counts\": 0.03822937625754527, \"Date\": \"2022-04-10T00:00:00\"}, {\"Counts\": 0.0744466800804829, \"Date\": \"2022-04-11T00:00:00\"}, {\"Counts\": 0.1851106639839034, \"Date\": \"2022-04-12T00:00:00\"}, {\"Counts\": 0.9336016096579477, \"Date\": \"2022-04-13T00:00:00\"}, {\"Counts\": 0.5814889336016097, \"Date\": \"2022-04-14T00:00:00\"}, {\"Counts\": 0.2595573440643863, \"Date\": \"2022-04-15T00:00:00\"}, {\"Counts\": 0.3843058350100604, \"Date\": \"2022-04-16T00:00:00\"}, {\"Counts\": 0.26156941649899396, \"Date\": \"2022-04-17T00:00:00\"}, {\"Counts\": 0.13883299798792756, \"Date\": \"2022-04-18T00:00:00\"}, {\"Counts\": 0.14688128772635814, \"Date\": \"2022-04-19T00:00:00\"}, {\"Counts\": 0.1006036217303823, \"Date\": \"2022-04-20T00:00:00\"}, {\"Counts\": 0.12474849094567404, \"Date\": \"2022-04-21T00:00:00\"}, {\"Counts\": 0.08853118712273642, \"Date\": \"2022-04-22T00:00:00\"}, {\"Counts\": 0.13883299798792756, \"Date\": \"2022-04-23T00:00:00\"}, {\"Counts\": 0.07042253521126761, \"Date\": \"2022-04-24T00:00:00\"}, {\"Counts\": 0.13480885311871227, \"Date\": \"2022-04-25T00:00:00\"}, {\"Counts\": 0.11267605633802817, \"Date\": \"2022-04-26T00:00:00\"}, {\"Counts\": 0.12474849094567404, \"Date\": \"2022-04-27T00:00:00\"}, {\"Counts\": 0.09456740442655935, \"Date\": \"2022-04-28T00:00:00\"}, {\"Counts\": 0.12072434607645875, \"Date\": \"2022-04-29T00:00:00\"}, {\"Counts\": 0.052313883299798795, \"Date\": \"2022-04-30T00:00:00\"}, {\"Counts\": 0.01609657947686117, \"Date\": \"2022-05-01T00:00:00\"}, {\"Counts\": 0.08450704225352113, \"Date\": \"2022-05-02T00:00:00\"}, {\"Counts\": 0.04426559356136821, \"Date\": \"2022-05-03T00:00:00\"}, {\"Counts\": 0.022132796780684104, \"Date\": \"2022-05-04T00:00:00\"}, {\"Counts\": 0.056338028169014086, \"Date\": \"2022-05-05T00:00:00\"}, {\"Counts\": 0.06841046277665996, \"Date\": \"2022-05-06T00:00:00\"}, {\"Counts\": 0.060362173038229376, \"Date\": \"2022-05-07T00:00:00\"}, {\"Counts\": 0.056338028169014086, \"Date\": \"2022-05-08T00:00:00\"}, {\"Counts\": 0.10865191146881288, \"Date\": \"2022-05-09T00:00:00\"}, {\"Counts\": 0.08048289738430583, \"Date\": \"2022-05-10T00:00:00\"}, {\"Counts\": 0.08450704225352113, \"Date\": \"2022-05-11T00:00:00\"}, {\"Counts\": 0.0925553319919517, \"Date\": \"2022-05-12T00:00:00\"}, {\"Counts\": 0.06639839034205232, \"Date\": \"2022-05-13T00:00:00\"}, {\"Counts\": 0.13682092555331993, \"Date\": \"2022-05-14T00:00:00\"}, {\"Counts\": 0.06438631790744467, \"Date\": \"2022-05-15T00:00:00\"}, {\"Counts\": 0.05835010060362173, \"Date\": \"2022-05-16T00:00:00\"}, {\"Counts\": 0.052313883299798795, \"Date\": \"2022-05-17T00:00:00\"}, {\"Counts\": 0.028169014084507043, \"Date\": \"2022-05-18T00:00:00\"}, {\"Counts\": 0.03621730382293763, \"Date\": \"2022-05-19T00:00:00\"}, {\"Counts\": 0.06639839034205232, \"Date\": \"2022-05-20T00:00:00\"}, {\"Counts\": 0.05432595573440644, \"Date\": \"2022-05-21T00:00:00\"}, {\"Counts\": 0.004024144869215292, \"Date\": \"2022-05-22T00:00:00\"}, {\"Counts\": 0.030181086519114688, \"Date\": \"2022-05-23T00:00:00\"}, {\"Counts\": 0.38028169014084506, \"Date\": \"2022-05-24T00:00:00\"}, {\"Counts\": 1.0, \"Date\": \"2022-05-25T00:00:00\"}, {\"Counts\": 0.6680080482897385, \"Date\": \"2022-05-26T00:00:00\"}, {\"Counts\": 0.93158953722334, \"Date\": \"2022-05-27T00:00:00\"}, {\"Counts\": 0.49295774647887325, \"Date\": \"2022-05-28T00:00:00\"}, {\"Counts\": 0.2857142857142857, \"Date\": \"2022-05-29T00:00:00\"}, {\"Counts\": 0.17303822937625754, \"Date\": \"2022-05-30T00:00:00\"}, {\"Counts\": 0.05030181086519115, \"Date\": \"2022-05-31T00:00:00\"}, {\"Counts\": 0.08048289738430583, \"Date\": \"2022-06-01T00:00:00\"}, {\"Counts\": 0.10663983903420524, \"Date\": \"2022-06-02T00:00:00\"}, {\"Counts\": 0.08853118712273642, \"Date\": \"2022-06-03T00:00:00\"}, {\"Counts\": 0.12072434607645875, \"Date\": \"2022-06-04T00:00:00\"}, {\"Counts\": 0.096579476861167, \"Date\": \"2022-06-05T00:00:00\"}, {\"Counts\": 0.10663983903420524, \"Date\": \"2022-06-06T00:00:00\"}, {\"Counts\": 0.056338028169014086, \"Date\": \"2022-06-07T00:00:00\"}, {\"Counts\": 0.08048289738430583, \"Date\": \"2022-06-08T00:00:00\"}, {\"Counts\": 0.060362173038229376, \"Date\": \"2022-06-09T00:00:00\"}, {\"Counts\": 0.018108651911468814, \"Date\": \"2022-06-10T00:00:00\"}, {\"Counts\": 0.05030181086519115, \"Date\": \"2022-06-11T00:00:00\"}, {\"Counts\": 0.13883299798792756, \"Date\": \"2022-06-12T00:00:00\"}, {\"Counts\": 0.1710261569416499, \"Date\": \"2022-06-13T00:00:00\"}, {\"Counts\": 0.1710261569416499, \"Date\": \"2022-06-14T00:00:00\"}, {\"Counts\": 0.10462776659959759, \"Date\": \"2022-06-15T00:00:00\"}, {\"Counts\": 0.0482897384305835, \"Date\": \"2022-06-16T00:00:00\"}, {\"Counts\": 0.11267605633802817, \"Date\": \"2022-06-17T00:00:00\"}, {\"Counts\": 0.06438631790744467, \"Date\": \"2022-06-18T00:00:00\"}, {\"Counts\": 0.09054325955734406, \"Date\": \"2022-06-19T00:00:00\"}, {\"Counts\": 0.06841046277665996, \"Date\": \"2022-06-20T00:00:00\"}, {\"Counts\": 0.09054325955734406, \"Date\": \"2022-06-21T00:00:00\"}, {\"Counts\": 0.052313883299798795, \"Date\": \"2022-06-22T00:00:00\"}, {\"Counts\": 0.05835010060362173, \"Date\": \"2022-06-23T00:00:00\"}, {\"Counts\": 0.05835010060362173, \"Date\": \"2022-06-24T00:00:00\"}, {\"Counts\": 0.0, \"Date\": \"2022-06-25T00:00:00\"}, {\"Counts\": 0.0, \"Date\": \"2022-06-26T00:00:00\"}, {\"Counts\": 0.0, \"Date\": \"2022-06-27T00:00:00\"}, {\"Counts\": 0.0, \"Date\": \"2022-06-28T00:00:00\"}, {\"Counts\": 0.0, \"Date\": \"2022-06-29T00:00:00\"}, {\"Counts\": 0.0, \"Date\": \"2022-06-30T00:00:00\"}]}}, {\"mode\": \"vega-lite\"});\n",
       "</script>"
      ],
      "text/plain": [
       "alt.Chart(...)"
      ]
     },
     "execution_count": 57,
     "metadata": {},
     "output_type": "execute_result"
    }
   ],
   "source": [
    "df_counts = df_count[df_count[\"Name\"]==\"Greg Abbott\"]\n",
    "plot_peak(df_counts, \"SusUserCount\")"
   ]
  }
 ],
 "metadata": {
  "kernelspec": {
   "display_name": "Python 3 (ipykernel)",
   "language": "python",
   "name": "python3"
  },
  "language_info": {
   "codemirror_mode": {
    "name": "ipython",
    "version": 3
   },
   "file_extension": ".py",
   "mimetype": "text/x-python",
   "name": "python",
   "nbconvert_exporter": "python",
   "pygments_lexer": "ipython3",
   "version": "3.9.0"
  },
  "vscode": {
   "interpreter": {
    "hash": "ce7713a6935bb5ea1b6a29dabac5ab63c23b884373a45453c2887b0c093952d9"
   }
  }
 },
 "nbformat": 4,
 "nbformat_minor": 5
}
