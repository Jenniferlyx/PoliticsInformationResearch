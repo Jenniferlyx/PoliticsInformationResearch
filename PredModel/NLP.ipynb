{
 "cells": [
  {
   "cell_type": "code",
   "execution_count": 2,
   "id": "c25a8eda",
   "metadata": {},
   "outputs": [],
   "source": [
    "import pandas as pd\n",
    "import numpy as np\n",
    "import tqdm\n",
    "from scipy import sparse\n",
    "import torch\n",
    "from torch import nn\n",
    "from collections import Counter\n",
    "from typing import *\n",
    "import time\n",
    "import logging\n",
    "import altair as alt\n",
    "import re\n",
    "import numpy.linalg as la\n",
    "import json\n",
    "import Models\n",
    "from statsmodels.tsa.arima.model import ARIMA\n",
    "from sklearn.metrics import mean_squared_error\n",
    "from torch import nn\n",
    "from sklearn.metrics import f1_score, accuracy_score, precision_score, recall_score\n",
    "from sklearn.ensemble import RandomForestClassifier\n",
    "import numpy.random\n",
    "import spacy\n",
    "import gensim\n",
    "import gensim.downloader\n",
    "import pickle\n",
    "from collections import Counter\n",
    "import LogisticRegression\n",
    "from scipy.signal import find_peaks\n",
    "from transformers import pipeline\n",
    "classifier = pipeline(\"text-classification\", model=\"j-hartmann/emotion-english-distilroberta-base\", return_all_scores=True)\n",
    "alt.data_transformers.disable_max_rows\n",
    "torch.manual_seed(0)\n",
    "np.random.seed(0)"
   ]
  },
  {
   "cell_type": "markdown",
   "id": "7d6c88f8",
   "metadata": {},
   "source": [
    "# 1. Data Processing"
   ]
  },
  {
   "cell_type": "code",
   "execution_count": 20,
   "id": "16fed277",
   "metadata": {},
   "outputs": [],
   "source": [
    "nlp = spacy.load('en_core_web_sm')\n",
    "w2v = gensim.downloader.load('glove-wiki-gigaword-50')\n",
    "df_sus_users = pd.read_csv(\"../Data/Network/NetworkUsers.csv\", sep=\"\\t\", index_col=\"User_id\")\n",
    "def tokenize(text):\n",
    "    tokens = nlp(\" \".join([token.lower() for token in re.sub(\"\\.|,|:|!|\\?|-|\\'\", \" \", text).split(\" \") if token.isalpha()]))\n",
    "    return [token.lemma_ for token in tokens]\n",
    "\n",
    "def embed(tokens):\n",
    "    def toVec(token):\n",
    "        try:\n",
    "            return w2v[token]\n",
    "        except Exception:\n",
    "            return w2v[\"unk\"]\n",
    "    return [toVec(token) for token in tokens]"
   ]
  },
  {
   "cell_type": "code",
   "execution_count": null,
   "id": "fa81d925",
   "metadata": {},
   "outputs": [],
   "source": [
    "%%time\n",
    "def rate(rating): # 0 is false\n",
    "    for kw in [\"false\", \"fire\", \"flop\", \"barely\"]:\n",
    "        if kw in rating.lower():\n",
    "            return 0\n",
    "    return 1\n",
    "\n",
    "def load_data():\n",
    "    df = pd.read_csv(\"train.csv\", sep=\"\\t\", index_col=\"index\")\n",
    "    df_mis = df[df.Misinformation==1]\n",
    "    df_mis = df_mis.sample(int(0.9 * len(df_mis)))\n",
    "    df_true = df[df.Misinformation==0].sample(int(0.9 * len(df_mis)))\n",
    "    df = pd.concat([df_true, df_mis])\n",
    "    df[\"Statement\"] = df[\"Statement\"].apply(tokenize)\n",
    "    df[\"Embedding\"] = df[\"Statement\"].apply(embed)\n",
    "    df_val = df[~df.Source]\n",
    "    df_val = df_val.sample(int(len(df_val) * 0.5))\n",
    "    return {\"train\": df[~df.index.isin(df_val.index)], \"val\": df_val}\n",
    "data = load_data()"
   ]
  },
  {
   "cell_type": "markdown",
   "id": "d86d23c7",
   "metadata": {},
   "source": [
    "# 2. LSTM"
   ]
  },
  {
   "cell_type": "code",
   "execution_count": null,
   "id": "d55a014f",
   "metadata": {},
   "outputs": [],
   "source": [
    "def pipeline_ml(data, model: nn.Module, epochs: int=10, lr: float=1e-4):\n",
    "    device = torch.device(\"cuda:0\" if torch.cuda.is_available() else \"cpu\")\n",
    "    predictor = Models.Predictor(model, device)\n",
    "    labels = torch.Tensor(data[\"train\"].Misinformation.values)\n",
    "    features = data[\"train\"].Embedding.tolist()\n",
    "    features = [torch.from_numpy(np.array(fea)) for fea in features]\n",
    "    predictor.train(features, labels, epochs=epochs, lr=lr)\n",
    "    return predictor"
   ]
  },
  {
   "cell_type": "code",
   "execution_count": null,
   "id": "f238727e",
   "metadata": {},
   "outputs": [],
   "source": [
    "lstm = Models.LSTM()\n",
    "predictor = pipeline_ml(data, lstm)"
   ]
  },
  {
   "cell_type": "code",
   "execution_count": null,
   "id": "1eb7c062",
   "metadata": {},
   "outputs": [],
   "source": [
    "features = data[\"val\"].Embedding.tolist()\n",
    "features = [torch.from_numpy(np.array(fea)) for fea in features]\n",
    "lstm_pred = predictor.predict(features) > 0.5"
   ]
  },
  {
   "cell_type": "code",
   "execution_count": null,
   "id": "dec6a2a2",
   "metadata": {},
   "outputs": [],
   "source": [
    "f1 = f1_score(data[\"val\"].Misinformation, lstm_pred>0.5)\n",
    "acc = accuracy_score(data[\"val\"].Misinformation, lstm_pred>0.5)\n",
    "prec = precision_score(data[\"val\"].Misinformation, lstm_pred>0.5)\n",
    "recall = recall_score(data[\"val\"].Misinformation, lstm_pred>0.5)\n",
    "lstm_res = {\"f1\": f1, \"acc\": acc, \"prec\": prec, \"recall\": recall}\n",
    "lstm_res"
   ]
  },
  {
   "cell_type": "code",
   "execution_count": null,
   "id": "ca94a6ad",
   "metadata": {},
   "outputs": [],
   "source": [
    "lstm_pred"
   ]
  },
  {
   "cell_type": "markdown",
   "id": "1a109a01",
   "metadata": {},
   "source": [
    "# 3. Logistic Regression"
   ]
  },
  {
   "cell_type": "code",
   "execution_count": null,
   "id": "2c8b2996",
   "metadata": {},
   "outputs": [],
   "source": [
    "processor = LogisticRegression.Preprocessor()\n",
    "processor.buildVocabulary(data[\"train\"])\n",
    "matrix = processor.buildMatrix(data[\"train\"])"
   ]
  },
  {
   "cell_type": "code",
   "execution_count": null,
   "id": "83b132e5",
   "metadata": {},
   "outputs": [],
   "source": [
    "LR = LogisticRegression.LogisticRegression(processor)\n",
    "LogisticRegression.train(matrix, data[\"train\"][\"Misinformation\"].values, LR, lr=5e-4, epoch_num=10)"
   ]
  },
  {
   "cell_type": "code",
   "execution_count": null,
   "id": "9c90d94a",
   "metadata": {},
   "outputs": [],
   "source": [
    "lr_pred = LogisticRegression.predict(LR, data[\"val\"]) > 0.5"
   ]
  },
  {
   "cell_type": "code",
   "execution_count": null,
   "id": "436b3028",
   "metadata": {},
   "outputs": [],
   "source": [
    "f1 = f1_score(data[\"val\"].Misinformation, lr_pred>0.5)\n",
    "acc = accuracy_score(data[\"val\"].Misinformation, lr_pred>0.5)\n",
    "prec = precision_score(data[\"val\"].Misinformation, lr_pred>0.5)\n",
    "recall = recall_score(data[\"val\"].Misinformation, lr_pred>0.5)\n",
    "lr_res = {\"f1\": f1, \"acc\": acc, \"prec\": prec, \"recall\": recall}\n",
    "lr_res"
   ]
  },
  {
   "cell_type": "markdown",
   "id": "1cef2dff",
   "metadata": {},
   "source": [
    "# 4. Predict"
   ]
  },
  {
   "cell_type": "code",
   "execution_count": null,
   "id": "d691edb5",
   "metadata": {},
   "outputs": [],
   "source": [
    "with open(\"GovernorPred.pkl\", \"wb\") as f:\n",
    "    f.write(pickle.dumps({\"LSTM\": lstm, \"LR\": processor}))"
   ]
  },
  {
   "cell_type": "code",
   "execution_count": 3,
   "id": "8c1a1485",
   "metadata": {},
   "outputs": [],
   "source": [
    "with open(\"GovernorPred.pkl\", \"rb\") as f:\n",
    "    models = pickle.loads(f.read())"
   ]
  },
  {
   "cell_type": "code",
   "execution_count": 4,
   "id": "b3006a23",
   "metadata": {},
   "outputs": [],
   "source": [
    "predictor = Models.Predictor(models[\"LSTM\"])\n",
    "LR = LogisticRegression.LogisticRegression(models[\"LR\"])"
   ]
  },
  {
   "cell_type": "markdown",
   "id": "576e950d",
   "metadata": {},
   "source": [
    "# 5. Inspect"
   ]
  },
  {
   "cell_type": "code",
   "execution_count": 11,
   "id": "13e621f0",
   "metadata": {},
   "outputs": [
    {
     "name": "stdout",
     "output_type": "stream",
     "text": [
      "CPU times: user 2.79 s, sys: 260 ms, total: 3.05 s\n",
      "Wall time: 3.04 s\n"
     ]
    }
   ],
   "source": [
    "%%time\n",
    "df_tweets = pd.read_csv(\"../Data/Candidates/GovernorTweets.csv\", sep=\"\\t\", index_col=\"id\")\n",
    "df_tweets = df_tweets[df_tweets.content!=\"\"].dropna()\n",
    "govnor_tweets = df_tweets[df_tweets.credibility!=1]\n",
    "govnor_tweets = govnor_tweets.sample(int(len(govnor_tweets) * 0.25))\n",
    "label = (govnor_tweets[\"credibility\"] <= 0).astype(int)"
   ]
  },
  {
   "cell_type": "code",
   "execution_count": 11,
   "id": "1bc493ff",
   "metadata": {},
   "outputs": [
    {
     "name": "stderr",
     "output_type": "stream",
     "text": [
      "Build Matrix: 15304it [00:00, 52405.39it/s]\n"
     ]
    },
    {
     "data": {
      "text/plain": [
       "{'f1': 0.14535391785610255,\n",
       " 'acc': 0.6165708311552536,\n",
       " 'prec': 0.10185752194325373,\n",
       " 'recall': 0.253685815963396}"
      ]
     },
     "execution_count": 11,
     "metadata": {},
     "output_type": "execute_result"
    }
   ],
   "source": [
    "lr_pred = LogisticRegression.predict(LR, govnor_tweets) > 0.5\n",
    "f1 = f1_score(label, lr_pred>0.5)\n",
    "acc = accuracy_score(label, lr_pred>0.5)\n",
    "prec = precision_score(label, lr_pred>0.5)\n",
    "recall = recall_score(label, lr_pred>0.5)\n",
    "lr_res = {\"f1\": f1, \"acc\": acc, \"prec\": prec, \"recall\": recall}\n",
    "lr_res"
   ]
  },
  {
   "cell_type": "code",
   "execution_count": 12,
   "id": "82c5979a",
   "metadata": {},
   "outputs": [
    {
     "data": {
      "application/vnd.jupyter.widget-view+json": {
       "model_id": "3b52762d68724091a5b5f0a33fb976dc",
       "version_major": 2,
       "version_minor": 0
      },
      "text/plain": [
       "  0%|          | 0/15304 [00:00<?, ?it/s]"
      ]
     },
     "metadata": {},
     "output_type": "display_data"
    },
    {
     "name": "stderr",
     "output_type": "stream",
     "text": [
      "/home/panda/anaconda3/envs/UM/lib/python3.9/site-packages/torch/nn/modules/rnn.py:761: UserWarning: RNN module weights are not part of single contiguous chunk of memory. This means they need to be compacted at every call, possibly greatly increasing memory usage. To compact weights again call flatten_parameters(). (Triggered internally at  /opt/conda/conda-bld/pytorch_1646756402876/work/aten/src/ATen/native/cudnn/RNN.cpp:926.)\n",
      "  result = _VF.lstm(input, hx, self._flat_weights, self.bias, self.num_layers,\n"
     ]
    },
    {
     "name": "stdout",
     "output_type": "stream",
     "text": [
      "CPU times: user 1min 58s, sys: 2.31 s, total: 2min\n",
      "Wall time: 2min 1s\n"
     ]
    },
    {
     "data": {
      "text/plain": [
       "{'f1': 0.2208536059616924,\n",
       " 'acc': 0.1733533716675379,\n",
       " 'prec': 0.12564821303433776,\n",
       " 'recall': 0.9115404168784952}"
      ]
     },
     "execution_count": 12,
     "metadata": {},
     "output_type": "execute_result"
    }
   ],
   "source": [
    "%%time\n",
    "features = govnor_tweets[\"content\"].apply(tokenize).apply(embed).tolist()\n",
    "features = [torch.from_numpy(np.array(fea)) for fea in features]\n",
    "lstm_pred = predictor.predict(features) > 0.5\n",
    "f1 = f1_score(label, lstm_pred>0.5)\n",
    "acc = accuracy_score(label, lstm_pred>0.5)\n",
    "prec = precision_score(label, lstm_pred>0.5)\n",
    "recall = recall_score(label, lstm_pred>0.5)\n",
    "lstm_res = {\"f1\": f1, \"acc\": acc, \"prec\": prec, \"recall\": recall}\n",
    "lstm_res"
   ]
  },
  {
   "cell_type": "markdown",
   "id": "8ee4753f",
   "metadata": {},
   "source": [
    "### Tweets from incredible source not classified as misinformation"
   ]
  },
  {
   "cell_type": "code",
   "execution_count": null,
   "id": "0b0825a7",
   "metadata": {},
   "outputs": [],
   "source": [
    "# Misinformation\n",
    "bad_tweets[lstm_pred].sample(10).index"
   ]
  },
  {
   "cell_type": "code",
   "execution_count": null,
   "id": "b17d5944",
   "metadata": {},
   "outputs": [],
   "source": [
    "df_tweets.loc[[1518296660329201665, 1499864294170808332, 1516862042984095746,\n",
    "            1507126074882277381, 1518231318366244867, 1505706253888143362,\n",
    "            1509284007808172036, 1506148809725943808, 1501767346943414272,\n",
    "            1514341548892295183]].Statement.tolist()"
   ]
  },
  {
   "cell_type": "markdown",
   "id": "b84fbc9a",
   "metadata": {},
   "source": [
    "### Tweets from incredible source not classified as misinformation"
   ]
  },
  {
   "cell_type": "code",
   "execution_count": null,
   "id": "0f84d54a",
   "metadata": {},
   "outputs": [],
   "source": [
    "# True information\n",
    "bad_tweets[~lstm_pred].sample(10).index"
   ]
  },
  {
   "cell_type": "code",
   "execution_count": null,
   "id": "defb9e46",
   "metadata": {},
   "outputs": [],
   "source": [
    "df_tweets.loc[[1502046989483184135, 1498757468578582537, 1513529952834101255,\n",
    "            1502372547442077698, 1507041373421248514, 1510022055722467333,\n",
    "            1499040381463265282, 1502059266777178114, 1514618674501627904,\n",
    "            1503568426861838336]].Statement.tolist()"
   ]
  },
  {
   "cell_type": "markdown",
   "id": "aab8bf30",
   "metadata": {},
   "source": [
    "### Tweets from credible source not classified as misinformation"
   ]
  },
  {
   "cell_type": "code",
   "execution_count": null,
   "id": "7cef80ae",
   "metadata": {},
   "outputs": [],
   "source": [
    "good_tweets[lstm_pred].sample(10).index"
   ]
  },
  {
   "cell_type": "code",
   "execution_count": null,
   "id": "a69e1091",
   "metadata": {},
   "outputs": [],
   "source": [
    "df_tweets.loc[[1514322102303674370, 1500967005230305284, 1514267702252220418,\n",
    "            1515282667251634176, 1509875045677645828, 1499209915709239296,\n",
    "            1511243530202664960, 1501166881423728642, 1505590605438763011,\n",
    "            1500968967040602115]].Statement.tolist()"
   ]
  },
  {
   "cell_type": "markdown",
   "id": "018cce3e",
   "metadata": {},
   "source": [
    "### Tweets from credible source classified as misinformation"
   ]
  },
  {
   "cell_type": "code",
   "execution_count": null,
   "id": "a5cca9b6",
   "metadata": {},
   "outputs": [],
   "source": [
    "good_tweets[~lstm_pred].sample(10).index"
   ]
  },
  {
   "cell_type": "code",
   "execution_count": null,
   "id": "f92cf864",
   "metadata": {},
   "outputs": [],
   "source": [
    "df_tweets.loc[[1499526834341490689, 1501715649046925315, 1512255934520864770,\n",
    "            1510012772712652802, 1509660956653146113, 1510813035526565889,\n",
    "            1517331816398548992, 1518945587479166976, 1514944616709115904,\n",
    "            1506400714544893954]].Statement.tolist()"
   ]
  },
  {
   "cell_type": "code",
   "execution_count": null,
   "id": "f18f727b",
   "metadata": {},
   "outputs": [],
   "source": [
    "good_tweets[lstm_pred][\"Statement\"].apply(lambda x:len(x.split(\" \"))).describe()"
   ]
  },
  {
   "cell_type": "code",
   "execution_count": null,
   "id": "27a041df",
   "metadata": {},
   "outputs": [],
   "source": [
    "good_tweets[~lstm_pred][\"Statement\"].apply(lambda x:len(x.split(\" \"))).describe()"
   ]
  },
  {
   "cell_type": "markdown",
   "id": "2be834c0",
   "metadata": {},
   "source": [
    "# 6. Use model to detect peaks"
   ]
  },
  {
   "cell_type": "code",
   "execution_count": null,
   "id": "7a4f16ef",
   "metadata": {},
   "outputs": [],
   "source": [
    "def detect_peaks(governor: str, method: str=\"lstm\", emotion: str=\"anger\"):\n",
    "    emotions = [\"sadness\", \"joy\", \"love\", \"anger\", \"fear\", \"surprise\"]\n",
    "    emotion = emotions.index(emotion)\n",
    "    if method == \"lstm\":\n",
    "        features = df_gov[\"Statement\"].apply(tokenize).apply(embed).tolist()\n",
    "        features = [torch.from_numpy(np.array(fea)) for fea in features]\n",
    "        lstm_pred = predictor.predict(features) > 0.5\n",
    "        df_gov[\"pred\"] = lstm_pred\n",
    "    elif method == \"lr\":\n",
    "        df_gov[\"pred\"] = (LogisticRegression.predict(LR, df_gov) > 0.5).values\n",
    "    elif method == \"emotion\":\n",
    "        df_gov[\"pred\"] = [res[emotion][\"score\"] for res in classifier(df_gov[\"Statement\"].tolist())]\n",
    "    return df_gov"
   ]
  },
  {
   "cell_type": "code",
   "execution_count": null,
   "id": "d96f94e2",
   "metadata": {},
   "outputs": [],
   "source": [
    "%%time\n",
    "res = detect_peaks('Lee Zeldin', \"emotion\")\n",
    "res"
   ]
  },
  {
   "cell_type": "code",
   "execution_count": null,
   "id": "bb82e273",
   "metadata": {},
   "outputs": [],
   "source": [
    "# pct = res.groupby([\"date\"])[\"pred\"].sum() / res.groupby([\"date\"])[\"pred\"].count()\n",
    "pct = res.groupby([\"date\"])[\"pred\"].mean()\n",
    "pct = (pct - pct.min()) / (pct.max() - pct.min()) * 100\n",
    "def detect_peak(counts: pd.Series):\n",
    "    prominence = 1.5 * (np.percentile(counts, 75) - np.percentile(counts, 25))\n",
    "    peaks_indexes, _ = find_peaks(counts, prominence = prominence)\n",
    "    return peaks_indexes\n",
    "pct.iloc[detect_peak(pct)]"
   ]
  },
  {
   "cell_type": "code",
   "execution_count": null,
   "id": "77f872f0",
   "metadata": {},
   "outputs": [],
   "source": [
    "%%time\n",
    "governors = ['Stacey Abrams', 'Josh Shapiro', 'Charlie Crist', 'Katie Hobbs', 'Lee Zeldin']\n",
    "peaks = dict()\n",
    "for governor in governors[-1:]:\n",
    "    res = detect_peaks(governor, \"lr\")\n",
    "    pct = res.groupby([\"date\"])[\"pred\"].sum() / res.groupby([\"date\"])[\"pred\"].count()\n",
    "    pct = (pct - pct.min()) / (pct.max() - pct.min()) * 100\n",
    "    def detect_peak(counts: pd.Series):\n",
    "        prominence = 1.5 * (np.percentile(counts, 75) - np.percentile(counts, 25))\n",
    "        peaks_indexes, _ = find_peaks(counts, prominence = prominence)\n",
    "        return peaks_indexes\n",
    "    peaks[governor] = pct.iloc[detect_peak(pct)]"
   ]
  },
  {
   "cell_type": "code",
   "execution_count": null,
   "id": "73531b7f",
   "metadata": {},
   "outputs": [],
   "source": [
    "pct.iloc[detect_peak(pct)]"
   ]
  },
  {
   "cell_type": "markdown",
   "id": "75f98cfb",
   "metadata": {},
   "source": [
    "# 7. Sentiment analysis"
   ]
  },
  {
   "cell_type": "code",
   "execution_count": 3,
   "id": "80a04624",
   "metadata": {},
   "outputs": [],
   "source": [
    "df_emotion = pd.read_csv(\"../Data/Candidates/GovernorTweets.csv\", index_col=\"Date\", sep=\"\\t\")\n",
    "feature_cols = ['anger', 'disgust', 'fear', 'joy', 'neutral', 'sadness', 'surprise']\n",
    "def load_sa_data(ratio: float=0.8, test_type: str=\"user\"):\n",
    "    if test_type == \"user\":\n",
    "        df_sus = df_emotion[df_emotion.author_id.isin(df_sus_users.index)] \n",
    "    else:\n",
    "        df_sus = df_emotion[df_emotion.credibility==0]\n",
    "    df_clean = df_emotion[~df_emotion.index.isin(df_sus)]\n",
    "    df_sus[\"label\"], df_clean[\"label\"] = 1, 0\n",
    "    df_sus_train = df_sus.sample(frac=ratio)\n",
    "    df_clean_train = df_clean.sample(frac=ratio)\n",
    "    size = min(len(df_sus_train), len(df_clean_train))\n",
    "    df_train = pd.concat([df_sus_train.sample(size), df_clean_train.sample(size)])\n",
    "    df_val = pd.concat([df_sus, df_clean])\n",
    "    df_val = df_val[~df_val.id.isin(df_train.id)]\n",
    "    data = {\"train\": df_train[feature_cols + [\"label\"]], \"val\": df_val[feature_cols + [\"label\"]]}\n",
    "    return data"
   ]
  },
  {
   "cell_type": "code",
   "execution_count": 21,
   "id": "4d538fb9",
   "metadata": {},
   "outputs": [
    {
     "data": {
      "text/plain": [
       "array(['Allen B. West', 'Andrew Giuliani', \"Beto O'Rourke\",\n",
       "       'Bob Stefanowski', 'Brad Little', 'Brian Dahle', 'Brian Kemp',\n",
       "       'Chad Prather', 'Charlie Crist', 'Dan Cox', 'Darren Bailey',\n",
       "       'David Perdue', 'David White', 'Delilah Barrios', 'Doc Washburn',\n",
       "       'Doug Mastriano', 'Greg Abbott', 'Heidi Ganahl', 'Henry McMaster',\n",
       "       'J.B. Pritzker', 'Janet T. Mills', 'Jesse Sullivan', 'Jim Renacci',\n",
       "       'Josh Shapiro', 'Joy Hofmeister', 'Jumaane Williams',\n",
       "       'Kandiss Taylor', 'Kathy Hochul', 'Katie Hobbs', 'Kerry McQuisten',\n",
       "       'Kevin Stitt', 'Kim Reynolds', 'Kristi L. Noem', 'Laura Kelly',\n",
       "       'Lee Zeldin', 'Marc Thielman', 'Marco Lopez', 'Matt Brown',\n",
       "       'Matt Salmon', 'Maura Healey', 'Michelle Lujan Grisham',\n",
       "       'Nan Whaley', 'Ned Lamont', 'Nikki Fried', 'Paul Morgan',\n",
       "       'Rebecca Dow', 'Rebecca Kleefisch', 'Richard Michael DeWine',\n",
       "       'Rob Astorino', 'Ron DeSantis', 'Russell Diamond',\n",
       "       'Sarah Huckabee Sanders', 'Sonia Chang-Diaz', 'Stacey Abrams',\n",
       "       'Stan Pulliam', 'Steve Sisolak', 'Timothy Ramthun', 'Tina Kotek',\n",
       "       'Tom Suozzi', 'Tony Evers', 'Tudor Dixon'], dtype=object)"
      ]
     },
     "execution_count": 21,
     "metadata": {},
     "output_type": "execute_result"
    }
   ],
   "source": [
    "df_emotion.Candidates.unique()"
   ]
  },
  {
   "cell_type": "code",
   "execution_count": 9,
   "id": "3276ff34",
   "metadata": {},
   "outputs": [],
   "source": [
    "import altair \n",
    "\n",
    "def detect_peak(counts: pd.Series, iqr: float = 1.5):\n",
    "    if counts.empty:\n",
    "        return list()\n",
    "    prominence = iqr * (np.percentile(counts, 75) - np.percentile(counts, 25))\n",
    "    peaks_indexes, _ = find_peaks(counts, prominence=prominence)\n",
    "    return peaks_indexes\n",
    "\n",
    "def plot_peak(df_counts: pd.DataFrame, field: str):\n",
    "    df_counts[\"Counts\"] = df_counts[field] / df_counts[field].max()\n",
    "    df_counts = df_counts[[\"Counts\", \"Date\"]]\n",
    "    df_counts[\"Date\"] = pd.to_datetime(df_counts[\"Date\"].astype(str))\n",
    "    chart = alt.Chart(df_counts).mark_line().encode(\n",
    "        y=alt.Y(\"Counts:Q\"),\n",
    "        x=alt.X(\"Date:T\"),\n",
    "        tooltip=[\"Counts:Q\", \"Date:T\"]\n",
    "    )\n",
    "    return chart"
   ]
  },
  {
   "cell_type": "code",
   "execution_count": 23,
   "id": "808901b7",
   "metadata": {},
   "outputs": [
    {
     "data": {
      "text/html": [
       "<div>\n",
       "<style scoped>\n",
       "    .dataframe tbody tr th:only-of-type {\n",
       "        vertical-align: middle;\n",
       "    }\n",
       "\n",
       "    .dataframe tbody tr th {\n",
       "        vertical-align: top;\n",
       "    }\n",
       "\n",
       "    .dataframe thead th {\n",
       "        text-align: right;\n",
       "    }\n",
       "</style>\n",
       "<table border=\"1\" class=\"dataframe\">\n",
       "  <thead>\n",
       "    <tr style=\"text-align: right;\">\n",
       "      <th></th>\n",
       "      <th>Date</th>\n",
       "      <th>anger</th>\n",
       "    </tr>\n",
       "  </thead>\n",
       "  <tbody>\n",
       "    <tr>\n",
       "      <th>5</th>\n",
       "      <td>20220306</td>\n",
       "      <td>0.270363</td>\n",
       "    </tr>\n",
       "    <tr>\n",
       "      <th>31</th>\n",
       "      <td>20220401</td>\n",
       "      <td>0.249340</td>\n",
       "    </tr>\n",
       "    <tr>\n",
       "      <th>38</th>\n",
       "      <td>20220408</td>\n",
       "      <td>0.308686</td>\n",
       "    </tr>\n",
       "    <tr>\n",
       "      <th>40</th>\n",
       "      <td>20220410</td>\n",
       "      <td>0.272355</td>\n",
       "    </tr>\n",
       "    <tr>\n",
       "      <th>45</th>\n",
       "      <td>20220415</td>\n",
       "      <td>0.301779</td>\n",
       "    </tr>\n",
       "  </tbody>\n",
       "</table>\n",
       "</div>"
      ],
      "text/plain": [
       "        Date     anger\n",
       "5   20220306  0.270363\n",
       "31  20220401  0.249340\n",
       "38  20220408  0.308686\n",
       "40  20220410  0.272355\n",
       "45  20220415  0.301779"
      ]
     },
     "execution_count": 23,
     "metadata": {},
     "output_type": "execute_result"
    }
   ],
   "source": [
    "df_tmp = df_emotion[df_emotion[\"Candidates\"]==\"Greg Abbott\"].groupby([\"Date\"])[\"anger\"].mean().reset_index()\n",
    "df_tmp.iloc[detect_peak(df_tmp[\"anger\"])]"
   ]
  },
  {
   "cell_type": "markdown",
   "id": "30a3157f",
   "metadata": {},
   "source": [
    "### Random Forest"
   ]
  },
  {
   "cell_type": "code",
   "execution_count": 9,
   "id": "b6e0dc00",
   "metadata": {},
   "outputs": [
    {
     "name": "stderr",
     "output_type": "stream",
     "text": [
      "/tmp/ipykernel_17321/3839116124.py:9: SettingWithCopyWarning: \n",
      "A value is trying to be set on a copy of a slice from a DataFrame.\n",
      "Try using .loc[row_indexer,col_indexer] = value instead\n",
      "\n",
      "See the caveats in the documentation: https://pandas.pydata.org/pandas-docs/stable/user_guide/indexing.html#returning-a-view-versus-a-copy\n",
      "  df_sus[\"label\"], df_clean[\"label\"] = 1, 0\n"
     ]
    },
    {
     "name": "stdout",
     "output_type": "stream",
     "text": [
      "anger       0.139366\n",
      "disgust     0.152155\n",
      "fear        0.144602\n",
      "joy         0.144269\n",
      "neutral     0.137333\n",
      "sadness     0.140775\n",
      "surprise    0.141500\n",
      "dtype: float64\n",
      "CPU times: user 52.6 s, sys: 2.89 s, total: 55.5 s\n",
      "Wall time: 55.6 s\n"
     ]
    },
    {
     "data": {
      "text/plain": [
       "{'f1': 0.0026531852407052662,\n",
       " 'acc': 0.6045953279569638,\n",
       " 'prec': 0.0013296230589710648,\n",
       " 'recall': 0.5820504421880118}"
      ]
     },
     "execution_count": 9,
     "metadata": {},
     "output_type": "execute_result"
    }
   ],
   "source": [
    "%%time\n",
    "\n",
    "# Test on suspicious users\n",
    "data = load_sa_data()\n",
    "rf = RandomForestClassifier()\n",
    "rf.fit(data[\"train\"][feature_cols], data[\"train\"][\"label\"])\n",
    "rf_pred = rf.predict(data[\"val\"][feature_cols])\n",
    "print(pd.Series(rf.feature_importances_, index=feature_cols))\n",
    "Models.cal_metrics(rf_pred, data[\"val\"][\"label\"])"
   ]
  },
  {
   "cell_type": "code",
   "execution_count": 10,
   "id": "fc60ea15",
   "metadata": {},
   "outputs": [
    {
     "name": "stderr",
     "output_type": "stream",
     "text": [
      "/tmp/ipykernel_17321/3839116124.py:9: SettingWithCopyWarning: \n",
      "A value is trying to be set on a copy of a slice from a DataFrame.\n",
      "Try using .loc[row_indexer,col_indexer] = value instead\n",
      "\n",
      "See the caveats in the documentation: https://pandas.pydata.org/pandas-docs/stable/user_guide/indexing.html#returning-a-view-versus-a-copy\n",
      "  df_sus[\"label\"], df_clean[\"label\"] = 1, 0\n"
     ]
    },
    {
     "name": "stdout",
     "output_type": "stream",
     "text": [
      "anger       0.143126\n",
      "disgust     0.128496\n",
      "fear        0.160929\n",
      "joy         0.132691\n",
      "neutral     0.125480\n",
      "sadness     0.167031\n",
      "surprise    0.142245\n",
      "dtype: float64\n",
      "CPU times: user 36.3 s, sys: 2.59 s, total: 38.9 s\n",
      "Wall time: 38.9 s\n"
     ]
    },
    {
     "data": {
      "text/plain": [
       "{'f1': 0.00384708767557984,\n",
       " 'acc': 0.8438570452063956,\n",
       " 'prec': 0.0019289533634944632,\n",
       " 'recall': 0.6859060402684564}"
      ]
     },
     "execution_count": 10,
     "metadata": {},
     "output_type": "execute_result"
    }
   ],
   "source": [
    "%%time\n",
    "\n",
    "# Test on suspicious domain\n",
    "data = load_sa_data(test_type=\"domain\")\n",
    "rf = RandomForestClassifier()\n",
    "rf.fit(data[\"train\"][feature_cols], data[\"train\"][\"label\"])\n",
    "rf_pred = rf.predict(data[\"val\"][feature_cols])\n",
    "print(pd.Series(rf.feature_importances_, index=feature_cols))\n",
    "Models.cal_metrics(rf_pred, data[\"val\"][\"label\"])"
   ]
  },
  {
   "cell_type": "markdown",
   "id": "3676701d",
   "metadata": {},
   "source": [
    "### Logistic Regression"
   ]
  },
  {
   "cell_type": "code",
   "execution_count": 19,
   "id": "600456c5",
   "metadata": {},
   "outputs": [],
   "source": [
    "def pipeline_sa(data, model: nn.Module, epochs: int=5, lr: float=1e-4):\n",
    "    device = torch.device(\"cuda:0\" if torch.cuda.is_available() else \"cpu\")\n",
    "    feature_cols = ['anger', 'disgust', 'fear', 'joy', 'neutral', 'sadness', 'surprise']\n",
    "    predictor = Models.Predictor(model, device)\n",
    "    labels = torch.Tensor(data[\"train\"].label.values)\n",
    "    features = [torch.from_numpy(fea) for fea in data[\"train\"][feature_cols].values.astype(np.float32)]\n",
    "    predictor.train(features, labels, epochs=epochs, lr=lr)\n",
    "    return predictor"
   ]
  },
  {
   "cell_type": "code",
   "execution_count": 24,
   "id": "afa36236",
   "metadata": {},
   "outputs": [
    {
     "data": {
      "application/vnd.jupyter.widget-view+json": {
       "model_id": "d2a6d7be05604336a2c24ef01af393e1",
       "version_major": 2,
       "version_minor": 0
      },
      "text/plain": [
       "  0%|          | 0/337873 [00:05<?, ?it/s]"
      ]
     },
     "metadata": {},
     "output_type": "display_data"
    },
    {
     "data": {
      "text/plain": [
       "{'f1': 0.0017919663133989404,\n",
       " 'acc': 0.0008967866624441728,\n",
       " 'prec': 0.0008967866624441728,\n",
       " 'recall': 1.0}"
      ]
     },
     "execution_count": 24,
     "metadata": {},
     "output_type": "execute_result"
    }
   ],
   "source": [
    "# Test on suspicious users\n",
    "data = load_sa_data()\n",
    "model = Models.LogisticRegression(7)\n",
    "predictor = pipeline_sa(data=data, model=model)\n",
    "df_val = data[\"val\"].sample(frac=0.1)\n",
    "lr_pred = predictor.predict(torch.from_numpy(df_val[feature_cols].values.astype(np.float32)))\n",
    "Models.cal_metrics(lr_pred, df_val[\"label\"])"
   ]
  },
  {
   "cell_type": "code",
   "execution_count": 25,
   "id": "9bbe3376",
   "metadata": {},
   "outputs": [
    {
     "name": "stderr",
     "output_type": "stream",
     "text": [
      "/tmp/ipykernel_17321/3839116124.py:9: SettingWithCopyWarning: \n",
      "A value is trying to be set on a copy of a slice from a DataFrame.\n",
      "Try using .loc[row_indexer,col_indexer] = value instead\n",
      "\n",
      "See the caveats in the documentation: https://pandas.pydata.org/pandas-docs/stable/user_guide/indexing.html#returning-a-view-versus-a-copy\n",
      "  df_sus[\"label\"], df_clean[\"label\"] = 1, 0\n"
     ]
    },
    {
     "data": {
      "application/vnd.jupyter.widget-view+json": {
       "model_id": "81e854b169a344fc937a8eeb8d66b917",
       "version_major": 2,
       "version_minor": 0
      },
      "text/plain": [
       "  0%|          | 0/5 [00:00<?, ?it/s]"
      ]
     },
     "metadata": {},
     "output_type": "display_data"
    },
    {
     "data": {
      "application/vnd.jupyter.widget-view+json": {
       "model_id": "f84754db823e44c9ba79c8b11e636ed2",
       "version_major": 2,
       "version_minor": 0
      },
      "text/plain": [
       "  0%|          | 0/11958 [00:00<?, ?it/s]"
      ]
     },
     "metadata": {},
     "output_type": "display_data"
    },
    {
     "data": {
      "application/vnd.jupyter.widget-view+json": {
       "model_id": "5b600461e6c14ac9be3cb2a948b41c11",
       "version_major": 2,
       "version_minor": 0
      },
      "text/plain": [
       "  0%|          | 0/11958 [00:00<?, ?it/s]"
      ]
     },
     "metadata": {},
     "output_type": "display_data"
    },
    {
     "data": {
      "application/vnd.jupyter.widget-view+json": {
       "model_id": "f6bfff819590426496942aab2db8fb1c",
       "version_major": 2,
       "version_minor": 0
      },
      "text/plain": [
       "  0%|          | 0/11958 [00:00<?, ?it/s]"
      ]
     },
     "metadata": {},
     "output_type": "display_data"
    },
    {
     "data": {
      "application/vnd.jupyter.widget-view+json": {
       "model_id": "60b6c3014a5047e7b9f141e178177eb8",
       "version_major": 2,
       "version_minor": 0
      },
      "text/plain": [
       "  0%|          | 0/11958 [00:00<?, ?it/s]"
      ]
     },
     "metadata": {},
     "output_type": "display_data"
    },
    {
     "data": {
      "application/vnd.jupyter.widget-view+json": {
       "model_id": "61b33078073142beb0e4a857118cc04c",
       "version_major": 2,
       "version_minor": 0
      },
      "text/plain": [
       "  0%|          | 0/11958 [00:00<?, ?it/s]"
      ]
     },
     "metadata": {},
     "output_type": "display_data"
    },
    {
     "data": {
      "application/vnd.jupyter.widget-view+json": {
       "model_id": "3c83d500ec9b433d8a758ad3edc6122f",
       "version_major": 2,
       "version_minor": 0
      },
      "text/plain": [
       "  0%|          | 0/338965 [00:02<?, ?it/s]"
      ]
     },
     "metadata": {},
     "output_type": "display_data"
    },
    {
     "data": {
      "text/plain": [
       "{'f1': 0.0009505278938470862,\n",
       " 'acc': 0.07597539568982048,\n",
       " 'prec': 0.0004754975172008833,\n",
       " 'recall': 0.9675324675324676}"
      ]
     },
     "execution_count": 25,
     "metadata": {},
     "output_type": "execute_result"
    }
   ],
   "source": [
    "# Test on suspicious domain\n",
    "data = load_sa_data(test_type=\"domain\")\n",
    "model = Models.LogisticRegression(7)\n",
    "predictor = pipeline_sa(data=data, model=model)\n",
    "df_val = data[\"val\"].sample(frac=0.1)\n",
    "lr_pred = predictor.predict(torch.from_numpy(df_val[feature_cols].values.astype(np.float32)))\n",
    "Models.cal_metrics(lr_pred, df_val[\"label\"])"
   ]
  },
  {
   "cell_type": "code",
   "execution_count": 4,
   "id": "152e4d4c",
   "metadata": {},
   "outputs": [
    {
     "data": {
      "text/html": [
       "<div>\n",
       "<style scoped>\n",
       "    .dataframe tbody tr th:only-of-type {\n",
       "        vertical-align: middle;\n",
       "    }\n",
       "\n",
       "    .dataframe tbody tr th {\n",
       "        vertical-align: top;\n",
       "    }\n",
       "\n",
       "    .dataframe thead th {\n",
       "        text-align: right;\n",
       "    }\n",
       "</style>\n",
       "<table border=\"1\" class=\"dataframe\">\n",
       "  <thead>\n",
       "    <tr style=\"text-align: right;\">\n",
       "      <th></th>\n",
       "      <th>Date</th>\n",
       "      <th>public_metrics</th>\n",
       "      <th>text</th>\n",
       "      <th>created_at</th>\n",
       "      <th>entities</th>\n",
       "      <th>author_id</th>\n",
       "      <th>source</th>\n",
       "      <th>Candidates</th>\n",
       "      <th>method</th>\n",
       "      <th>credibility</th>\n",
       "      <th>content</th>\n",
       "      <th>anger</th>\n",
       "      <th>disgust</th>\n",
       "      <th>fear</th>\n",
       "      <th>joy</th>\n",
       "      <th>neutral</th>\n",
       "      <th>sadness</th>\n",
       "      <th>surprise</th>\n",
       "    </tr>\n",
       "    <tr>\n",
       "      <th>id</th>\n",
       "      <th></th>\n",
       "      <th></th>\n",
       "      <th></th>\n",
       "      <th></th>\n",
       "      <th></th>\n",
       "      <th></th>\n",
       "      <th></th>\n",
       "      <th></th>\n",
       "      <th></th>\n",
       "      <th></th>\n",
       "      <th></th>\n",
       "      <th></th>\n",
       "      <th></th>\n",
       "      <th></th>\n",
       "      <th></th>\n",
       "      <th></th>\n",
       "      <th></th>\n",
       "      <th></th>\n",
       "    </tr>\n",
       "  </thead>\n",
       "  <tbody>\n",
       "    <tr>\n",
       "      <th>1498757068538322944</th>\n",
       "      <td>20220301</td>\n",
       "      <td>{'retweet_count': 0, 'reply_count': 2, 'like_c...</td>\n",
       "      <td>.@AllenWest spotting in northwest Tarrant Coun...</td>\n",
       "      <td>2022-03-01 20:28:25+00:00</td>\n",
       "      <td>{'mentions': [{'start': 1, 'end': 11, 'usernam...</td>\n",
       "      <td>877928155989905408</td>\n",
       "      <td>Twitter for Android</td>\n",
       "      <td>Allen B. West</td>\n",
       "      <td>@</td>\n",
       "      <td>1</td>\n",
       "      <td>spotting in northwest Tarrant County</td>\n",
       "      <td>0.018387</td>\n",
       "      <td>0.012563</td>\n",
       "      <td>0.023698</td>\n",
       "      <td>0.011592</td>\n",
       "      <td>0.665249</td>\n",
       "      <td>0.059865</td>\n",
       "      <td>0.208646</td>\n",
       "    </tr>\n",
       "    <tr>\n",
       "      <th>1498757438773866498</th>\n",
       "      <td>20220301</td>\n",
       "      <td>{'retweet_count': 0, 'reply_count': 0, 'like_c...</td>\n",
       "      <td>@SippingTeTSdana @TruAmericanGal1 @AllenWest @...</td>\n",
       "      <td>2022-03-01 20:29:53+00:00</td>\n",
       "      <td>{'mentions': [{'start': 0, 'end': 16, 'usernam...</td>\n",
       "      <td>777225267265822720</td>\n",
       "      <td>Twitter for iPhone</td>\n",
       "      <td>Allen B. West</td>\n",
       "      <td>@</td>\n",
       "      <td>1</td>\n",
       "      <td>That is not herpes You want to see herpes then...</td>\n",
       "      <td>0.005952</td>\n",
       "      <td>0.009637</td>\n",
       "      <td>0.004996</td>\n",
       "      <td>0.002456</td>\n",
       "      <td>0.950248</td>\n",
       "      <td>0.005945</td>\n",
       "      <td>0.020767</td>\n",
       "    </tr>\n",
       "    <tr>\n",
       "      <th>1498757991507525633</th>\n",
       "      <td>20220301</td>\n",
       "      <td>{'retweet_count': 2, 'reply_count': 0, 'like_c...</td>\n",
       "      <td>RT @jdrichmond2020: 💥TEXAS💥 Get to the poles a...</td>\n",
       "      <td>2022-03-01 20:32:05+00:00</td>\n",
       "      <td>{'mentions': [{'start': 3, 'end': 18, 'usernam...</td>\n",
       "      <td>1243278447511769088</td>\n",
       "      <td>Twitter for Android</td>\n",
       "      <td>Allen B. West</td>\n",
       "      <td>@</td>\n",
       "      <td>1</td>\n",
       "      <td>TEXAS Get to the poles and VOTE today forfor G...</td>\n",
       "      <td>0.011625</td>\n",
       "      <td>0.001941</td>\n",
       "      <td>0.007821</td>\n",
       "      <td>0.004354</td>\n",
       "      <td>0.891241</td>\n",
       "      <td>0.008727</td>\n",
       "      <td>0.074291</td>\n",
       "    </tr>\n",
       "    <tr>\n",
       "      <th>1498758049510703115</th>\n",
       "      <td>20220301</td>\n",
       "      <td>{'retweet_count': 3, 'reply_count': 3, 'like_c...</td>\n",
       "      <td>Ignore the polls, vote @AllenWest @DonHuffines...</td>\n",
       "      <td>2022-03-01 20:32:19+00:00</td>\n",
       "      <td>{'mentions': [{'start': 23, 'end': 33, 'userna...</td>\n",
       "      <td>947921064927088640</td>\n",
       "      <td>Twitter Web App</td>\n",
       "      <td>Allen B. West</td>\n",
       "      <td>@</td>\n",
       "      <td>1</td>\n",
       "      <td>Ignore the polls, vote</td>\n",
       "      <td>0.560520</td>\n",
       "      <td>0.113108</td>\n",
       "      <td>0.029981</td>\n",
       "      <td>0.003212</td>\n",
       "      <td>0.273514</td>\n",
       "      <td>0.017124</td>\n",
       "      <td>0.002541</td>\n",
       "    </tr>\n",
       "    <tr>\n",
       "      <th>1498758072642281475</th>\n",
       "      <td>20220301</td>\n",
       "      <td>{'retweet_count': 54, 'reply_count': 0, 'like_...</td>\n",
       "      <td>RT @TexasScorecard: “Why are we providing them...</td>\n",
       "      <td>2022-03-01 20:32:24+00:00</td>\n",
       "      <td>{'mentions': [{'start': 3, 'end': 18, 'usernam...</td>\n",
       "      <td>963771619981193216</td>\n",
       "      <td>Twitter for iPhone</td>\n",
       "      <td>Allen B. West</td>\n",
       "      <td>@</td>\n",
       "      <td>1</td>\n",
       "      <td>Why are we providing them taxpayerfunded money...</td>\n",
       "      <td>0.574835</td>\n",
       "      <td>0.039536</td>\n",
       "      <td>0.021226</td>\n",
       "      <td>0.003192</td>\n",
       "      <td>0.164067</td>\n",
       "      <td>0.040670</td>\n",
       "      <td>0.156474</td>\n",
       "    </tr>\n",
       "    <tr>\n",
       "      <th>...</th>\n",
       "      <td>...</td>\n",
       "      <td>...</td>\n",
       "      <td>...</td>\n",
       "      <td>...</td>\n",
       "      <td>...</td>\n",
       "      <td>...</td>\n",
       "      <td>...</td>\n",
       "      <td>...</td>\n",
       "      <td>...</td>\n",
       "      <td>...</td>\n",
       "      <td>...</td>\n",
       "      <td>...</td>\n",
       "      <td>...</td>\n",
       "      <td>...</td>\n",
       "      <td>...</td>\n",
       "      <td>...</td>\n",
       "      <td>...</td>\n",
       "      <td>...</td>\n",
       "    </tr>\n",
       "    <tr>\n",
       "      <th>1518828068940492800</th>\n",
       "      <td>20220426</td>\n",
       "      <td>{'retweet_count': 1450, 'reply_count': 0, 'lik...</td>\n",
       "      <td>RT @TudorDixon: Here’s a totally random remind...</td>\n",
       "      <td>2022-04-26 05:43:24+00:00</td>\n",
       "      <td>{'annotations': [{'start': 54, 'end': 65, 'pro...</td>\n",
       "      <td>1188233470750932992</td>\n",
       "      <td>Twitter for Android</td>\n",
       "      <td>Tudor Dixon</td>\n",
       "      <td>@</td>\n",
       "      <td>1</td>\n",
       "      <td>Heres a totally random reminder that Dem Gover...</td>\n",
       "      <td>0.041786</td>\n",
       "      <td>0.006614</td>\n",
       "      <td>0.013973</td>\n",
       "      <td>0.002772</td>\n",
       "      <td>0.669795</td>\n",
       "      <td>0.008523</td>\n",
       "      <td>0.256538</td>\n",
       "    </tr>\n",
       "    <tr>\n",
       "      <th>1518803894071185411</th>\n",
       "      <td>20220426</td>\n",
       "      <td>{'retweet_count': 57, 'reply_count': 0, 'like_...</td>\n",
       "      <td>RT @TudorDixon: As long as strong leaders of g...</td>\n",
       "      <td>2022-04-26 04:07:21+00:00</td>\n",
       "      <td>{'annotations': [{'start': 85, 'end': 91, 'pro...</td>\n",
       "      <td>1105649994525233152</td>\n",
       "      <td>Twitter for iPad</td>\n",
       "      <td>Tudor Dixon</td>\n",
       "      <td>@</td>\n",
       "      <td>1</td>\n",
       "      <td>As long as strong leaders of good conscience s...</td>\n",
       "      <td>0.028477</td>\n",
       "      <td>0.006057</td>\n",
       "      <td>0.008613</td>\n",
       "      <td>0.041882</td>\n",
       "      <td>0.895615</td>\n",
       "      <td>0.010451</td>\n",
       "      <td>0.008907</td>\n",
       "    </tr>\n",
       "    <tr>\n",
       "      <th>1518803174932590593</th>\n",
       "      <td>20220426</td>\n",
       "      <td>{'retweet_count': 57, 'reply_count': 0, 'like_...</td>\n",
       "      <td>RT @TudorDixon: As long as strong leaders of g...</td>\n",
       "      <td>2022-04-26 04:04:29+00:00</td>\n",
       "      <td>{'annotations': [{'start': 85, 'end': 91, 'pro...</td>\n",
       "      <td>530964857</td>\n",
       "      <td>Twitter Web App</td>\n",
       "      <td>Tudor Dixon</td>\n",
       "      <td>@</td>\n",
       "      <td>1</td>\n",
       "      <td>As long as strong leaders of good conscience s...</td>\n",
       "      <td>0.028477</td>\n",
       "      <td>0.006057</td>\n",
       "      <td>0.008613</td>\n",
       "      <td>0.041882</td>\n",
       "      <td>0.895615</td>\n",
       "      <td>0.010451</td>\n",
       "      <td>0.008907</td>\n",
       "    </tr>\n",
       "    <tr>\n",
       "      <th>1518809718717788160</th>\n",
       "      <td>20220426</td>\n",
       "      <td>{'retweet_count': 0, 'reply_count': 0, 'like_c...</td>\n",
       "      <td>@TudorDixon @RyanAFournier @elonmusk Hey it’s ...</td>\n",
       "      <td>2022-04-26 04:30:29+00:00</td>\n",
       "      <td>{'annotations': [{'start': 93, 'end': 99, 'pro...</td>\n",
       "      <td>961910224998219776</td>\n",
       "      <td>Twitter for iPhone</td>\n",
       "      <td>Tudor Dixon</td>\n",
       "      <td>@</td>\n",
       "      <td>1</td>\n",
       "      <td>Hey its Mark! If you cant get a new computer c...</td>\n",
       "      <td>0.033184</td>\n",
       "      <td>0.007991</td>\n",
       "      <td>0.004434</td>\n",
       "      <td>0.115446</td>\n",
       "      <td>0.120787</td>\n",
       "      <td>0.130284</td>\n",
       "      <td>0.587873</td>\n",
       "    </tr>\n",
       "    <tr>\n",
       "      <th>1518741707638071297</th>\n",
       "      <td>20220426</td>\n",
       "      <td>{'retweet_count': 0, 'reply_count': 0, 'like_c...</td>\n",
       "      <td>@TudorDixon I’m from Michigan and you have my ...</td>\n",
       "      <td>2022-04-26 00:00:14+00:00</td>\n",
       "      <td>{'annotations': [{'start': 21, 'end': 28, 'pro...</td>\n",
       "      <td>1484705927622234112</td>\n",
       "      <td>Twitter for iPhone</td>\n",
       "      <td>Tudor Dixon</td>\n",
       "      <td>@</td>\n",
       "      <td>1</td>\n",
       "      <td>Im from Michigan and you have my vote</td>\n",
       "      <td>0.013270</td>\n",
       "      <td>0.003152</td>\n",
       "      <td>0.004887</td>\n",
       "      <td>0.055718</td>\n",
       "      <td>0.623582</td>\n",
       "      <td>0.027181</td>\n",
       "      <td>0.272211</td>\n",
       "    </tr>\n",
       "  </tbody>\n",
       "</table>\n",
       "<p>3400094 rows × 18 columns</p>\n",
       "</div>"
      ],
      "text/plain": [
       "                         Date  \\\n",
       "id                              \n",
       "1498757068538322944  20220301   \n",
       "1498757438773866498  20220301   \n",
       "1498757991507525633  20220301   \n",
       "1498758049510703115  20220301   \n",
       "1498758072642281475  20220301   \n",
       "...                       ...   \n",
       "1518828068940492800  20220426   \n",
       "1518803894071185411  20220426   \n",
       "1518803174932590593  20220426   \n",
       "1518809718717788160  20220426   \n",
       "1518741707638071297  20220426   \n",
       "\n",
       "                                                        public_metrics  \\\n",
       "id                                                                       \n",
       "1498757068538322944  {'retweet_count': 0, 'reply_count': 2, 'like_c...   \n",
       "1498757438773866498  {'retweet_count': 0, 'reply_count': 0, 'like_c...   \n",
       "1498757991507525633  {'retweet_count': 2, 'reply_count': 0, 'like_c...   \n",
       "1498758049510703115  {'retweet_count': 3, 'reply_count': 3, 'like_c...   \n",
       "1498758072642281475  {'retweet_count': 54, 'reply_count': 0, 'like_...   \n",
       "...                                                                ...   \n",
       "1518828068940492800  {'retweet_count': 1450, 'reply_count': 0, 'lik...   \n",
       "1518803894071185411  {'retweet_count': 57, 'reply_count': 0, 'like_...   \n",
       "1518803174932590593  {'retweet_count': 57, 'reply_count': 0, 'like_...   \n",
       "1518809718717788160  {'retweet_count': 0, 'reply_count': 0, 'like_c...   \n",
       "1518741707638071297  {'retweet_count': 0, 'reply_count': 0, 'like_c...   \n",
       "\n",
       "                                                                  text  \\\n",
       "id                                                                       \n",
       "1498757068538322944  .@AllenWest spotting in northwest Tarrant Coun...   \n",
       "1498757438773866498  @SippingTeTSdana @TruAmericanGal1 @AllenWest @...   \n",
       "1498757991507525633  RT @jdrichmond2020: 💥TEXAS💥 Get to the poles a...   \n",
       "1498758049510703115  Ignore the polls, vote @AllenWest @DonHuffines...   \n",
       "1498758072642281475  RT @TexasScorecard: “Why are we providing them...   \n",
       "...                                                                ...   \n",
       "1518828068940492800  RT @TudorDixon: Here’s a totally random remind...   \n",
       "1518803894071185411  RT @TudorDixon: As long as strong leaders of g...   \n",
       "1518803174932590593  RT @TudorDixon: As long as strong leaders of g...   \n",
       "1518809718717788160  @TudorDixon @RyanAFournier @elonmusk Hey it’s ...   \n",
       "1518741707638071297  @TudorDixon I’m from Michigan and you have my ...   \n",
       "\n",
       "                                    created_at  \\\n",
       "id                                               \n",
       "1498757068538322944  2022-03-01 20:28:25+00:00   \n",
       "1498757438773866498  2022-03-01 20:29:53+00:00   \n",
       "1498757991507525633  2022-03-01 20:32:05+00:00   \n",
       "1498758049510703115  2022-03-01 20:32:19+00:00   \n",
       "1498758072642281475  2022-03-01 20:32:24+00:00   \n",
       "...                                        ...   \n",
       "1518828068940492800  2022-04-26 05:43:24+00:00   \n",
       "1518803894071185411  2022-04-26 04:07:21+00:00   \n",
       "1518803174932590593  2022-04-26 04:04:29+00:00   \n",
       "1518809718717788160  2022-04-26 04:30:29+00:00   \n",
       "1518741707638071297  2022-04-26 00:00:14+00:00   \n",
       "\n",
       "                                                              entities  \\\n",
       "id                                                                       \n",
       "1498757068538322944  {'mentions': [{'start': 1, 'end': 11, 'usernam...   \n",
       "1498757438773866498  {'mentions': [{'start': 0, 'end': 16, 'usernam...   \n",
       "1498757991507525633  {'mentions': [{'start': 3, 'end': 18, 'usernam...   \n",
       "1498758049510703115  {'mentions': [{'start': 23, 'end': 33, 'userna...   \n",
       "1498758072642281475  {'mentions': [{'start': 3, 'end': 18, 'usernam...   \n",
       "...                                                                ...   \n",
       "1518828068940492800  {'annotations': [{'start': 54, 'end': 65, 'pro...   \n",
       "1518803894071185411  {'annotations': [{'start': 85, 'end': 91, 'pro...   \n",
       "1518803174932590593  {'annotations': [{'start': 85, 'end': 91, 'pro...   \n",
       "1518809718717788160  {'annotations': [{'start': 93, 'end': 99, 'pro...   \n",
       "1518741707638071297  {'annotations': [{'start': 21, 'end': 28, 'pro...   \n",
       "\n",
       "                               author_id               source     Candidates  \\\n",
       "id                                                                             \n",
       "1498757068538322944   877928155989905408  Twitter for Android  Allen B. West   \n",
       "1498757438773866498   777225267265822720   Twitter for iPhone  Allen B. West   \n",
       "1498757991507525633  1243278447511769088  Twitter for Android  Allen B. West   \n",
       "1498758049510703115   947921064927088640      Twitter Web App  Allen B. West   \n",
       "1498758072642281475   963771619981193216   Twitter for iPhone  Allen B. West   \n",
       "...                                  ...                  ...            ...   \n",
       "1518828068940492800  1188233470750932992  Twitter for Android    Tudor Dixon   \n",
       "1518803894071185411  1105649994525233152     Twitter for iPad    Tudor Dixon   \n",
       "1518803174932590593            530964857      Twitter Web App    Tudor Dixon   \n",
       "1518809718717788160   961910224998219776   Twitter for iPhone    Tudor Dixon   \n",
       "1518741707638071297  1484705927622234112   Twitter for iPhone    Tudor Dixon   \n",
       "\n",
       "                    method  credibility  \\\n",
       "id                                        \n",
       "1498757068538322944      @            1   \n",
       "1498757438773866498      @            1   \n",
       "1498757991507525633      @            1   \n",
       "1498758049510703115      @            1   \n",
       "1498758072642281475      @            1   \n",
       "...                    ...          ...   \n",
       "1518828068940492800      @            1   \n",
       "1518803894071185411      @            1   \n",
       "1518803174932590593      @            1   \n",
       "1518809718717788160      @            1   \n",
       "1518741707638071297      @            1   \n",
       "\n",
       "                                                               content  \\\n",
       "id                                                                       \n",
       "1498757068538322944               spotting in northwest Tarrant County   \n",
       "1498757438773866498  That is not herpes You want to see herpes then...   \n",
       "1498757991507525633  TEXAS Get to the poles and VOTE today forfor G...   \n",
       "1498758049510703115                             Ignore the polls, vote   \n",
       "1498758072642281475  Why are we providing them taxpayerfunded money...   \n",
       "...                                                                ...   \n",
       "1518828068940492800  Heres a totally random reminder that Dem Gover...   \n",
       "1518803894071185411  As long as strong leaders of good conscience s...   \n",
       "1518803174932590593  As long as strong leaders of good conscience s...   \n",
       "1518809718717788160  Hey its Mark! If you cant get a new computer c...   \n",
       "1518741707638071297              Im from Michigan and you have my vote   \n",
       "\n",
       "                        anger   disgust      fear       joy   neutral  \\\n",
       "id                                                                      \n",
       "1498757068538322944  0.018387  0.012563  0.023698  0.011592  0.665249   \n",
       "1498757438773866498  0.005952  0.009637  0.004996  0.002456  0.950248   \n",
       "1498757991507525633  0.011625  0.001941  0.007821  0.004354  0.891241   \n",
       "1498758049510703115  0.560520  0.113108  0.029981  0.003212  0.273514   \n",
       "1498758072642281475  0.574835  0.039536  0.021226  0.003192  0.164067   \n",
       "...                       ...       ...       ...       ...       ...   \n",
       "1518828068940492800  0.041786  0.006614  0.013973  0.002772  0.669795   \n",
       "1518803894071185411  0.028477  0.006057  0.008613  0.041882  0.895615   \n",
       "1518803174932590593  0.028477  0.006057  0.008613  0.041882  0.895615   \n",
       "1518809718717788160  0.033184  0.007991  0.004434  0.115446  0.120787   \n",
       "1518741707638071297  0.013270  0.003152  0.004887  0.055718  0.623582   \n",
       "\n",
       "                      sadness  surprise  \n",
       "id                                       \n",
       "1498757068538322944  0.059865  0.208646  \n",
       "1498757438773866498  0.005945  0.020767  \n",
       "1498757991507525633  0.008727  0.074291  \n",
       "1498758049510703115  0.017124  0.002541  \n",
       "1498758072642281475  0.040670  0.156474  \n",
       "...                       ...       ...  \n",
       "1518828068940492800  0.008523  0.256538  \n",
       "1518803894071185411  0.010451  0.008907  \n",
       "1518803174932590593  0.010451  0.008907  \n",
       "1518809718717788160  0.130284  0.587873  \n",
       "1518741707638071297  0.027181  0.272211  \n",
       "\n",
       "[3400094 rows x 18 columns]"
      ]
     },
     "execution_count": 4,
     "metadata": {},
     "output_type": "execute_result"
    }
   ],
   "source": [
    "df_tweets"
   ]
  },
  {
   "cell_type": "code",
   "execution_count": 8,
   "id": "4b4143cc",
   "metadata": {},
   "outputs": [
    {
     "data": {
      "text/html": [
       "<div>\n",
       "<style scoped>\n",
       "    .dataframe tbody tr th:only-of-type {\n",
       "        vertical-align: middle;\n",
       "    }\n",
       "\n",
       "    .dataframe tbody tr th {\n",
       "        vertical-align: top;\n",
       "    }\n",
       "\n",
       "    .dataframe thead th {\n",
       "        text-align: right;\n",
       "    }\n",
       "</style>\n",
       "<table border=\"1\" class=\"dataframe\">\n",
       "  <thead>\n",
       "    <tr style=\"text-align: right;\">\n",
       "      <th></th>\n",
       "      <th>anger</th>\n",
       "      <th>disgust</th>\n",
       "      <th>fear</th>\n",
       "      <th>joy</th>\n",
       "      <th>neutral</th>\n",
       "      <th>sadness</th>\n",
       "      <th>surprise</th>\n",
       "    </tr>\n",
       "  </thead>\n",
       "  <tbody>\n",
       "    <tr>\n",
       "      <th>count</th>\n",
       "      <td>3.400094e+06</td>\n",
       "      <td>3.400094e+06</td>\n",
       "      <td>3.400094e+06</td>\n",
       "      <td>3.400094e+06</td>\n",
       "      <td>3.400094e+06</td>\n",
       "      <td>3.400094e+06</td>\n",
       "      <td>3.400094e+06</td>\n",
       "    </tr>\n",
       "    <tr>\n",
       "      <th>mean</th>\n",
       "      <td>1.728726e-01</td>\n",
       "      <td>8.094208e-02</td>\n",
       "      <td>6.736237e-02</td>\n",
       "      <td>9.637846e-02</td>\n",
       "      <td>3.996648e-01</td>\n",
       "      <td>7.886341e-02</td>\n",
       "      <td>1.039163e-01</td>\n",
       "    </tr>\n",
       "    <tr>\n",
       "      <th>std</th>\n",
       "      <td>2.416113e-01</td>\n",
       "      <td>1.598933e-01</td>\n",
       "      <td>1.618930e-01</td>\n",
       "      <td>2.203612e-01</td>\n",
       "      <td>3.245486e-01</td>\n",
       "      <td>1.613449e-01</td>\n",
       "      <td>1.820905e-01</td>\n",
       "    </tr>\n",
       "    <tr>\n",
       "      <th>min</th>\n",
       "      <td>4.398618e-04</td>\n",
       "      <td>1.298558e-04</td>\n",
       "      <td>1.509283e-04</td>\n",
       "      <td>1.962055e-04</td>\n",
       "      <td>2.353722e-04</td>\n",
       "      <td>6.133813e-04</td>\n",
       "      <td>2.194154e-04</td>\n",
       "    </tr>\n",
       "    <tr>\n",
       "      <th>25%</th>\n",
       "      <td>1.471100e-02</td>\n",
       "      <td>5.521154e-03</td>\n",
       "      <td>4.406542e-03</td>\n",
       "      <td>3.229303e-03</td>\n",
       "      <td>8.506474e-02</td>\n",
       "      <td>8.617053e-03</td>\n",
       "      <td>9.379803e-03</td>\n",
       "    </tr>\n",
       "    <tr>\n",
       "      <th>50%</th>\n",
       "      <td>4.789491e-02</td>\n",
       "      <td>1.824804e-02</td>\n",
       "      <td>1.048751e-02</td>\n",
       "      <td>7.985510e-03</td>\n",
       "      <td>3.230544e-01</td>\n",
       "      <td>1.976202e-02</td>\n",
       "      <td>3.000925e-02</td>\n",
       "    </tr>\n",
       "    <tr>\n",
       "      <th>75%</th>\n",
       "      <td>2.411784e-01</td>\n",
       "      <td>7.650410e-02</td>\n",
       "      <td>3.707775e-02</td>\n",
       "      <td>4.079830e-02</td>\n",
       "      <td>7.199372e-01</td>\n",
       "      <td>6.079676e-02</td>\n",
       "      <td>9.739839e-02</td>\n",
       "    </tr>\n",
       "    <tr>\n",
       "      <th>max</th>\n",
       "      <td>9.943969e-01</td>\n",
       "      <td>9.918109e-01</td>\n",
       "      <td>9.957425e-01</td>\n",
       "      <td>9.944656e-01</td>\n",
       "      <td>9.800055e-01</td>\n",
       "      <td>9.936942e-01</td>\n",
       "      <td>9.877996e-01</td>\n",
       "    </tr>\n",
       "  </tbody>\n",
       "</table>\n",
       "</div>"
      ],
      "text/plain": [
       "              anger       disgust          fear           joy       neutral  \\\n",
       "count  3.400094e+06  3.400094e+06  3.400094e+06  3.400094e+06  3.400094e+06   \n",
       "mean   1.728726e-01  8.094208e-02  6.736237e-02  9.637846e-02  3.996648e-01   \n",
       "std    2.416113e-01  1.598933e-01  1.618930e-01  2.203612e-01  3.245486e-01   \n",
       "min    4.398618e-04  1.298558e-04  1.509283e-04  1.962055e-04  2.353722e-04   \n",
       "25%    1.471100e-02  5.521154e-03  4.406542e-03  3.229303e-03  8.506474e-02   \n",
       "50%    4.789491e-02  1.824804e-02  1.048751e-02  7.985510e-03  3.230544e-01   \n",
       "75%    2.411784e-01  7.650410e-02  3.707775e-02  4.079830e-02  7.199372e-01   \n",
       "max    9.943969e-01  9.918109e-01  9.957425e-01  9.944656e-01  9.800055e-01   \n",
       "\n",
       "            sadness      surprise  \n",
       "count  3.400094e+06  3.400094e+06  \n",
       "mean   7.886341e-02  1.039163e-01  \n",
       "std    1.613449e-01  1.820905e-01  \n",
       "min    6.133813e-04  2.194154e-04  \n",
       "25%    8.617053e-03  9.379803e-03  \n",
       "50%    1.976202e-02  3.000925e-02  \n",
       "75%    6.079676e-02  9.739839e-02  \n",
       "max    9.936942e-01  9.877996e-01  "
      ]
     },
     "execution_count": 8,
     "metadata": {},
     "output_type": "execute_result"
    }
   ],
   "source": [
    "col = ['anger','disgust', 'fear', 'joy', 'neutral', 'sadness', 'surprise']\n",
    "df_tweets[col].describe()"
   ]
  },
  {
   "cell_type": "code",
   "execution_count": 16,
   "id": "b8de1869",
   "metadata": {},
   "outputs": [
    {
     "data": {
      "text/html": [
       "<div>\n",
       "<style scoped>\n",
       "    .dataframe tbody tr th:only-of-type {\n",
       "        vertical-align: middle;\n",
       "    }\n",
       "\n",
       "    .dataframe tbody tr th {\n",
       "        vertical-align: top;\n",
       "    }\n",
       "\n",
       "    .dataframe thead th {\n",
       "        text-align: right;\n",
       "    }\n",
       "</style>\n",
       "<table border=\"1\" class=\"dataframe\">\n",
       "  <thead>\n",
       "    <tr style=\"text-align: right;\">\n",
       "      <th></th>\n",
       "      <th>anger</th>\n",
       "      <th>disgust</th>\n",
       "      <th>fear</th>\n",
       "      <th>joy</th>\n",
       "      <th>neutral</th>\n",
       "      <th>sadness</th>\n",
       "      <th>surprise</th>\n",
       "    </tr>\n",
       "  </thead>\n",
       "  <tbody>\n",
       "    <tr>\n",
       "      <th>count</th>\n",
       "      <td>7474.000000</td>\n",
       "      <td>7474.000000</td>\n",
       "      <td>7474.000000</td>\n",
       "      <td>7474.000000</td>\n",
       "      <td>7474.000000</td>\n",
       "      <td>7474.000000</td>\n",
       "      <td>7474.000000</td>\n",
       "    </tr>\n",
       "    <tr>\n",
       "      <th>mean</th>\n",
       "      <td>0.170492</td>\n",
       "      <td>0.063285</td>\n",
       "      <td>0.094863</td>\n",
       "      <td>0.057738</td>\n",
       "      <td>0.322960</td>\n",
       "      <td>0.200440</td>\n",
       "      <td>0.090221</td>\n",
       "    </tr>\n",
       "    <tr>\n",
       "      <th>std</th>\n",
       "      <td>0.226152</td>\n",
       "      <td>0.127676</td>\n",
       "      <td>0.177256</td>\n",
       "      <td>0.146362</td>\n",
       "      <td>0.282673</td>\n",
       "      <td>0.275053</td>\n",
       "      <td>0.155674</td>\n",
       "    </tr>\n",
       "    <tr>\n",
       "      <th>min</th>\n",
       "      <td>0.000878</td>\n",
       "      <td>0.000310</td>\n",
       "      <td>0.000248</td>\n",
       "      <td>0.000279</td>\n",
       "      <td>0.000760</td>\n",
       "      <td>0.001078</td>\n",
       "      <td>0.000274</td>\n",
       "    </tr>\n",
       "    <tr>\n",
       "      <th>25%</th>\n",
       "      <td>0.030854</td>\n",
       "      <td>0.007516</td>\n",
       "      <td>0.008728</td>\n",
       "      <td>0.003967</td>\n",
       "      <td>0.099436</td>\n",
       "      <td>0.012967</td>\n",
       "      <td>0.015929</td>\n",
       "    </tr>\n",
       "    <tr>\n",
       "      <th>50%</th>\n",
       "      <td>0.077136</td>\n",
       "      <td>0.016895</td>\n",
       "      <td>0.028165</td>\n",
       "      <td>0.005819</td>\n",
       "      <td>0.214994</td>\n",
       "      <td>0.046319</td>\n",
       "      <td>0.025818</td>\n",
       "    </tr>\n",
       "    <tr>\n",
       "      <th>75%</th>\n",
       "      <td>0.208222</td>\n",
       "      <td>0.061523</td>\n",
       "      <td>0.086715</td>\n",
       "      <td>0.021212</td>\n",
       "      <td>0.500720</td>\n",
       "      <td>0.285285</td>\n",
       "      <td>0.085035</td>\n",
       "    </tr>\n",
       "    <tr>\n",
       "      <th>max</th>\n",
       "      <td>0.994242</td>\n",
       "      <td>0.990815</td>\n",
       "      <td>0.992023</td>\n",
       "      <td>0.979957</td>\n",
       "      <td>0.975447</td>\n",
       "      <td>0.983222</td>\n",
       "      <td>0.984134</td>\n",
       "    </tr>\n",
       "  </tbody>\n",
       "</table>\n",
       "</div>"
      ],
      "text/plain": [
       "             anger      disgust         fear          joy      neutral  \\\n",
       "count  7474.000000  7474.000000  7474.000000  7474.000000  7474.000000   \n",
       "mean      0.170492     0.063285     0.094863     0.057738     0.322960   \n",
       "std       0.226152     0.127676     0.177256     0.146362     0.282673   \n",
       "min       0.000878     0.000310     0.000248     0.000279     0.000760   \n",
       "25%       0.030854     0.007516     0.008728     0.003967     0.099436   \n",
       "50%       0.077136     0.016895     0.028165     0.005819     0.214994   \n",
       "75%       0.208222     0.061523     0.086715     0.021212     0.500720   \n",
       "max       0.994242     0.990815     0.992023     0.979957     0.975447   \n",
       "\n",
       "           sadness     surprise  \n",
       "count  7474.000000  7474.000000  \n",
       "mean      0.200440     0.090221  \n",
       "std       0.275053     0.155674  \n",
       "min       0.001078     0.000274  \n",
       "25%       0.012967     0.015929  \n",
       "50%       0.046319     0.025818  \n",
       "75%       0.285285     0.085035  \n",
       "max       0.983222     0.984134  "
      ]
     },
     "execution_count": 16,
     "metadata": {},
     "output_type": "execute_result"
    }
   ],
   "source": [
    "sus_domain_tweets = df_tweets[df_tweets.credibility==0]\n",
    "sus_domain_tweets[col].describe()"
   ]
  },
  {
   "cell_type": "code",
   "execution_count": 26,
   "id": "4a0869a3",
   "metadata": {},
   "outputs": [
    {
     "data": {
      "text/html": [
       "<div>\n",
       "<style scoped>\n",
       "    .dataframe tbody tr th:only-of-type {\n",
       "        vertical-align: middle;\n",
       "    }\n",
       "\n",
       "    .dataframe tbody tr th {\n",
       "        vertical-align: top;\n",
       "    }\n",
       "\n",
       "    .dataframe thead th {\n",
       "        text-align: right;\n",
       "    }\n",
       "</style>\n",
       "<table border=\"1\" class=\"dataframe\">\n",
       "  <thead>\n",
       "    <tr style=\"text-align: right;\">\n",
       "      <th></th>\n",
       "      <th>anger</th>\n",
       "      <th>disgust</th>\n",
       "      <th>fear</th>\n",
       "      <th>joy</th>\n",
       "      <th>neutral</th>\n",
       "      <th>sadness</th>\n",
       "      <th>surprise</th>\n",
       "    </tr>\n",
       "  </thead>\n",
       "  <tbody>\n",
       "    <tr>\n",
       "      <th>count</th>\n",
       "      <td>15294.000000</td>\n",
       "      <td>15294.000000</td>\n",
       "      <td>15294.000000</td>\n",
       "      <td>15294.000000</td>\n",
       "      <td>15294.000000</td>\n",
       "      <td>15294.000000</td>\n",
       "      <td>15294.000000</td>\n",
       "    </tr>\n",
       "    <tr>\n",
       "      <th>mean</th>\n",
       "      <td>0.155636</td>\n",
       "      <td>0.060936</td>\n",
       "      <td>0.074317</td>\n",
       "      <td>0.134366</td>\n",
       "      <td>0.402425</td>\n",
       "      <td>0.079780</td>\n",
       "      <td>0.092540</td>\n",
       "    </tr>\n",
       "    <tr>\n",
       "      <th>std</th>\n",
       "      <td>0.232759</td>\n",
       "      <td>0.137372</td>\n",
       "      <td>0.171319</td>\n",
       "      <td>0.263398</td>\n",
       "      <td>0.324607</td>\n",
       "      <td>0.161990</td>\n",
       "      <td>0.166638</td>\n",
       "    </tr>\n",
       "    <tr>\n",
       "      <th>min</th>\n",
       "      <td>0.000564</td>\n",
       "      <td>0.000215</td>\n",
       "      <td>0.000184</td>\n",
       "      <td>0.000254</td>\n",
       "      <td>0.000369</td>\n",
       "      <td>0.000811</td>\n",
       "      <td>0.000303</td>\n",
       "    </tr>\n",
       "    <tr>\n",
       "      <th>25%</th>\n",
       "      <td>0.012088</td>\n",
       "      <td>0.004121</td>\n",
       "      <td>0.004364</td>\n",
       "      <td>0.003592</td>\n",
       "      <td>0.085203</td>\n",
       "      <td>0.008285</td>\n",
       "      <td>0.009019</td>\n",
       "    </tr>\n",
       "    <tr>\n",
       "      <th>50%</th>\n",
       "      <td>0.039038</td>\n",
       "      <td>0.012172</td>\n",
       "      <td>0.011401</td>\n",
       "      <td>0.010512</td>\n",
       "      <td>0.339827</td>\n",
       "      <td>0.019307</td>\n",
       "      <td>0.027396</td>\n",
       "    </tr>\n",
       "    <tr>\n",
       "      <th>75%</th>\n",
       "      <td>0.187139</td>\n",
       "      <td>0.046512</td>\n",
       "      <td>0.044540</td>\n",
       "      <td>0.090220</td>\n",
       "      <td>0.718513</td>\n",
       "      <td>0.061969</td>\n",
       "      <td>0.086192</td>\n",
       "    </tr>\n",
       "    <tr>\n",
       "      <th>max</th>\n",
       "      <td>0.991049</td>\n",
       "      <td>0.989150</td>\n",
       "      <td>0.993385</td>\n",
       "      <td>0.993156</td>\n",
       "      <td>0.974513</td>\n",
       "      <td>0.989717</td>\n",
       "      <td>0.983914</td>\n",
       "    </tr>\n",
       "  </tbody>\n",
       "</table>\n",
       "</div>"
      ],
      "text/plain": [
       "              anger       disgust          fear           joy       neutral  \\\n",
       "count  15294.000000  15294.000000  15294.000000  15294.000000  15294.000000   \n",
       "mean       0.155636      0.060936      0.074317      0.134366      0.402425   \n",
       "std        0.232759      0.137372      0.171319      0.263398      0.324607   \n",
       "min        0.000564      0.000215      0.000184      0.000254      0.000369   \n",
       "25%        0.012088      0.004121      0.004364      0.003592      0.085203   \n",
       "50%        0.039038      0.012172      0.011401      0.010512      0.339827   \n",
       "75%        0.187139      0.046512      0.044540      0.090220      0.718513   \n",
       "max        0.991049      0.989150      0.993385      0.993156      0.974513   \n",
       "\n",
       "            sadness      surprise  \n",
       "count  15294.000000  15294.000000  \n",
       "mean       0.079780      0.092540  \n",
       "std        0.161990      0.166638  \n",
       "min        0.000811      0.000303  \n",
       "25%        0.008285      0.009019  \n",
       "50%        0.019307      0.027396  \n",
       "75%        0.061969      0.086192  \n",
       "max        0.989717      0.983914  "
      ]
     },
     "execution_count": 26,
     "metadata": {},
     "output_type": "execute_result"
    }
   ],
   "source": [
    "sus_user_tweets = df_tweets[df_tweets[\"author_id\"].isin(df_sus_users.index)]\n",
    "sus_user_tweets[col].describe()"
   ]
  }
 ],
 "metadata": {
  "kernelspec": {
   "display_name": "Python 3 (ipykernel)",
   "language": "python",
   "name": "python3"
  },
  "language_info": {
   "codemirror_mode": {
    "name": "ipython",
    "version": 3
   },
   "file_extension": ".py",
   "mimetype": "text/x-python",
   "name": "python",
   "nbconvert_exporter": "python",
   "pygments_lexer": "ipython3",
   "version": "3.9.0"
  }
 },
 "nbformat": 4,
 "nbformat_minor": 5
}
